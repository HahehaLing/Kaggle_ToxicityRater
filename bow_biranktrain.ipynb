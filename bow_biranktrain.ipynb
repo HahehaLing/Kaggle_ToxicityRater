{
  "cells": [
    {
      "cell_type": "markdown",
      "metadata": {
        "id": "KnUPQ03ozgN6"
      },
      "source": [
        "# Comment Toxicity Severity Rater\n",
        "- group by the same comment and find out if that comment is more often rated as more/ less toxic \n",
        "- transform the input data to be more / less toxic 0 and 1 // train on these\n"
      ]
    },
    {
      "cell_type": "code",
      "execution_count": 1,
      "metadata": {
        "colab": {
          "base_uri": "https://localhost:8080/"
        },
        "id": "IR61GQ1Qywzb",
        "outputId": "f4f69536-69eb-49c3-8f1e-2dad9fe029e5"
      },
      "outputs": [
        {
          "output_type": "stream",
          "name": "stdout",
          "text": [
            "Requirement already satisfied: joblib in /usr/local/lib/python3.7/dist-packages (1.1.0)\n",
            "Requirement already satisfied: scikit-learn in /usr/local/lib/python3.7/dist-packages (1.0.2)\n",
            "Requirement already satisfied: numpy>=1.14.6 in /usr/local/lib/python3.7/dist-packages (from scikit-learn) (1.21.5)\n",
            "Requirement already satisfied: scipy>=1.1.0 in /usr/local/lib/python3.7/dist-packages (from scikit-learn) (1.4.1)\n",
            "Requirement already satisfied: threadpoolctl>=2.0.0 in /usr/local/lib/python3.7/dist-packages (from scikit-learn) (3.1.0)\n",
            "Requirement already satisfied: joblib>=0.11 in /usr/local/lib/python3.7/dist-packages (from scikit-learn) (1.1.0)\n",
            "Collecting tweet-preprocessor\n",
            "  Downloading tweet_preprocessor-0.6.0-py3-none-any.whl (27 kB)\n",
            "Installing collected packages: tweet-preprocessor\n",
            "Successfully installed tweet-preprocessor-0.6.0\n"
          ]
        }
      ],
      "source": [
        "#!pip install alt-profanity-check\n",
        "!pip install joblib\n",
        "!pip install scikit-learn\n",
        "#install tweet-preprocessor to clean tweets\n",
        "!pip install tweet-preprocessor\n"
      ]
    },
    {
      "cell_type": "code",
      "execution_count": 2,
      "metadata": {
        "id": "JK2ClqlvzPs7"
      },
      "outputs": [],
      "source": [
        "import sklearn\n",
        "import numpy as np\n",
        "import pandas as pd\n",
        "import matplotlib.pyplot as plt\n",
        "import random\n"
      ]
    },
    {
      "cell_type": "code",
      "execution_count": 3,
      "metadata": {
        "id": "YBi80m2m0wO4"
      },
      "outputs": [],
      "source": [
        "# remove special characters using the regular expression library\n",
        "# updated with . and = \n",
        "import re\n",
        "\n",
        "#set up punctuations we want to be replaced\n",
        "REPLACE_NO_SPACE = re.compile(\"(\\*)|(\\=\\=)|(\\~) | (\\=) | (\\.\\.\\.) |(\\;)|(\\:)|(\\!)|(\\')|(\\?)|(\\,)|(\\\")|(\\|)|(\\()|(\\))|(\\[)|(\\])|(\\%)|(\\$)|(\\>)|(\\<)|(\\{)|(\\})\")\n",
        "REPLACE_WITH_SPACE = re.compile(\" (<br\\s/><br\\s/?)| (\\n\\n) | (\\n) |(\\.) |(-)|(/)|(:). \")\n",
        "\n",
        "#re.escape (* )"
      ]
    },
    {
      "cell_type": "markdown",
      "metadata": {
        "id": "FaAnB1DV30mq"
      },
      "source": [
        "# Regex improvement / suggestions from Natalie:\n",
        "re.sub() // natalie uses this more often\n",
        "\n",
        "re.escape //regex has a method to escape the char properly \n",
        "\n",
        "gridsearchcv() // can be slow, if have a few val, can use \n",
        "\n",
        "randomsearch() // possible range to test // faster "
      ]
    },
    {
      "cell_type": "code",
      "execution_count": 4,
      "metadata": {
        "id": "NsFs8bzc0ylC"
      },
      "outputs": [],
      "source": [
        "import preprocessor as p\n",
        "\n",
        "# custum function to clean the dataset (combining tweet_preprocessor and reguar expression)\n",
        "def clean_tweets(df):\n",
        "  tempArr = []\n",
        "  for line in df:\n",
        "    # send to tweet_processor\n",
        "    tmpL = p.clean(line)\n",
        "    # remove puctuation\n",
        "    tmpL = REPLACE_NO_SPACE.sub(\"\", tmpL.lower()) # convert all tweets to lower cases\n",
        "    tmpL = REPLACE_WITH_SPACE.sub(\" \", tmpL)\n",
        "    tempArr.append(tmpL)\n",
        "  return tempArr"
      ]
    },
    {
      "cell_type": "code",
      "execution_count": 5,
      "metadata": {
        "id": "jdxdQ2Fz00L3"
      },
      "outputs": [],
      "source": [
        "original_data = pd.read_csv(\"./data/validation_data.csv\")\n",
        "\n",
        "data_to_test = pd.read_csv('./data/comments_to_score.csv')"
      ]
    },
    {
      "cell_type": "code",
      "execution_count": 6,
      "metadata": {
        "colab": {
          "base_uri": "https://localhost:8080/",
          "height": 206
        },
        "id": "Jcgva1U5yJYN",
        "outputId": "ce5989bd-6090-47e4-91ee-166cdd3fda6d"
      },
      "outputs": [
        {
          "output_type": "execute_result",
          "data": {
            "text/html": [
              "\n",
              "  <div id=\"df-02c3f4e1-99b7-4b54-a603-f42dbabb7896\">\n",
              "    <div class=\"colab-df-container\">\n",
              "      <div>\n",
              "<style scoped>\n",
              "    .dataframe tbody tr th:only-of-type {\n",
              "        vertical-align: middle;\n",
              "    }\n",
              "\n",
              "    .dataframe tbody tr th {\n",
              "        vertical-align: top;\n",
              "    }\n",
              "\n",
              "    .dataframe thead th {\n",
              "        text-align: right;\n",
              "    }\n",
              "</style>\n",
              "<table border=\"1\" class=\"dataframe\">\n",
              "  <thead>\n",
              "    <tr style=\"text-align: right;\">\n",
              "      <th></th>\n",
              "      <th>worker</th>\n",
              "      <th>less_toxic</th>\n",
              "      <th>more_toxic</th>\n",
              "    </tr>\n",
              "  </thead>\n",
              "  <tbody>\n",
              "    <tr>\n",
              "      <th>0</th>\n",
              "      <td>313</td>\n",
              "      <td>This article sucks \\n\\nwoo woo wooooooo</td>\n",
              "      <td>WHAT!!!!!!!!?!?!!?!?!!?!?!?!?!!!!!!!!!!!!!!!!!...</td>\n",
              "    </tr>\n",
              "    <tr>\n",
              "      <th>1</th>\n",
              "      <td>188</td>\n",
              "      <td>\"And yes, people should recognize that but the...</td>\n",
              "      <td>Daphne Guinness \\n\\nTop of the mornin' my fav...</td>\n",
              "    </tr>\n",
              "    <tr>\n",
              "      <th>2</th>\n",
              "      <td>82</td>\n",
              "      <td>Western Media?\\n\\nYup, because every crime in...</td>\n",
              "      <td>\"Atom you don't believe actual photos of mastu...</td>\n",
              "    </tr>\n",
              "    <tr>\n",
              "      <th>3</th>\n",
              "      <td>347</td>\n",
              "      <td>And you removed it! You numbskull! I don't car...</td>\n",
              "      <td>You seem to have sand in your vagina.\\n\\nMight...</td>\n",
              "    </tr>\n",
              "    <tr>\n",
              "      <th>4</th>\n",
              "      <td>539</td>\n",
              "      <td>smelly vagina \\n\\nBluerasberry why don't you ...</td>\n",
              "      <td>hey \\n\\nway to support nazis, you racist</td>\n",
              "    </tr>\n",
              "  </tbody>\n",
              "</table>\n",
              "</div>\n",
              "      <button class=\"colab-df-convert\" onclick=\"convertToInteractive('df-02c3f4e1-99b7-4b54-a603-f42dbabb7896')\"\n",
              "              title=\"Convert this dataframe to an interactive table.\"\n",
              "              style=\"display:none;\">\n",
              "        \n",
              "  <svg xmlns=\"http://www.w3.org/2000/svg\" height=\"24px\"viewBox=\"0 0 24 24\"\n",
              "       width=\"24px\">\n",
              "    <path d=\"M0 0h24v24H0V0z\" fill=\"none\"/>\n",
              "    <path d=\"M18.56 5.44l.94 2.06.94-2.06 2.06-.94-2.06-.94-.94-2.06-.94 2.06-2.06.94zm-11 1L8.5 8.5l.94-2.06 2.06-.94-2.06-.94L8.5 2.5l-.94 2.06-2.06.94zm10 10l.94 2.06.94-2.06 2.06-.94-2.06-.94-.94-2.06-.94 2.06-2.06.94z\"/><path d=\"M17.41 7.96l-1.37-1.37c-.4-.4-.92-.59-1.43-.59-.52 0-1.04.2-1.43.59L10.3 9.45l-7.72 7.72c-.78.78-.78 2.05 0 2.83L4 21.41c.39.39.9.59 1.41.59.51 0 1.02-.2 1.41-.59l7.78-7.78 2.81-2.81c.8-.78.8-2.07 0-2.86zM5.41 20L4 18.59l7.72-7.72 1.47 1.35L5.41 20z\"/>\n",
              "  </svg>\n",
              "      </button>\n",
              "      \n",
              "  <style>\n",
              "    .colab-df-container {\n",
              "      display:flex;\n",
              "      flex-wrap:wrap;\n",
              "      gap: 12px;\n",
              "    }\n",
              "\n",
              "    .colab-df-convert {\n",
              "      background-color: #E8F0FE;\n",
              "      border: none;\n",
              "      border-radius: 50%;\n",
              "      cursor: pointer;\n",
              "      display: none;\n",
              "      fill: #1967D2;\n",
              "      height: 32px;\n",
              "      padding: 0 0 0 0;\n",
              "      width: 32px;\n",
              "    }\n",
              "\n",
              "    .colab-df-convert:hover {\n",
              "      background-color: #E2EBFA;\n",
              "      box-shadow: 0px 1px 2px rgba(60, 64, 67, 0.3), 0px 1px 3px 1px rgba(60, 64, 67, 0.15);\n",
              "      fill: #174EA6;\n",
              "    }\n",
              "\n",
              "    [theme=dark] .colab-df-convert {\n",
              "      background-color: #3B4455;\n",
              "      fill: #D2E3FC;\n",
              "    }\n",
              "\n",
              "    [theme=dark] .colab-df-convert:hover {\n",
              "      background-color: #434B5C;\n",
              "      box-shadow: 0px 1px 3px 1px rgba(0, 0, 0, 0.15);\n",
              "      filter: drop-shadow(0px 1px 2px rgba(0, 0, 0, 0.3));\n",
              "      fill: #FFFFFF;\n",
              "    }\n",
              "  </style>\n",
              "\n",
              "      <script>\n",
              "        const buttonEl =\n",
              "          document.querySelector('#df-02c3f4e1-99b7-4b54-a603-f42dbabb7896 button.colab-df-convert');\n",
              "        buttonEl.style.display =\n",
              "          google.colab.kernel.accessAllowed ? 'block' : 'none';\n",
              "\n",
              "        async function convertToInteractive(key) {\n",
              "          const element = document.querySelector('#df-02c3f4e1-99b7-4b54-a603-f42dbabb7896');\n",
              "          const dataTable =\n",
              "            await google.colab.kernel.invokeFunction('convertToInteractive',\n",
              "                                                     [key], {});\n",
              "          if (!dataTable) return;\n",
              "\n",
              "          const docLinkHtml = 'Like what you see? Visit the ' +\n",
              "            '<a target=\"_blank\" href=https://colab.research.google.com/notebooks/data_table.ipynb>data table notebook</a>'\n",
              "            + ' to learn more about interactive tables.';\n",
              "          element.innerHTML = '';\n",
              "          dataTable['output_type'] = 'display_data';\n",
              "          await google.colab.output.renderOutput(dataTable, element);\n",
              "          const docLink = document.createElement('div');\n",
              "          docLink.innerHTML = docLinkHtml;\n",
              "          element.appendChild(docLink);\n",
              "        }\n",
              "      </script>\n",
              "    </div>\n",
              "  </div>\n",
              "  "
            ],
            "text/plain": [
              "   worker                                         less_toxic  \\\n",
              "0     313            This article sucks \\n\\nwoo woo wooooooo   \n",
              "1     188  \"And yes, people should recognize that but the...   \n",
              "2      82   Western Media?\\n\\nYup, because every crime in...   \n",
              "3     347  And you removed it! You numbskull! I don't car...   \n",
              "4     539   smelly vagina \\n\\nBluerasberry why don't you ...   \n",
              "\n",
              "                                          more_toxic  \n",
              "0  WHAT!!!!!!!!?!?!!?!?!!?!?!?!?!!!!!!!!!!!!!!!!!...  \n",
              "1   Daphne Guinness \\n\\nTop of the mornin' my fav...  \n",
              "2  \"Atom you don't believe actual photos of mastu...  \n",
              "3  You seem to have sand in your vagina.\\n\\nMight...  \n",
              "4           hey \\n\\nway to support nazis, you racist  "
            ]
          },
          "metadata": {},
          "execution_count": 6
        }
      ],
      "source": [
        "pd.set_option('display.max_columns', None)\n",
        "\n",
        "original_data.head()\n",
        "\n"
      ]
    },
    {
      "cell_type": "code",
      "execution_count": 7,
      "metadata": {
        "id": "5beXEglKyJYO"
      },
      "outputs": [],
      "source": [
        "#original_data.iloc[0]\n",
        "#original_data['more_toxic'][0]"
      ]
    },
    {
      "cell_type": "code",
      "execution_count": 8,
      "metadata": {
        "colab": {
          "base_uri": "https://localhost:8080/",
          "height": 424
        },
        "id": "4Ned_u-3yJYO",
        "outputId": "a597795c-a9a1-4d5a-d91d-a9ee40ab14ec"
      },
      "outputs": [
        {
          "output_type": "execute_result",
          "data": {
            "text/html": [
              "\n",
              "  <div id=\"df-fddeaf2d-5e1f-4714-bc3e-c09b259f7c2a\">\n",
              "    <div class=\"colab-df-container\">\n",
              "      <div>\n",
              "<style scoped>\n",
              "    .dataframe tbody tr th:only-of-type {\n",
              "        vertical-align: middle;\n",
              "    }\n",
              "\n",
              "    .dataframe tbody tr th {\n",
              "        vertical-align: top;\n",
              "    }\n",
              "\n",
              "    .dataframe thead th {\n",
              "        text-align: right;\n",
              "    }\n",
              "</style>\n",
              "<table border=\"1\" class=\"dataframe\">\n",
              "  <thead>\n",
              "    <tr style=\"text-align: right;\">\n",
              "      <th></th>\n",
              "      <th>worker</th>\n",
              "      <th>less_toxic</th>\n",
              "      <th>more_toxic</th>\n",
              "    </tr>\n",
              "  </thead>\n",
              "  <tbody>\n",
              "    <tr>\n",
              "      <th>0</th>\n",
              "      <td>313</td>\n",
              "      <td>This article sucks \\n\\nwoo woo wooooooo</td>\n",
              "      <td>WHAT!!!!!!!!?!?!!?!?!!?!?!?!?!!!!!!!!!!!!!!!!!...</td>\n",
              "    </tr>\n",
              "    <tr>\n",
              "      <th>1</th>\n",
              "      <td>188</td>\n",
              "      <td>\"And yes, people should recognize that but the...</td>\n",
              "      <td>Daphne Guinness \\n\\nTop of the mornin' my fav...</td>\n",
              "    </tr>\n",
              "    <tr>\n",
              "      <th>2</th>\n",
              "      <td>82</td>\n",
              "      <td>Western Media?\\n\\nYup, because every crime in...</td>\n",
              "      <td>\"Atom you don't believe actual photos of mastu...</td>\n",
              "    </tr>\n",
              "    <tr>\n",
              "      <th>3</th>\n",
              "      <td>347</td>\n",
              "      <td>And you removed it! You numbskull! I don't car...</td>\n",
              "      <td>You seem to have sand in your vagina.\\n\\nMight...</td>\n",
              "    </tr>\n",
              "    <tr>\n",
              "      <th>4</th>\n",
              "      <td>539</td>\n",
              "      <td>smelly vagina \\n\\nBluerasberry why don't you ...</td>\n",
              "      <td>hey \\n\\nway to support nazis, you racist</td>\n",
              "    </tr>\n",
              "    <tr>\n",
              "      <th>...</th>\n",
              "      <td>...</td>\n",
              "      <td>...</td>\n",
              "      <td>...</td>\n",
              "    </tr>\n",
              "    <tr>\n",
              "      <th>30103</th>\n",
              "      <td>461</td>\n",
              "      <td>I'm sorry. I'm not an admin. I will give you t...</td>\n",
              "      <td>get out my large penis</td>\n",
              "    </tr>\n",
              "    <tr>\n",
              "      <th>30104</th>\n",
              "      <td>527</td>\n",
              "      <td>I'm sorry. I'm not an admin. I will give you t...</td>\n",
              "      <td>get out my large penis</td>\n",
              "    </tr>\n",
              "    <tr>\n",
              "      <th>30105</th>\n",
              "      <td>352</td>\n",
              "      <td>wow...\\nare you out of your mind, how was my e...</td>\n",
              "      <td>Piss off you slant eyed-gook</td>\n",
              "    </tr>\n",
              "    <tr>\n",
              "      <th>30106</th>\n",
              "      <td>311</td>\n",
              "      <td>wow...\\nare you out of your mind, how was my e...</td>\n",
              "      <td>Piss off you slant eyed-gook</td>\n",
              "    </tr>\n",
              "    <tr>\n",
              "      <th>30107</th>\n",
              "      <td>54</td>\n",
              "      <td>wow...\\nare you out of your mind, how was my e...</td>\n",
              "      <td>Piss off you slant eyed-gook</td>\n",
              "    </tr>\n",
              "  </tbody>\n",
              "</table>\n",
              "<p>30108 rows × 3 columns</p>\n",
              "</div>\n",
              "      <button class=\"colab-df-convert\" onclick=\"convertToInteractive('df-fddeaf2d-5e1f-4714-bc3e-c09b259f7c2a')\"\n",
              "              title=\"Convert this dataframe to an interactive table.\"\n",
              "              style=\"display:none;\">\n",
              "        \n",
              "  <svg xmlns=\"http://www.w3.org/2000/svg\" height=\"24px\"viewBox=\"0 0 24 24\"\n",
              "       width=\"24px\">\n",
              "    <path d=\"M0 0h24v24H0V0z\" fill=\"none\"/>\n",
              "    <path d=\"M18.56 5.44l.94 2.06.94-2.06 2.06-.94-2.06-.94-.94-2.06-.94 2.06-2.06.94zm-11 1L8.5 8.5l.94-2.06 2.06-.94-2.06-.94L8.5 2.5l-.94 2.06-2.06.94zm10 10l.94 2.06.94-2.06 2.06-.94-2.06-.94-.94-2.06-.94 2.06-2.06.94z\"/><path d=\"M17.41 7.96l-1.37-1.37c-.4-.4-.92-.59-1.43-.59-.52 0-1.04.2-1.43.59L10.3 9.45l-7.72 7.72c-.78.78-.78 2.05 0 2.83L4 21.41c.39.39.9.59 1.41.59.51 0 1.02-.2 1.41-.59l7.78-7.78 2.81-2.81c.8-.78.8-2.07 0-2.86zM5.41 20L4 18.59l7.72-7.72 1.47 1.35L5.41 20z\"/>\n",
              "  </svg>\n",
              "      </button>\n",
              "      \n",
              "  <style>\n",
              "    .colab-df-container {\n",
              "      display:flex;\n",
              "      flex-wrap:wrap;\n",
              "      gap: 12px;\n",
              "    }\n",
              "\n",
              "    .colab-df-convert {\n",
              "      background-color: #E8F0FE;\n",
              "      border: none;\n",
              "      border-radius: 50%;\n",
              "      cursor: pointer;\n",
              "      display: none;\n",
              "      fill: #1967D2;\n",
              "      height: 32px;\n",
              "      padding: 0 0 0 0;\n",
              "      width: 32px;\n",
              "    }\n",
              "\n",
              "    .colab-df-convert:hover {\n",
              "      background-color: #E2EBFA;\n",
              "      box-shadow: 0px 1px 2px rgba(60, 64, 67, 0.3), 0px 1px 3px 1px rgba(60, 64, 67, 0.15);\n",
              "      fill: #174EA6;\n",
              "    }\n",
              "\n",
              "    [theme=dark] .colab-df-convert {\n",
              "      background-color: #3B4455;\n",
              "      fill: #D2E3FC;\n",
              "    }\n",
              "\n",
              "    [theme=dark] .colab-df-convert:hover {\n",
              "      background-color: #434B5C;\n",
              "      box-shadow: 0px 1px 3px 1px rgba(0, 0, 0, 0.15);\n",
              "      filter: drop-shadow(0px 1px 2px rgba(0, 0, 0, 0.3));\n",
              "      fill: #FFFFFF;\n",
              "    }\n",
              "  </style>\n",
              "\n",
              "      <script>\n",
              "        const buttonEl =\n",
              "          document.querySelector('#df-fddeaf2d-5e1f-4714-bc3e-c09b259f7c2a button.colab-df-convert');\n",
              "        buttonEl.style.display =\n",
              "          google.colab.kernel.accessAllowed ? 'block' : 'none';\n",
              "\n",
              "        async function convertToInteractive(key) {\n",
              "          const element = document.querySelector('#df-fddeaf2d-5e1f-4714-bc3e-c09b259f7c2a');\n",
              "          const dataTable =\n",
              "            await google.colab.kernel.invokeFunction('convertToInteractive',\n",
              "                                                     [key], {});\n",
              "          if (!dataTable) return;\n",
              "\n",
              "          const docLinkHtml = 'Like what you see? Visit the ' +\n",
              "            '<a target=\"_blank\" href=https://colab.research.google.com/notebooks/data_table.ipynb>data table notebook</a>'\n",
              "            + ' to learn more about interactive tables.';\n",
              "          element.innerHTML = '';\n",
              "          dataTable['output_type'] = 'display_data';\n",
              "          await google.colab.output.renderOutput(dataTable, element);\n",
              "          const docLink = document.createElement('div');\n",
              "          docLink.innerHTML = docLinkHtml;\n",
              "          element.appendChild(docLink);\n",
              "        }\n",
              "      </script>\n",
              "    </div>\n",
              "  </div>\n",
              "  "
            ],
            "text/plain": [
              "       worker                                         less_toxic  \\\n",
              "0         313            This article sucks \\n\\nwoo woo wooooooo   \n",
              "1         188  \"And yes, people should recognize that but the...   \n",
              "2          82   Western Media?\\n\\nYup, because every crime in...   \n",
              "3         347  And you removed it! You numbskull! I don't car...   \n",
              "4         539   smelly vagina \\n\\nBluerasberry why don't you ...   \n",
              "...       ...                                                ...   \n",
              "30103     461  I'm sorry. I'm not an admin. I will give you t...   \n",
              "30104     527  I'm sorry. I'm not an admin. I will give you t...   \n",
              "30105     352  wow...\\nare you out of your mind, how was my e...   \n",
              "30106     311  wow...\\nare you out of your mind, how was my e...   \n",
              "30107      54  wow...\\nare you out of your mind, how was my e...   \n",
              "\n",
              "                                              more_toxic  \n",
              "0      WHAT!!!!!!!!?!?!!?!?!!?!?!?!?!!!!!!!!!!!!!!!!!...  \n",
              "1       Daphne Guinness \\n\\nTop of the mornin' my fav...  \n",
              "2      \"Atom you don't believe actual photos of mastu...  \n",
              "3      You seem to have sand in your vagina.\\n\\nMight...  \n",
              "4               hey \\n\\nway to support nazis, you racist  \n",
              "...                                                  ...  \n",
              "30103                             get out my large penis  \n",
              "30104                             get out my large penis  \n",
              "30105                       Piss off you slant eyed-gook  \n",
              "30106                       Piss off you slant eyed-gook  \n",
              "30107                       Piss off you slant eyed-gook  \n",
              "\n",
              "[30108 rows x 3 columns]"
            ]
          },
          "metadata": {},
          "execution_count": 8
        }
      ],
      "source": [
        "cleaned_data = original_data\n",
        "cleaned_data"
      ]
    },
    {
      "cell_type": "code",
      "execution_count": 9,
      "metadata": {
        "id": "3ynSbwXpyJYP"
      },
      "outputs": [],
      "source": [
        "clean_less_toxic = clean_tweets(original_data[\"less_toxic\"])\n",
        "cleaned_data['less_toxic'] = pd.DataFrame(clean_less_toxic)\n",
        "#cleaned_data"
      ]
    },
    {
      "cell_type": "code",
      "execution_count": 10,
      "metadata": {
        "colab": {
          "base_uri": "https://localhost:8080/",
          "height": 424
        },
        "id": "JUnN_J62yJYP",
        "outputId": "3a681afb-cbd1-4509-8e4e-d5d267b22410"
      },
      "outputs": [
        {
          "output_type": "execute_result",
          "data": {
            "text/html": [
              "\n",
              "  <div id=\"df-85fe4196-49bf-4b72-a3db-d023b898e6f0\">\n",
              "    <div class=\"colab-df-container\">\n",
              "      <div>\n",
              "<style scoped>\n",
              "    .dataframe tbody tr th:only-of-type {\n",
              "        vertical-align: middle;\n",
              "    }\n",
              "\n",
              "    .dataframe tbody tr th {\n",
              "        vertical-align: top;\n",
              "    }\n",
              "\n",
              "    .dataframe thead th {\n",
              "        text-align: right;\n",
              "    }\n",
              "</style>\n",
              "<table border=\"1\" class=\"dataframe\">\n",
              "  <thead>\n",
              "    <tr style=\"text-align: right;\">\n",
              "      <th></th>\n",
              "      <th>worker</th>\n",
              "      <th>less_toxic</th>\n",
              "      <th>more_toxic</th>\n",
              "    </tr>\n",
              "  </thead>\n",
              "  <tbody>\n",
              "    <tr>\n",
              "      <th>0</th>\n",
              "      <td>313</td>\n",
              "      <td>this article sucks woo woo wooooooo</td>\n",
              "      <td>what=wher is your sexy pic gone from your main...</td>\n",
              "    </tr>\n",
              "    <tr>\n",
              "      <th>1</th>\n",
              "      <td>188</td>\n",
              "      <td>and yes people should recognize that but they ...</td>\n",
              "      <td>daphne guinness top of the mornin my favourite...</td>\n",
              "    </tr>\n",
              "    <tr>\n",
              "      <th>2</th>\n",
              "      <td>82</td>\n",
              "      <td>western mediayup because every crime in the en...</td>\n",
              "      <td>atom you dont believe actual photos of masturb...</td>\n",
              "    </tr>\n",
              "    <tr>\n",
              "      <th>3</th>\n",
              "      <td>347</td>\n",
              "      <td>and you removed it you numbskull i dont care w...</td>\n",
              "      <td>you seem to have sand in your vagina.might wan...</td>\n",
              "    </tr>\n",
              "    <tr>\n",
              "      <th>4</th>\n",
              "      <td>539</td>\n",
              "      <td>smelly vagina bluerasberry why dont you be a m...</td>\n",
              "      <td>hey way to support nazis you racist</td>\n",
              "    </tr>\n",
              "    <tr>\n",
              "      <th>...</th>\n",
              "      <td>...</td>\n",
              "      <td>...</td>\n",
              "      <td>...</td>\n",
              "    </tr>\n",
              "    <tr>\n",
              "      <th>30103</th>\n",
              "      <td>461</td>\n",
              "      <td>im sorry im not an admin i will give you three...</td>\n",
              "      <td>get out my large penis</td>\n",
              "    </tr>\n",
              "    <tr>\n",
              "      <th>30104</th>\n",
              "      <td>527</td>\n",
              "      <td>im sorry im not an admin i will give you three...</td>\n",
              "      <td>get out my large penis</td>\n",
              "    </tr>\n",
              "    <tr>\n",
              "      <th>30105</th>\n",
              "      <td>352</td>\n",
              "      <td>wow...are you out of your mind how was my edit...</td>\n",
              "      <td>piss off you slant eyed gook</td>\n",
              "    </tr>\n",
              "    <tr>\n",
              "      <th>30106</th>\n",
              "      <td>311</td>\n",
              "      <td>wow...are you out of your mind how was my edit...</td>\n",
              "      <td>piss off you slant eyed gook</td>\n",
              "    </tr>\n",
              "    <tr>\n",
              "      <th>30107</th>\n",
              "      <td>54</td>\n",
              "      <td>wow...are you out of your mind how was my edit...</td>\n",
              "      <td>piss off you slant eyed gook</td>\n",
              "    </tr>\n",
              "  </tbody>\n",
              "</table>\n",
              "<p>30108 rows × 3 columns</p>\n",
              "</div>\n",
              "      <button class=\"colab-df-convert\" onclick=\"convertToInteractive('df-85fe4196-49bf-4b72-a3db-d023b898e6f0')\"\n",
              "              title=\"Convert this dataframe to an interactive table.\"\n",
              "              style=\"display:none;\">\n",
              "        \n",
              "  <svg xmlns=\"http://www.w3.org/2000/svg\" height=\"24px\"viewBox=\"0 0 24 24\"\n",
              "       width=\"24px\">\n",
              "    <path d=\"M0 0h24v24H0V0z\" fill=\"none\"/>\n",
              "    <path d=\"M18.56 5.44l.94 2.06.94-2.06 2.06-.94-2.06-.94-.94-2.06-.94 2.06-2.06.94zm-11 1L8.5 8.5l.94-2.06 2.06-.94-2.06-.94L8.5 2.5l-.94 2.06-2.06.94zm10 10l.94 2.06.94-2.06 2.06-.94-2.06-.94-.94-2.06-.94 2.06-2.06.94z\"/><path d=\"M17.41 7.96l-1.37-1.37c-.4-.4-.92-.59-1.43-.59-.52 0-1.04.2-1.43.59L10.3 9.45l-7.72 7.72c-.78.78-.78 2.05 0 2.83L4 21.41c.39.39.9.59 1.41.59.51 0 1.02-.2 1.41-.59l7.78-7.78 2.81-2.81c.8-.78.8-2.07 0-2.86zM5.41 20L4 18.59l7.72-7.72 1.47 1.35L5.41 20z\"/>\n",
              "  </svg>\n",
              "      </button>\n",
              "      \n",
              "  <style>\n",
              "    .colab-df-container {\n",
              "      display:flex;\n",
              "      flex-wrap:wrap;\n",
              "      gap: 12px;\n",
              "    }\n",
              "\n",
              "    .colab-df-convert {\n",
              "      background-color: #E8F0FE;\n",
              "      border: none;\n",
              "      border-radius: 50%;\n",
              "      cursor: pointer;\n",
              "      display: none;\n",
              "      fill: #1967D2;\n",
              "      height: 32px;\n",
              "      padding: 0 0 0 0;\n",
              "      width: 32px;\n",
              "    }\n",
              "\n",
              "    .colab-df-convert:hover {\n",
              "      background-color: #E2EBFA;\n",
              "      box-shadow: 0px 1px 2px rgba(60, 64, 67, 0.3), 0px 1px 3px 1px rgba(60, 64, 67, 0.15);\n",
              "      fill: #174EA6;\n",
              "    }\n",
              "\n",
              "    [theme=dark] .colab-df-convert {\n",
              "      background-color: #3B4455;\n",
              "      fill: #D2E3FC;\n",
              "    }\n",
              "\n",
              "    [theme=dark] .colab-df-convert:hover {\n",
              "      background-color: #434B5C;\n",
              "      box-shadow: 0px 1px 3px 1px rgba(0, 0, 0, 0.15);\n",
              "      filter: drop-shadow(0px 1px 2px rgba(0, 0, 0, 0.3));\n",
              "      fill: #FFFFFF;\n",
              "    }\n",
              "  </style>\n",
              "\n",
              "      <script>\n",
              "        const buttonEl =\n",
              "          document.querySelector('#df-85fe4196-49bf-4b72-a3db-d023b898e6f0 button.colab-df-convert');\n",
              "        buttonEl.style.display =\n",
              "          google.colab.kernel.accessAllowed ? 'block' : 'none';\n",
              "\n",
              "        async function convertToInteractive(key) {\n",
              "          const element = document.querySelector('#df-85fe4196-49bf-4b72-a3db-d023b898e6f0');\n",
              "          const dataTable =\n",
              "            await google.colab.kernel.invokeFunction('convertToInteractive',\n",
              "                                                     [key], {});\n",
              "          if (!dataTable) return;\n",
              "\n",
              "          const docLinkHtml = 'Like what you see? Visit the ' +\n",
              "            '<a target=\"_blank\" href=https://colab.research.google.com/notebooks/data_table.ipynb>data table notebook</a>'\n",
              "            + ' to learn more about interactive tables.';\n",
              "          element.innerHTML = '';\n",
              "          dataTable['output_type'] = 'display_data';\n",
              "          await google.colab.output.renderOutput(dataTable, element);\n",
              "          const docLink = document.createElement('div');\n",
              "          docLink.innerHTML = docLinkHtml;\n",
              "          element.appendChild(docLink);\n",
              "        }\n",
              "      </script>\n",
              "    </div>\n",
              "  </div>\n",
              "  "
            ],
            "text/plain": [
              "       worker                                         less_toxic  \\\n",
              "0         313                this article sucks woo woo wooooooo   \n",
              "1         188  and yes people should recognize that but they ...   \n",
              "2          82  western mediayup because every crime in the en...   \n",
              "3         347  and you removed it you numbskull i dont care w...   \n",
              "4         539  smelly vagina bluerasberry why dont you be a m...   \n",
              "...       ...                                                ...   \n",
              "30103     461  im sorry im not an admin i will give you three...   \n",
              "30104     527  im sorry im not an admin i will give you three...   \n",
              "30105     352  wow...are you out of your mind how was my edit...   \n",
              "30106     311  wow...are you out of your mind how was my edit...   \n",
              "30107      54  wow...are you out of your mind how was my edit...   \n",
              "\n",
              "                                              more_toxic  \n",
              "0      what=wher is your sexy pic gone from your main...  \n",
              "1      daphne guinness top of the mornin my favourite...  \n",
              "2      atom you dont believe actual photos of masturb...  \n",
              "3      you seem to have sand in your vagina.might wan...  \n",
              "4                    hey way to support nazis you racist  \n",
              "...                                                  ...  \n",
              "30103                             get out my large penis  \n",
              "30104                             get out my large penis  \n",
              "30105                       piss off you slant eyed gook  \n",
              "30106                       piss off you slant eyed gook  \n",
              "30107                       piss off you slant eyed gook  \n",
              "\n",
              "[30108 rows x 3 columns]"
            ]
          },
          "metadata": {},
          "execution_count": 10
        }
      ],
      "source": [
        "clean_more_toxic = clean_tweets(original_data[\"more_toxic\"])\n",
        "cleaned_data['more_toxic'] = pd.DataFrame(clean_more_toxic)\n",
        "cleaned_data"
      ]
    },
    {
      "cell_type": "code",
      "execution_count": 11,
      "metadata": {
        "colab": {
          "base_uri": "https://localhost:8080/",
          "height": 424
        },
        "id": "Oxk_2fvJ30mt",
        "outputId": "b6905586-bf26-4664-9c7b-ed2411304439"
      },
      "outputs": [
        {
          "output_type": "execute_result",
          "data": {
            "text/html": [
              "\n",
              "  <div id=\"df-45fc4f9e-7b19-46b9-b218-33068ada8401\">\n",
              "    <div class=\"colab-df-container\">\n",
              "      <div>\n",
              "<style scoped>\n",
              "    .dataframe tbody tr th:only-of-type {\n",
              "        vertical-align: middle;\n",
              "    }\n",
              "\n",
              "    .dataframe tbody tr th {\n",
              "        vertical-align: top;\n",
              "    }\n",
              "\n",
              "    .dataframe thead th {\n",
              "        text-align: right;\n",
              "    }\n",
              "</style>\n",
              "<table border=\"1\" class=\"dataframe\">\n",
              "  <thead>\n",
              "    <tr style=\"text-align: right;\">\n",
              "      <th></th>\n",
              "      <th>worker</th>\n",
              "      <th>less_toxic</th>\n",
              "      <th>more_toxic</th>\n",
              "    </tr>\n",
              "  </thead>\n",
              "  <tbody>\n",
              "    <tr>\n",
              "      <th>14331</th>\n",
              "      <td>9</td>\n",
              "      <td>its not so much about the english language its...</td>\n",
              "      <td>i hate drmies he is an idiot</td>\n",
              "    </tr>\n",
              "    <tr>\n",
              "      <th>17914</th>\n",
              "      <td>431</td>\n",
              "      <td>just read what mr george mcfly said here that ...</td>\n",
              "      <td>i fuckingg love tacosthere the fuckingg best b...</td>\n",
              "    </tr>\n",
              "    <tr>\n",
              "      <th>14390</th>\n",
              "      <td>338</td>\n",
              "      <td>a barnstar for you the original barnstar your...</td>\n",
              "      <td>fuck you fuck you motherfucker go die in a hole</td>\n",
              "    </tr>\n",
              "    <tr>\n",
              "      <th>24121</th>\n",
              "      <td>386</td>\n",
              "      <td>i am one who thinks that zappas dad was of ara...</td>\n",
              "      <td>jimbo wales is a gay little fucker</td>\n",
              "    </tr>\n",
              "    <tr>\n",
              "      <th>22424</th>\n",
              "      <td>397</td>\n",
              "      <td>a cup of coffee for you get fuckd with coffee</td>\n",
              "      <td>dude im not angry at you i just think youre a ...</td>\n",
              "    </tr>\n",
              "    <tr>\n",
              "      <th>...</th>\n",
              "      <td>...</td>\n",
              "      <td>...</td>\n",
              "      <td>...</td>\n",
              "    </tr>\n",
              "    <tr>\n",
              "      <th>13123</th>\n",
              "      <td>422</td>\n",
              "      <td>please stop your disruptive editing if you co...</td>\n",
              "      <td>youre a mathsci sockpuppet arent you</td>\n",
              "    </tr>\n",
              "    <tr>\n",
              "      <th>19648</th>\n",
              "      <td>293</td>\n",
              "      <td>dude you both are dumb in the heavier than hea...</td>\n",
              "      <td>mahmoud ahmadinejadi added the categoryanti se...</td>\n",
              "    </tr>\n",
              "    <tr>\n",
              "      <th>9845</th>\n",
              "      <td>347</td>\n",
              "      <td>then i guess i eat poop</td>\n",
              "      <td>racisttrying to whitewash the terrorists fine ...</td>\n",
              "    </tr>\n",
              "    <tr>\n",
              "      <th>10799</th>\n",
              "      <td>728</td>\n",
              "      <td>i thought you were the administrator can you f...</td>\n",
              "      <td>just because she has light skin doesnt mean an...</td>\n",
              "    </tr>\n",
              "    <tr>\n",
              "      <th>2732</th>\n",
              "      <td>132</td>\n",
              "      <td>not set in new york  why when i deleted the ca...</td>\n",
              "      <td>what the hell is that thing on the electoral m...</td>\n",
              "    </tr>\n",
              "  </tbody>\n",
              "</table>\n",
              "<p>30108 rows × 3 columns</p>\n",
              "</div>\n",
              "      <button class=\"colab-df-convert\" onclick=\"convertToInteractive('df-45fc4f9e-7b19-46b9-b218-33068ada8401')\"\n",
              "              title=\"Convert this dataframe to an interactive table.\"\n",
              "              style=\"display:none;\">\n",
              "        \n",
              "  <svg xmlns=\"http://www.w3.org/2000/svg\" height=\"24px\"viewBox=\"0 0 24 24\"\n",
              "       width=\"24px\">\n",
              "    <path d=\"M0 0h24v24H0V0z\" fill=\"none\"/>\n",
              "    <path d=\"M18.56 5.44l.94 2.06.94-2.06 2.06-.94-2.06-.94-.94-2.06-.94 2.06-2.06.94zm-11 1L8.5 8.5l.94-2.06 2.06-.94-2.06-.94L8.5 2.5l-.94 2.06-2.06.94zm10 10l.94 2.06.94-2.06 2.06-.94-2.06-.94-.94-2.06-.94 2.06-2.06.94z\"/><path d=\"M17.41 7.96l-1.37-1.37c-.4-.4-.92-.59-1.43-.59-.52 0-1.04.2-1.43.59L10.3 9.45l-7.72 7.72c-.78.78-.78 2.05 0 2.83L4 21.41c.39.39.9.59 1.41.59.51 0 1.02-.2 1.41-.59l7.78-7.78 2.81-2.81c.8-.78.8-2.07 0-2.86zM5.41 20L4 18.59l7.72-7.72 1.47 1.35L5.41 20z\"/>\n",
              "  </svg>\n",
              "      </button>\n",
              "      \n",
              "  <style>\n",
              "    .colab-df-container {\n",
              "      display:flex;\n",
              "      flex-wrap:wrap;\n",
              "      gap: 12px;\n",
              "    }\n",
              "\n",
              "    .colab-df-convert {\n",
              "      background-color: #E8F0FE;\n",
              "      border: none;\n",
              "      border-radius: 50%;\n",
              "      cursor: pointer;\n",
              "      display: none;\n",
              "      fill: #1967D2;\n",
              "      height: 32px;\n",
              "      padding: 0 0 0 0;\n",
              "      width: 32px;\n",
              "    }\n",
              "\n",
              "    .colab-df-convert:hover {\n",
              "      background-color: #E2EBFA;\n",
              "      box-shadow: 0px 1px 2px rgba(60, 64, 67, 0.3), 0px 1px 3px 1px rgba(60, 64, 67, 0.15);\n",
              "      fill: #174EA6;\n",
              "    }\n",
              "\n",
              "    [theme=dark] .colab-df-convert {\n",
              "      background-color: #3B4455;\n",
              "      fill: #D2E3FC;\n",
              "    }\n",
              "\n",
              "    [theme=dark] .colab-df-convert:hover {\n",
              "      background-color: #434B5C;\n",
              "      box-shadow: 0px 1px 3px 1px rgba(0, 0, 0, 0.15);\n",
              "      filter: drop-shadow(0px 1px 2px rgba(0, 0, 0, 0.3));\n",
              "      fill: #FFFFFF;\n",
              "    }\n",
              "  </style>\n",
              "\n",
              "      <script>\n",
              "        const buttonEl =\n",
              "          document.querySelector('#df-45fc4f9e-7b19-46b9-b218-33068ada8401 button.colab-df-convert');\n",
              "        buttonEl.style.display =\n",
              "          google.colab.kernel.accessAllowed ? 'block' : 'none';\n",
              "\n",
              "        async function convertToInteractive(key) {\n",
              "          const element = document.querySelector('#df-45fc4f9e-7b19-46b9-b218-33068ada8401');\n",
              "          const dataTable =\n",
              "            await google.colab.kernel.invokeFunction('convertToInteractive',\n",
              "                                                     [key], {});\n",
              "          if (!dataTable) return;\n",
              "\n",
              "          const docLinkHtml = 'Like what you see? Visit the ' +\n",
              "            '<a target=\"_blank\" href=https://colab.research.google.com/notebooks/data_table.ipynb>data table notebook</a>'\n",
              "            + ' to learn more about interactive tables.';\n",
              "          element.innerHTML = '';\n",
              "          dataTable['output_type'] = 'display_data';\n",
              "          await google.colab.output.renderOutput(dataTable, element);\n",
              "          const docLink = document.createElement('div');\n",
              "          docLink.innerHTML = docLinkHtml;\n",
              "          element.appendChild(docLink);\n",
              "        }\n",
              "      </script>\n",
              "    </div>\n",
              "  </div>\n",
              "  "
            ],
            "text/plain": [
              "       worker                                         less_toxic  \\\n",
              "14331       9  its not so much about the english language its...   \n",
              "17914     431  just read what mr george mcfly said here that ...   \n",
              "14390     338   a barnstar for you the original barnstar your...   \n",
              "24121     386  i am one who thinks that zappas dad was of ara...   \n",
              "22424     397     a cup of coffee for you get fuckd with coffee    \n",
              "...       ...                                                ...   \n",
              "13123     422   please stop your disruptive editing if you co...   \n",
              "19648     293  dude you both are dumb in the heavier than hea...   \n",
              "9845      347                            then i guess i eat poop   \n",
              "10799     728  i thought you were the administrator can you f...   \n",
              "2732      132  not set in new york  why when i deleted the ca...   \n",
              "\n",
              "                                              more_toxic  \n",
              "14331                       i hate drmies he is an idiot  \n",
              "17914  i fuckingg love tacosthere the fuckingg best b...  \n",
              "14390    fuck you fuck you motherfucker go die in a hole  \n",
              "24121                 jimbo wales is a gay little fucker  \n",
              "22424  dude im not angry at you i just think youre a ...  \n",
              "...                                                  ...  \n",
              "13123               youre a mathsci sockpuppet arent you  \n",
              "19648  mahmoud ahmadinejadi added the categoryanti se...  \n",
              "9845   racisttrying to whitewash the terrorists fine ...  \n",
              "10799  just because she has light skin doesnt mean an...  \n",
              "2732   what the hell is that thing on the electoral m...  \n",
              "\n",
              "[30108 rows x 3 columns]"
            ]
          },
          "metadata": {},
          "execution_count": 11
        }
      ],
      "source": [
        "np.random.seed(0)\n",
        "    \n",
        "cleaned_data_shuffle_row = cleaned_data.sample(frac = 1, random_state = 0)\n",
        "\n",
        "\n",
        "cleaned_data_shuffle_row"
      ]
    },
    {
      "cell_type": "code",
      "execution_count": 12,
      "metadata": {
        "colab": {
          "base_uri": "https://localhost:8080/"
        },
        "id": "etJIYyy930mt",
        "outputId": "eb2dd428-06ba-4355-ce12-a8d41b5638d3"
      },
      "outputs": [
        {
          "output_type": "execute_result",
          "data": {
            "text/plain": [
              "30108"
            ]
          },
          "metadata": {},
          "execution_count": 12
        }
      ],
      "source": [
        "total_row = cleaned_data_shuffle_row.shape[0]\n",
        "total_row"
      ]
    },
    {
      "cell_type": "code",
      "execution_count": 13,
      "metadata": {
        "colab": {
          "base_uri": "https://localhost:8080/",
          "height": 424
        },
        "id": "U2_7yo1q30mu",
        "outputId": "c83f44c1-0ebb-4bcf-d52a-256744c92cf3"
      },
      "outputs": [
        {
          "output_type": "execute_result",
          "data": {
            "text/html": [
              "\n",
              "  <div id=\"df-ddf974a2-e60d-4ecd-8633-d208ef888645\">\n",
              "    <div class=\"colab-df-container\">\n",
              "      <div>\n",
              "<style scoped>\n",
              "    .dataframe tbody tr th:only-of-type {\n",
              "        vertical-align: middle;\n",
              "    }\n",
              "\n",
              "    .dataframe tbody tr th {\n",
              "        vertical-align: top;\n",
              "    }\n",
              "\n",
              "    .dataframe thead th {\n",
              "        text-align: right;\n",
              "    }\n",
              "</style>\n",
              "<table border=\"1\" class=\"dataframe\">\n",
              "  <thead>\n",
              "    <tr style=\"text-align: right;\">\n",
              "      <th></th>\n",
              "      <th>worker</th>\n",
              "      <th>less_toxic</th>\n",
              "      <th>more_toxic</th>\n",
              "    </tr>\n",
              "  </thead>\n",
              "  <tbody>\n",
              "    <tr>\n",
              "      <th>0</th>\n",
              "      <td>9</td>\n",
              "      <td>its not so much about the english language its...</td>\n",
              "      <td>i hate drmies he is an idiot</td>\n",
              "    </tr>\n",
              "    <tr>\n",
              "      <th>1</th>\n",
              "      <td>431</td>\n",
              "      <td>just read what mr george mcfly said here that ...</td>\n",
              "      <td>i fuckingg love tacosthere the fuckingg best b...</td>\n",
              "    </tr>\n",
              "    <tr>\n",
              "      <th>2</th>\n",
              "      <td>338</td>\n",
              "      <td>a barnstar for you the original barnstar your...</td>\n",
              "      <td>fuck you fuck you motherfucker go die in a hole</td>\n",
              "    </tr>\n",
              "    <tr>\n",
              "      <th>3</th>\n",
              "      <td>386</td>\n",
              "      <td>i am one who thinks that zappas dad was of ara...</td>\n",
              "      <td>jimbo wales is a gay little fucker</td>\n",
              "    </tr>\n",
              "    <tr>\n",
              "      <th>4</th>\n",
              "      <td>397</td>\n",
              "      <td>a cup of coffee for you get fuckd with coffee</td>\n",
              "      <td>dude im not angry at you i just think youre a ...</td>\n",
              "    </tr>\n",
              "    <tr>\n",
              "      <th>...</th>\n",
              "      <td>...</td>\n",
              "      <td>...</td>\n",
              "      <td>...</td>\n",
              "    </tr>\n",
              "    <tr>\n",
              "      <th>18059</th>\n",
              "      <td>30</td>\n",
              "      <td>i cant imagine anything more depressing than d...</td>\n",
              "      <td>i dont give a fuck.. it will get reposted so y...</td>\n",
              "    </tr>\n",
              "    <tr>\n",
              "      <th>18060</th>\n",
              "      <td>141</td>\n",
              "      <td>give a reason when you accuse someone of vand...</td>\n",
              "      <td>bullshit=there was no violation you removed fa...</td>\n",
              "    </tr>\n",
              "    <tr>\n",
              "      <th>18061</th>\n",
              "      <td>118</td>\n",
              "      <td>additional evidence to above one of the collec...</td>\n",
              "      <td>because you are a fggt do i know you because y...</td>\n",
              "    </tr>\n",
              "    <tr>\n",
              "      <th>18062</th>\n",
              "      <td>526</td>\n",
              "      <td>omg i am obssessed with twilight and it is my ...</td>\n",
              "      <td>hey gwernol yeah youre a schmuck face thats wh...</td>\n",
              "    </tr>\n",
              "    <tr>\n",
              "      <th>18063</th>\n",
              "      <td>338</td>\n",
              "      <td>jack and jill come on delanoy wheres your sens...</td>\n",
              "      <td>so you assholes are high on power like george ...</td>\n",
              "    </tr>\n",
              "  </tbody>\n",
              "</table>\n",
              "<p>18064 rows × 3 columns</p>\n",
              "</div>\n",
              "      <button class=\"colab-df-convert\" onclick=\"convertToInteractive('df-ddf974a2-e60d-4ecd-8633-d208ef888645')\"\n",
              "              title=\"Convert this dataframe to an interactive table.\"\n",
              "              style=\"display:none;\">\n",
              "        \n",
              "  <svg xmlns=\"http://www.w3.org/2000/svg\" height=\"24px\"viewBox=\"0 0 24 24\"\n",
              "       width=\"24px\">\n",
              "    <path d=\"M0 0h24v24H0V0z\" fill=\"none\"/>\n",
              "    <path d=\"M18.56 5.44l.94 2.06.94-2.06 2.06-.94-2.06-.94-.94-2.06-.94 2.06-2.06.94zm-11 1L8.5 8.5l.94-2.06 2.06-.94-2.06-.94L8.5 2.5l-.94 2.06-2.06.94zm10 10l.94 2.06.94-2.06 2.06-.94-2.06-.94-.94-2.06-.94 2.06-2.06.94z\"/><path d=\"M17.41 7.96l-1.37-1.37c-.4-.4-.92-.59-1.43-.59-.52 0-1.04.2-1.43.59L10.3 9.45l-7.72 7.72c-.78.78-.78 2.05 0 2.83L4 21.41c.39.39.9.59 1.41.59.51 0 1.02-.2 1.41-.59l7.78-7.78 2.81-2.81c.8-.78.8-2.07 0-2.86zM5.41 20L4 18.59l7.72-7.72 1.47 1.35L5.41 20z\"/>\n",
              "  </svg>\n",
              "      </button>\n",
              "      \n",
              "  <style>\n",
              "    .colab-df-container {\n",
              "      display:flex;\n",
              "      flex-wrap:wrap;\n",
              "      gap: 12px;\n",
              "    }\n",
              "\n",
              "    .colab-df-convert {\n",
              "      background-color: #E8F0FE;\n",
              "      border: none;\n",
              "      border-radius: 50%;\n",
              "      cursor: pointer;\n",
              "      display: none;\n",
              "      fill: #1967D2;\n",
              "      height: 32px;\n",
              "      padding: 0 0 0 0;\n",
              "      width: 32px;\n",
              "    }\n",
              "\n",
              "    .colab-df-convert:hover {\n",
              "      background-color: #E2EBFA;\n",
              "      box-shadow: 0px 1px 2px rgba(60, 64, 67, 0.3), 0px 1px 3px 1px rgba(60, 64, 67, 0.15);\n",
              "      fill: #174EA6;\n",
              "    }\n",
              "\n",
              "    [theme=dark] .colab-df-convert {\n",
              "      background-color: #3B4455;\n",
              "      fill: #D2E3FC;\n",
              "    }\n",
              "\n",
              "    [theme=dark] .colab-df-convert:hover {\n",
              "      background-color: #434B5C;\n",
              "      box-shadow: 0px 1px 3px 1px rgba(0, 0, 0, 0.15);\n",
              "      filter: drop-shadow(0px 1px 2px rgba(0, 0, 0, 0.3));\n",
              "      fill: #FFFFFF;\n",
              "    }\n",
              "  </style>\n",
              "\n",
              "      <script>\n",
              "        const buttonEl =\n",
              "          document.querySelector('#df-ddf974a2-e60d-4ecd-8633-d208ef888645 button.colab-df-convert');\n",
              "        buttonEl.style.display =\n",
              "          google.colab.kernel.accessAllowed ? 'block' : 'none';\n",
              "\n",
              "        async function convertToInteractive(key) {\n",
              "          const element = document.querySelector('#df-ddf974a2-e60d-4ecd-8633-d208ef888645');\n",
              "          const dataTable =\n",
              "            await google.colab.kernel.invokeFunction('convertToInteractive',\n",
              "                                                     [key], {});\n",
              "          if (!dataTable) return;\n",
              "\n",
              "          const docLinkHtml = 'Like what you see? Visit the ' +\n",
              "            '<a target=\"_blank\" href=https://colab.research.google.com/notebooks/data_table.ipynb>data table notebook</a>'\n",
              "            + ' to learn more about interactive tables.';\n",
              "          element.innerHTML = '';\n",
              "          dataTable['output_type'] = 'display_data';\n",
              "          await google.colab.output.renderOutput(dataTable, element);\n",
              "          const docLink = document.createElement('div');\n",
              "          docLink.innerHTML = docLinkHtml;\n",
              "          element.appendChild(docLink);\n",
              "        }\n",
              "      </script>\n",
              "    </div>\n",
              "  </div>\n",
              "  "
            ],
            "text/plain": [
              "       worker                                         less_toxic  \\\n",
              "0           9  its not so much about the english language its...   \n",
              "1         431  just read what mr george mcfly said here that ...   \n",
              "2         338   a barnstar for you the original barnstar your...   \n",
              "3         386  i am one who thinks that zappas dad was of ara...   \n",
              "4         397     a cup of coffee for you get fuckd with coffee    \n",
              "...       ...                                                ...   \n",
              "18059      30  i cant imagine anything more depressing than d...   \n",
              "18060     141   give a reason when you accuse someone of vand...   \n",
              "18061     118  additional evidence to above one of the collec...   \n",
              "18062     526  omg i am obssessed with twilight and it is my ...   \n",
              "18063     338  jack and jill come on delanoy wheres your sens...   \n",
              "\n",
              "                                              more_toxic  \n",
              "0                           i hate drmies he is an idiot  \n",
              "1      i fuckingg love tacosthere the fuckingg best b...  \n",
              "2        fuck you fuck you motherfucker go die in a hole  \n",
              "3                     jimbo wales is a gay little fucker  \n",
              "4      dude im not angry at you i just think youre a ...  \n",
              "...                                                  ...  \n",
              "18059  i dont give a fuck.. it will get reposted so y...  \n",
              "18060  bullshit=there was no violation you removed fa...  \n",
              "18061  because you are a fggt do i know you because y...  \n",
              "18062  hey gwernol yeah youre a schmuck face thats wh...  \n",
              "18063  so you assholes are high on power like george ...  \n",
              "\n",
              "[18064 rows x 3 columns]"
            ]
          },
          "metadata": {},
          "execution_count": 13
        }
      ],
      "source": [
        "train_data = cleaned_data_shuffle_row[:int(total_row*0.6)]\n",
        "train_data = train_data.reset_index(drop = True)\n",
        "train_data"
      ]
    },
    {
      "cell_type": "code",
      "execution_count": 14,
      "metadata": {
        "colab": {
          "base_uri": "https://localhost:8080/",
          "height": 424
        },
        "id": "GiEmyICp30mu",
        "outputId": "fe14a19d-d0ed-41c8-d1f8-fa7246495635"
      },
      "outputs": [
        {
          "output_type": "execute_result",
          "data": {
            "text/html": [
              "\n",
              "  <div id=\"df-79d6f5cd-111d-4b58-af40-c1c574cf1087\">\n",
              "    <div class=\"colab-df-container\">\n",
              "      <div>\n",
              "<style scoped>\n",
              "    .dataframe tbody tr th:only-of-type {\n",
              "        vertical-align: middle;\n",
              "    }\n",
              "\n",
              "    .dataframe tbody tr th {\n",
              "        vertical-align: top;\n",
              "    }\n",
              "\n",
              "    .dataframe thead th {\n",
              "        text-align: right;\n",
              "    }\n",
              "</style>\n",
              "<table border=\"1\" class=\"dataframe\">\n",
              "  <thead>\n",
              "    <tr style=\"text-align: right;\">\n",
              "      <th></th>\n",
              "      <th>worker</th>\n",
              "      <th>less_toxic</th>\n",
              "      <th>more_toxic</th>\n",
              "    </tr>\n",
              "  </thead>\n",
              "  <tbody>\n",
              "    <tr>\n",
              "      <th>0</th>\n",
              "      <td>283</td>\n",
              "      <td>an important message block me i can live with...</td>\n",
              "      <td>blockedyour recent behaviour has been utterly ...</td>\n",
              "    </tr>\n",
              "    <tr>\n",
              "      <th>1</th>\n",
              "      <td>652</td>\n",
              "      <td>gibnews the truth it is a lie which has been f...</td>\n",
              "      <td>fuck you fred fuck you you bitch ass punk u ca...</td>\n",
              "    </tr>\n",
              "    <tr>\n",
              "      <th>2</th>\n",
              "      <td>504</td>\n",
              "      <td>the germaine greer quote is highly appropriate...</td>\n",
              "      <td>i hate you i hate you.</td>\n",
              "    </tr>\n",
              "    <tr>\n",
              "      <th>3</th>\n",
              "      <td>567</td>\n",
              "      <td>if this is the sort of community that wants to...</td>\n",
              "      <td>please keep your two cents to yourselfi wasnt ...</td>\n",
              "    </tr>\n",
              "    <tr>\n",
              "      <th>4</th>\n",
              "      <td>261</td>\n",
              "      <td>this is bull this is y2k all over again this i...</td>\n",
              "      <td>the cherokee comment was a concern because jvm...</td>\n",
              "    </tr>\n",
              "    <tr>\n",
              "      <th>...</th>\n",
              "      <td>...</td>\n",
              "      <td>...</td>\n",
              "      <td>...</td>\n",
              "    </tr>\n",
              "    <tr>\n",
              "      <th>6017</th>\n",
              "      <td>655</td>\n",
              "      <td>racisma word describing characteristics of a p...</td>\n",
              "      <td>just for the record castro apologised for his ...</td>\n",
              "    </tr>\n",
              "    <tr>\n",
              "      <th>6018</th>\n",
              "      <td>472</td>\n",
              "      <td>you are not sorry one damned bit you have yet ...</td>\n",
              "      <td>so called fan sites on wikipedia include info...</td>\n",
              "    </tr>\n",
              "    <tr>\n",
              "      <th>6019</th>\n",
              "      <td>131</td>\n",
              "      <td>its all about termination not branches branch...</td>\n",
              "      <td>mgnbar what is a stupid act hi consensus mean...</td>\n",
              "    </tr>\n",
              "    <tr>\n",
              "      <th>6020</th>\n",
              "      <td>530</td>\n",
              "      <td>thats really shameless weaseling.</td>\n",
              "      <td>moot is a faggot he claims you are a sock pup...</td>\n",
              "    </tr>\n",
              "    <tr>\n",
              "      <th>6021</th>\n",
              "      <td>465</td>\n",
              "      <td>ok im stopping now tide roll wouldnt want to m...</td>\n",
              "      <td>deaf culture is full of a bunch of jerks who w...</td>\n",
              "    </tr>\n",
              "  </tbody>\n",
              "</table>\n",
              "<p>6022 rows × 3 columns</p>\n",
              "</div>\n",
              "      <button class=\"colab-df-convert\" onclick=\"convertToInteractive('df-79d6f5cd-111d-4b58-af40-c1c574cf1087')\"\n",
              "              title=\"Convert this dataframe to an interactive table.\"\n",
              "              style=\"display:none;\">\n",
              "        \n",
              "  <svg xmlns=\"http://www.w3.org/2000/svg\" height=\"24px\"viewBox=\"0 0 24 24\"\n",
              "       width=\"24px\">\n",
              "    <path d=\"M0 0h24v24H0V0z\" fill=\"none\"/>\n",
              "    <path d=\"M18.56 5.44l.94 2.06.94-2.06 2.06-.94-2.06-.94-.94-2.06-.94 2.06-2.06.94zm-11 1L8.5 8.5l.94-2.06 2.06-.94-2.06-.94L8.5 2.5l-.94 2.06-2.06.94zm10 10l.94 2.06.94-2.06 2.06-.94-2.06-.94-.94-2.06-.94 2.06-2.06.94z\"/><path d=\"M17.41 7.96l-1.37-1.37c-.4-.4-.92-.59-1.43-.59-.52 0-1.04.2-1.43.59L10.3 9.45l-7.72 7.72c-.78.78-.78 2.05 0 2.83L4 21.41c.39.39.9.59 1.41.59.51 0 1.02-.2 1.41-.59l7.78-7.78 2.81-2.81c.8-.78.8-2.07 0-2.86zM5.41 20L4 18.59l7.72-7.72 1.47 1.35L5.41 20z\"/>\n",
              "  </svg>\n",
              "      </button>\n",
              "      \n",
              "  <style>\n",
              "    .colab-df-container {\n",
              "      display:flex;\n",
              "      flex-wrap:wrap;\n",
              "      gap: 12px;\n",
              "    }\n",
              "\n",
              "    .colab-df-convert {\n",
              "      background-color: #E8F0FE;\n",
              "      border: none;\n",
              "      border-radius: 50%;\n",
              "      cursor: pointer;\n",
              "      display: none;\n",
              "      fill: #1967D2;\n",
              "      height: 32px;\n",
              "      padding: 0 0 0 0;\n",
              "      width: 32px;\n",
              "    }\n",
              "\n",
              "    .colab-df-convert:hover {\n",
              "      background-color: #E2EBFA;\n",
              "      box-shadow: 0px 1px 2px rgba(60, 64, 67, 0.3), 0px 1px 3px 1px rgba(60, 64, 67, 0.15);\n",
              "      fill: #174EA6;\n",
              "    }\n",
              "\n",
              "    [theme=dark] .colab-df-convert {\n",
              "      background-color: #3B4455;\n",
              "      fill: #D2E3FC;\n",
              "    }\n",
              "\n",
              "    [theme=dark] .colab-df-convert:hover {\n",
              "      background-color: #434B5C;\n",
              "      box-shadow: 0px 1px 3px 1px rgba(0, 0, 0, 0.15);\n",
              "      filter: drop-shadow(0px 1px 2px rgba(0, 0, 0, 0.3));\n",
              "      fill: #FFFFFF;\n",
              "    }\n",
              "  </style>\n",
              "\n",
              "      <script>\n",
              "        const buttonEl =\n",
              "          document.querySelector('#df-79d6f5cd-111d-4b58-af40-c1c574cf1087 button.colab-df-convert');\n",
              "        buttonEl.style.display =\n",
              "          google.colab.kernel.accessAllowed ? 'block' : 'none';\n",
              "\n",
              "        async function convertToInteractive(key) {\n",
              "          const element = document.querySelector('#df-79d6f5cd-111d-4b58-af40-c1c574cf1087');\n",
              "          const dataTable =\n",
              "            await google.colab.kernel.invokeFunction('convertToInteractive',\n",
              "                                                     [key], {});\n",
              "          if (!dataTable) return;\n",
              "\n",
              "          const docLinkHtml = 'Like what you see? Visit the ' +\n",
              "            '<a target=\"_blank\" href=https://colab.research.google.com/notebooks/data_table.ipynb>data table notebook</a>'\n",
              "            + ' to learn more about interactive tables.';\n",
              "          element.innerHTML = '';\n",
              "          dataTable['output_type'] = 'display_data';\n",
              "          await google.colab.output.renderOutput(dataTable, element);\n",
              "          const docLink = document.createElement('div');\n",
              "          docLink.innerHTML = docLinkHtml;\n",
              "          element.appendChild(docLink);\n",
              "        }\n",
              "      </script>\n",
              "    </div>\n",
              "  </div>\n",
              "  "
            ],
            "text/plain": [
              "      worker                                         less_toxic  \\\n",
              "0        283   an important message block me i can live with...   \n",
              "1        652  gibnews the truth it is a lie which has been f...   \n",
              "2        504  the germaine greer quote is highly appropriate...   \n",
              "3        567  if this is the sort of community that wants to...   \n",
              "4        261  this is bull this is y2k all over again this i...   \n",
              "...      ...                                                ...   \n",
              "6017     655  racisma word describing characteristics of a p...   \n",
              "6018     472  you are not sorry one damned bit you have yet ...   \n",
              "6019     131   its all about termination not branches branch...   \n",
              "6020     530                  thats really shameless weaseling.   \n",
              "6021     465  ok im stopping now tide roll wouldnt want to m...   \n",
              "\n",
              "                                             more_toxic  \n",
              "0     blockedyour recent behaviour has been utterly ...  \n",
              "1     fuck you fred fuck you you bitch ass punk u ca...  \n",
              "2                                i hate you i hate you.  \n",
              "3     please keep your two cents to yourselfi wasnt ...  \n",
              "4     the cherokee comment was a concern because jvm...  \n",
              "...                                                 ...  \n",
              "6017  just for the record castro apologised for his ...  \n",
              "6018   so called fan sites on wikipedia include info...  \n",
              "6019   mgnbar what is a stupid act hi consensus mean...  \n",
              "6020   moot is a faggot he claims you are a sock pup...  \n",
              "6021  deaf culture is full of a bunch of jerks who w...  \n",
              "\n",
              "[6022 rows x 3 columns]"
            ]
          },
          "metadata": {},
          "execution_count": 14
        }
      ],
      "source": [
        "val_data = cleaned_data_shuffle_row[int(total_row*0.6): int(total_row * 0.8)]\n",
        "val_data = val_data.reset_index(drop = True)\n",
        "val_data"
      ]
    },
    {
      "cell_type": "code",
      "execution_count": 15,
      "metadata": {
        "colab": {
          "base_uri": "https://localhost:8080/",
          "height": 424
        },
        "id": "lZEJr1Dx30mu",
        "outputId": "6edbb3e6-ad81-4c3d-9cf9-4d3b39cb4729"
      },
      "outputs": [
        {
          "output_type": "execute_result",
          "data": {
            "text/html": [
              "\n",
              "  <div id=\"df-d345ce08-0101-4697-a435-2f547f64fa14\">\n",
              "    <div class=\"colab-df-container\">\n",
              "      <div>\n",
              "<style scoped>\n",
              "    .dataframe tbody tr th:only-of-type {\n",
              "        vertical-align: middle;\n",
              "    }\n",
              "\n",
              "    .dataframe tbody tr th {\n",
              "        vertical-align: top;\n",
              "    }\n",
              "\n",
              "    .dataframe thead th {\n",
              "        text-align: right;\n",
              "    }\n",
              "</style>\n",
              "<table border=\"1\" class=\"dataframe\">\n",
              "  <thead>\n",
              "    <tr style=\"text-align: right;\">\n",
              "      <th></th>\n",
              "      <th>worker</th>\n",
              "      <th>less_toxic</th>\n",
              "      <th>more_toxic</th>\n",
              "    </tr>\n",
              "  </thead>\n",
              "  <tbody>\n",
              "    <tr>\n",
              "      <th>0</th>\n",
              "      <td>126</td>\n",
              "      <td>palestinian christians hi   you have made doz...</td>\n",
              "      <td>re reply at jimbo youre right here about cond...</td>\n",
              "    </tr>\n",
              "    <tr>\n",
              "      <th>1</th>\n",
              "      <td>130</td>\n",
              "      <td>stop vandalizing wikipedia.</td>\n",
              "      <td>you have been blocked for vandalism to userpag...</td>\n",
              "    </tr>\n",
              "    <tr>\n",
              "      <th>2</th>\n",
              "      <td>728</td>\n",
              "      <td>age you might want to reconsider advertising y...</td>\n",
              "      <td>no not really i picked the name to wind up the...</td>\n",
              "    </tr>\n",
              "    <tr>\n",
              "      <th>3</th>\n",
              "      <td>398</td>\n",
              "      <td>the good thing is that you didnt call me mf lol</td>\n",
              "      <td>shitush shitush who are youyou are blatantly a...</td>\n",
              "    </tr>\n",
              "    <tr>\n",
              "      <th>4</th>\n",
              "      <td>2</td>\n",
              "      <td>the bottom line is that you are a biased contr...</td>\n",
              "      <td>was jesus gayif you say no how do you know wer...</td>\n",
              "    </tr>\n",
              "    <tr>\n",
              "      <th>...</th>\n",
              "      <td>...</td>\n",
              "      <td>...</td>\n",
              "      <td>...</td>\n",
              "    </tr>\n",
              "    <tr>\n",
              "      <th>6017</th>\n",
              "      <td>422</td>\n",
              "      <td>please stop your disruptive editing if you co...</td>\n",
              "      <td>youre a mathsci sockpuppet arent you</td>\n",
              "    </tr>\n",
              "    <tr>\n",
              "      <th>6018</th>\n",
              "      <td>293</td>\n",
              "      <td>dude you both are dumb in the heavier than hea...</td>\n",
              "      <td>mahmoud ahmadinejadi added the categoryanti se...</td>\n",
              "    </tr>\n",
              "    <tr>\n",
              "      <th>6019</th>\n",
              "      <td>347</td>\n",
              "      <td>then i guess i eat poop</td>\n",
              "      <td>racisttrying to whitewash the terrorists fine ...</td>\n",
              "    </tr>\n",
              "    <tr>\n",
              "      <th>6020</th>\n",
              "      <td>728</td>\n",
              "      <td>i thought you were the administrator can you f...</td>\n",
              "      <td>just because she has light skin doesnt mean an...</td>\n",
              "    </tr>\n",
              "    <tr>\n",
              "      <th>6021</th>\n",
              "      <td>132</td>\n",
              "      <td>not set in new york  why when i deleted the ca...</td>\n",
              "      <td>what the hell is that thing on the electoral m...</td>\n",
              "    </tr>\n",
              "  </tbody>\n",
              "</table>\n",
              "<p>6022 rows × 3 columns</p>\n",
              "</div>\n",
              "      <button class=\"colab-df-convert\" onclick=\"convertToInteractive('df-d345ce08-0101-4697-a435-2f547f64fa14')\"\n",
              "              title=\"Convert this dataframe to an interactive table.\"\n",
              "              style=\"display:none;\">\n",
              "        \n",
              "  <svg xmlns=\"http://www.w3.org/2000/svg\" height=\"24px\"viewBox=\"0 0 24 24\"\n",
              "       width=\"24px\">\n",
              "    <path d=\"M0 0h24v24H0V0z\" fill=\"none\"/>\n",
              "    <path d=\"M18.56 5.44l.94 2.06.94-2.06 2.06-.94-2.06-.94-.94-2.06-.94 2.06-2.06.94zm-11 1L8.5 8.5l.94-2.06 2.06-.94-2.06-.94L8.5 2.5l-.94 2.06-2.06.94zm10 10l.94 2.06.94-2.06 2.06-.94-2.06-.94-.94-2.06-.94 2.06-2.06.94z\"/><path d=\"M17.41 7.96l-1.37-1.37c-.4-.4-.92-.59-1.43-.59-.52 0-1.04.2-1.43.59L10.3 9.45l-7.72 7.72c-.78.78-.78 2.05 0 2.83L4 21.41c.39.39.9.59 1.41.59.51 0 1.02-.2 1.41-.59l7.78-7.78 2.81-2.81c.8-.78.8-2.07 0-2.86zM5.41 20L4 18.59l7.72-7.72 1.47 1.35L5.41 20z\"/>\n",
              "  </svg>\n",
              "      </button>\n",
              "      \n",
              "  <style>\n",
              "    .colab-df-container {\n",
              "      display:flex;\n",
              "      flex-wrap:wrap;\n",
              "      gap: 12px;\n",
              "    }\n",
              "\n",
              "    .colab-df-convert {\n",
              "      background-color: #E8F0FE;\n",
              "      border: none;\n",
              "      border-radius: 50%;\n",
              "      cursor: pointer;\n",
              "      display: none;\n",
              "      fill: #1967D2;\n",
              "      height: 32px;\n",
              "      padding: 0 0 0 0;\n",
              "      width: 32px;\n",
              "    }\n",
              "\n",
              "    .colab-df-convert:hover {\n",
              "      background-color: #E2EBFA;\n",
              "      box-shadow: 0px 1px 2px rgba(60, 64, 67, 0.3), 0px 1px 3px 1px rgba(60, 64, 67, 0.15);\n",
              "      fill: #174EA6;\n",
              "    }\n",
              "\n",
              "    [theme=dark] .colab-df-convert {\n",
              "      background-color: #3B4455;\n",
              "      fill: #D2E3FC;\n",
              "    }\n",
              "\n",
              "    [theme=dark] .colab-df-convert:hover {\n",
              "      background-color: #434B5C;\n",
              "      box-shadow: 0px 1px 3px 1px rgba(0, 0, 0, 0.15);\n",
              "      filter: drop-shadow(0px 1px 2px rgba(0, 0, 0, 0.3));\n",
              "      fill: #FFFFFF;\n",
              "    }\n",
              "  </style>\n",
              "\n",
              "      <script>\n",
              "        const buttonEl =\n",
              "          document.querySelector('#df-d345ce08-0101-4697-a435-2f547f64fa14 button.colab-df-convert');\n",
              "        buttonEl.style.display =\n",
              "          google.colab.kernel.accessAllowed ? 'block' : 'none';\n",
              "\n",
              "        async function convertToInteractive(key) {\n",
              "          const element = document.querySelector('#df-d345ce08-0101-4697-a435-2f547f64fa14');\n",
              "          const dataTable =\n",
              "            await google.colab.kernel.invokeFunction('convertToInteractive',\n",
              "                                                     [key], {});\n",
              "          if (!dataTable) return;\n",
              "\n",
              "          const docLinkHtml = 'Like what you see? Visit the ' +\n",
              "            '<a target=\"_blank\" href=https://colab.research.google.com/notebooks/data_table.ipynb>data table notebook</a>'\n",
              "            + ' to learn more about interactive tables.';\n",
              "          element.innerHTML = '';\n",
              "          dataTable['output_type'] = 'display_data';\n",
              "          await google.colab.output.renderOutput(dataTable, element);\n",
              "          const docLink = document.createElement('div');\n",
              "          docLink.innerHTML = docLinkHtml;\n",
              "          element.appendChild(docLink);\n",
              "        }\n",
              "      </script>\n",
              "    </div>\n",
              "  </div>\n",
              "  "
            ],
            "text/plain": [
              "      worker                                         less_toxic  \\\n",
              "0        126   palestinian christians hi   you have made doz...   \n",
              "1        130                        stop vandalizing wikipedia.   \n",
              "2        728  age you might want to reconsider advertising y...   \n",
              "3        398    the good thing is that you didnt call me mf lol   \n",
              "4          2  the bottom line is that you are a biased contr...   \n",
              "...      ...                                                ...   \n",
              "6017     422   please stop your disruptive editing if you co...   \n",
              "6018     293  dude you both are dumb in the heavier than hea...   \n",
              "6019     347                            then i guess i eat poop   \n",
              "6020     728  i thought you were the administrator can you f...   \n",
              "6021     132  not set in new york  why when i deleted the ca...   \n",
              "\n",
              "                                             more_toxic  \n",
              "0      re reply at jimbo youre right here about cond...  \n",
              "1     you have been blocked for vandalism to userpag...  \n",
              "2     no not really i picked the name to wind up the...  \n",
              "3     shitush shitush who are youyou are blatantly a...  \n",
              "4     was jesus gayif you say no how do you know wer...  \n",
              "...                                                 ...  \n",
              "6017               youre a mathsci sockpuppet arent you  \n",
              "6018  mahmoud ahmadinejadi added the categoryanti se...  \n",
              "6019  racisttrying to whitewash the terrorists fine ...  \n",
              "6020  just because she has light skin doesnt mean an...  \n",
              "6021  what the hell is that thing on the electoral m...  \n",
              "\n",
              "[6022 rows x 3 columns]"
            ]
          },
          "metadata": {},
          "execution_count": 15
        }
      ],
      "source": [
        "test_data = cleaned_data_shuffle_row[int(total_row*0.8):]\n",
        "test_data = test_data.reset_index(drop = True)\n",
        "test_data"
      ]
    },
    {
      "cell_type": "code",
      "execution_count": 16,
      "metadata": {
        "colab": {
          "base_uri": "https://localhost:8080/",
          "height": 424
        },
        "id": "yMzPTPXG30mu",
        "outputId": "a53f3fe9-cd99-435f-8b23-edd24b32b729"
      },
      "outputs": [
        {
          "output_type": "execute_result",
          "data": {
            "text/html": [
              "\n",
              "  <div id=\"df-3e968dfa-218f-46e9-869e-069100477a3b\">\n",
              "    <div class=\"colab-df-container\">\n",
              "      <div>\n",
              "<style scoped>\n",
              "    .dataframe tbody tr th:only-of-type {\n",
              "        vertical-align: middle;\n",
              "    }\n",
              "\n",
              "    .dataframe tbody tr th {\n",
              "        vertical-align: top;\n",
              "    }\n",
              "\n",
              "    .dataframe thead th {\n",
              "        text-align: right;\n",
              "    }\n",
              "</style>\n",
              "<table border=\"1\" class=\"dataframe\">\n",
              "  <thead>\n",
              "    <tr style=\"text-align: right;\">\n",
              "      <th></th>\n",
              "      <th>col_0</th>\n",
              "      <th>col_1</th>\n",
              "      <th>more_toxic_col_idx</th>\n",
              "    </tr>\n",
              "  </thead>\n",
              "  <tbody>\n",
              "    <tr>\n",
              "      <th>0</th>\n",
              "      <td>its not so much about the english language its...</td>\n",
              "      <td>i hate drmies he is an idiot</td>\n",
              "      <td>1</td>\n",
              "    </tr>\n",
              "    <tr>\n",
              "      <th>1</th>\n",
              "      <td>just read what mr george mcfly said here that ...</td>\n",
              "      <td>i fuckingg love tacosthere the fuckingg best b...</td>\n",
              "      <td>1</td>\n",
              "    </tr>\n",
              "    <tr>\n",
              "      <th>2</th>\n",
              "      <td>fuck you fuck you motherfucker go die in a hole</td>\n",
              "      <td>a barnstar for you the original barnstar your...</td>\n",
              "      <td>0</td>\n",
              "    </tr>\n",
              "    <tr>\n",
              "      <th>3</th>\n",
              "      <td>jimbo wales is a gay little fucker</td>\n",
              "      <td>i am one who thinks that zappas dad was of ara...</td>\n",
              "      <td>0</td>\n",
              "    </tr>\n",
              "    <tr>\n",
              "      <th>4</th>\n",
              "      <td>a cup of coffee for you get fuckd with coffee</td>\n",
              "      <td>dude im not angry at you i just think youre a ...</td>\n",
              "      <td>1</td>\n",
              "    </tr>\n",
              "    <tr>\n",
              "      <th>...</th>\n",
              "      <td>...</td>\n",
              "      <td>...</td>\n",
              "      <td>...</td>\n",
              "    </tr>\n",
              "    <tr>\n",
              "      <th>18059</th>\n",
              "      <td>i cant imagine anything more depressing than d...</td>\n",
              "      <td>i dont give a fuck.. it will get reposted so y...</td>\n",
              "      <td>1</td>\n",
              "    </tr>\n",
              "    <tr>\n",
              "      <th>18060</th>\n",
              "      <td>give a reason when you accuse someone of vand...</td>\n",
              "      <td>bullshit=there was no violation you removed fa...</td>\n",
              "      <td>1</td>\n",
              "    </tr>\n",
              "    <tr>\n",
              "      <th>18061</th>\n",
              "      <td>additional evidence to above one of the collec...</td>\n",
              "      <td>because you are a fggt do i know you because y...</td>\n",
              "      <td>1</td>\n",
              "    </tr>\n",
              "    <tr>\n",
              "      <th>18062</th>\n",
              "      <td>hey gwernol yeah youre a schmuck face thats wh...</td>\n",
              "      <td>omg i am obssessed with twilight and it is my ...</td>\n",
              "      <td>0</td>\n",
              "    </tr>\n",
              "    <tr>\n",
              "      <th>18063</th>\n",
              "      <td>so you assholes are high on power like george ...</td>\n",
              "      <td>jack and jill come on delanoy wheres your sens...</td>\n",
              "      <td>0</td>\n",
              "    </tr>\n",
              "  </tbody>\n",
              "</table>\n",
              "<p>18064 rows × 3 columns</p>\n",
              "</div>\n",
              "      <button class=\"colab-df-convert\" onclick=\"convertToInteractive('df-3e968dfa-218f-46e9-869e-069100477a3b')\"\n",
              "              title=\"Convert this dataframe to an interactive table.\"\n",
              "              style=\"display:none;\">\n",
              "        \n",
              "  <svg xmlns=\"http://www.w3.org/2000/svg\" height=\"24px\"viewBox=\"0 0 24 24\"\n",
              "       width=\"24px\">\n",
              "    <path d=\"M0 0h24v24H0V0z\" fill=\"none\"/>\n",
              "    <path d=\"M18.56 5.44l.94 2.06.94-2.06 2.06-.94-2.06-.94-.94-2.06-.94 2.06-2.06.94zm-11 1L8.5 8.5l.94-2.06 2.06-.94-2.06-.94L8.5 2.5l-.94 2.06-2.06.94zm10 10l.94 2.06.94-2.06 2.06-.94-2.06-.94-.94-2.06-.94 2.06-2.06.94z\"/><path d=\"M17.41 7.96l-1.37-1.37c-.4-.4-.92-.59-1.43-.59-.52 0-1.04.2-1.43.59L10.3 9.45l-7.72 7.72c-.78.78-.78 2.05 0 2.83L4 21.41c.39.39.9.59 1.41.59.51 0 1.02-.2 1.41-.59l7.78-7.78 2.81-2.81c.8-.78.8-2.07 0-2.86zM5.41 20L4 18.59l7.72-7.72 1.47 1.35L5.41 20z\"/>\n",
              "  </svg>\n",
              "      </button>\n",
              "      \n",
              "  <style>\n",
              "    .colab-df-container {\n",
              "      display:flex;\n",
              "      flex-wrap:wrap;\n",
              "      gap: 12px;\n",
              "    }\n",
              "\n",
              "    .colab-df-convert {\n",
              "      background-color: #E8F0FE;\n",
              "      border: none;\n",
              "      border-radius: 50%;\n",
              "      cursor: pointer;\n",
              "      display: none;\n",
              "      fill: #1967D2;\n",
              "      height: 32px;\n",
              "      padding: 0 0 0 0;\n",
              "      width: 32px;\n",
              "    }\n",
              "\n",
              "    .colab-df-convert:hover {\n",
              "      background-color: #E2EBFA;\n",
              "      box-shadow: 0px 1px 2px rgba(60, 64, 67, 0.3), 0px 1px 3px 1px rgba(60, 64, 67, 0.15);\n",
              "      fill: #174EA6;\n",
              "    }\n",
              "\n",
              "    [theme=dark] .colab-df-convert {\n",
              "      background-color: #3B4455;\n",
              "      fill: #D2E3FC;\n",
              "    }\n",
              "\n",
              "    [theme=dark] .colab-df-convert:hover {\n",
              "      background-color: #434B5C;\n",
              "      box-shadow: 0px 1px 3px 1px rgba(0, 0, 0, 0.15);\n",
              "      filter: drop-shadow(0px 1px 2px rgba(0, 0, 0, 0.3));\n",
              "      fill: #FFFFFF;\n",
              "    }\n",
              "  </style>\n",
              "\n",
              "      <script>\n",
              "        const buttonEl =\n",
              "          document.querySelector('#df-3e968dfa-218f-46e9-869e-069100477a3b button.colab-df-convert');\n",
              "        buttonEl.style.display =\n",
              "          google.colab.kernel.accessAllowed ? 'block' : 'none';\n",
              "\n",
              "        async function convertToInteractive(key) {\n",
              "          const element = document.querySelector('#df-3e968dfa-218f-46e9-869e-069100477a3b');\n",
              "          const dataTable =\n",
              "            await google.colab.kernel.invokeFunction('convertToInteractive',\n",
              "                                                     [key], {});\n",
              "          if (!dataTable) return;\n",
              "\n",
              "          const docLinkHtml = 'Like what you see? Visit the ' +\n",
              "            '<a target=\"_blank\" href=https://colab.research.google.com/notebooks/data_table.ipynb>data table notebook</a>'\n",
              "            + ' to learn more about interactive tables.';\n",
              "          element.innerHTML = '';\n",
              "          dataTable['output_type'] = 'display_data';\n",
              "          await google.colab.output.renderOutput(dataTable, element);\n",
              "          const docLink = document.createElement('div');\n",
              "          docLink.innerHTML = docLinkHtml;\n",
              "          element.appendChild(docLink);\n",
              "        }\n",
              "      </script>\n",
              "    </div>\n",
              "  </div>\n",
              "  "
            ],
            "text/plain": [
              "                                                   col_0  \\\n",
              "0      its not so much about the english language its...   \n",
              "1      just read what mr george mcfly said here that ...   \n",
              "2        fuck you fuck you motherfucker go die in a hole   \n",
              "3                     jimbo wales is a gay little fucker   \n",
              "4         a cup of coffee for you get fuckd with coffee    \n",
              "...                                                  ...   \n",
              "18059  i cant imagine anything more depressing than d...   \n",
              "18060   give a reason when you accuse someone of vand...   \n",
              "18061  additional evidence to above one of the collec...   \n",
              "18062  hey gwernol yeah youre a schmuck face thats wh...   \n",
              "18063  so you assholes are high on power like george ...   \n",
              "\n",
              "                                                   col_1  more_toxic_col_idx  \n",
              "0                           i hate drmies he is an idiot                   1  \n",
              "1      i fuckingg love tacosthere the fuckingg best b...                   1  \n",
              "2       a barnstar for you the original barnstar your...                   0  \n",
              "3      i am one who thinks that zappas dad was of ara...                   0  \n",
              "4      dude im not angry at you i just think youre a ...                   1  \n",
              "...                                                  ...                 ...  \n",
              "18059  i dont give a fuck.. it will get reposted so y...                   1  \n",
              "18060  bullshit=there was no violation you removed fa...                   1  \n",
              "18061  because you are a fggt do i know you because y...                   1  \n",
              "18062  omg i am obssessed with twilight and it is my ...                   0  \n",
              "18063  jack and jill come on delanoy wheres your sens...                   0  \n",
              "\n",
              "[18064 rows x 3 columns]"
            ]
          },
          "metadata": {},
          "execution_count": 16
        }
      ],
      "source": [
        "train_data_col_shuffle = pd.DataFrame()\n",
        "indices_moreToxic = []\n",
        "col_1 = []\n",
        "col_0 = []\n",
        "random.seed(0)\n",
        "\n",
        "for i in range(train_data.shape[0]):\n",
        "    idx = round(random.uniform(0, 1))\n",
        "    #print('index of more toxic',idx)\n",
        "    \n",
        "    indices_moreToxic.append(idx)#index of where the more toxic comment is \n",
        "        #1 for right column, 0 for left column \n",
        "    \n",
        "    if idx == 1: \n",
        "        col_1.append( train_data['more_toxic'][i])\n",
        "        col_0.append( train_data['less_toxic'][i])\n",
        "        \n",
        "    else:\n",
        "        col_0.append(train_data['more_toxic'][i])\n",
        "        col_1.append( train_data['less_toxic'][i])\n",
        "\n",
        "\n",
        "train_data_col_shuffle['col_0'] = pd.Series(col_0)\n",
        "#trans = pd.DataFrame(comment, columns = ['comment']) // another method of setting to df col\n",
        "\n",
        "train_data_col_shuffle['col_1'] = pd.Series(col_1)\n",
        "train_data_col_shuffle['more_toxic_col_idx'] = pd.DataFrame(indices_moreToxic)\n",
        "\n",
        "train_data_col_shuffle\n"
      ]
    },
    {
      "cell_type": "code",
      "execution_count": 17,
      "metadata": {
        "id": "T4rexB1zyJYS",
        "scrolled": true
      },
      "outputs": [],
      "source": [
        "#clean the input for predition data\n",
        "cleaned_text = clean_tweets(data_to_test['text'])\n",
        "\n",
        "data_to_test['text'] = pd.DataFrame(cleaned_text)\n",
        "#data_to_test"
      ]
    },
    {
      "cell_type": "code",
      "execution_count": 18,
      "metadata": {
        "id": "uVP8iy3t6qtG",
        "scrolled": true
      },
      "outputs": [],
      "source": [
        "# extract the labels from the train data\n",
        "#y = trans.score.values\n",
        "#X = trans.comment.values\n",
        "\n",
        "from sklearn.feature_extraction.text import CountVectorizer\n",
        "\n",
        "# initalize vectorizer: vectorize tweets for model building\n",
        "vectorizer = CountVectorizer(binary=True, stop_words='english') #stop_words removed: a, the\n",
        "\n",
        "# learn a vocabulary dictionary of all tokens in the raw documents\n",
        "vectorizer.fit(list(cleaned_data_shuffle_row.more_toxic.values) + \n",
        "               list(cleaned_data_shuffle_row.less_toxic.values) + list(data_to_test.text.values))\n",
        "    \n",
        "\n",
        "# transform documents to document-term matrix\n",
        "col0_vec = vectorizer.transform(train_data_col_shuffle.col_0)\n",
        "col1_vec = vectorizer.transform(train_data_col_shuffle.col_1)\n",
        "comments_2_score = vectorizer.transform(data_to_test[\"text\"].values)\n",
        "'''\n",
        "# combine col0 and col1\n",
        "col0_1_vec = vectorizer.transform(train_data_col_shuffle.col_0 + ' ' + train_data_col_shuffle.col_1)\n",
        "'''\n",
        "\n",
        "# for testing on the original clean more and less toxic col (unshuffled)\n",
        "more_tox_test_vec = vectorizer.transform(test_data['more_toxic'].values)\n",
        "less_tox_test_vec = vectorizer.transform(test_data['less_toxic'].values)\n",
        "\n",
        "#val set \n",
        "more_tox_val_vec = vectorizer.transform(val_data['more_toxic'].values)\n",
        "less_tox_val_vec = vectorizer.transform(val_data['less_toxic'].values)\n",
        "\n"
      ]
    },
    {
      "cell_type": "code",
      "execution_count": 19,
      "metadata": {
        "colab": {
          "base_uri": "https://localhost:8080/"
        },
        "id": "Z1iqsTq130mv",
        "outputId": "cd780f5b-231f-44c6-ec3f-40f37d8892eb"
      },
      "outputs": [
        {
          "output_type": "execute_result",
          "data": {
            "text/plain": [
              "<6022x46974 sparse matrix of type '<class 'numpy.int64'>'\n",
              "\twith 0 stored elements in Compressed Sparse Row format>"
            ]
          },
          "metadata": {},
          "execution_count": 19
        }
      ],
      "source": [
        "empty_vec = vectorizer.transform([' ']*6022) #used for testing // a baseline comment to be \n",
        "#biranked against\n",
        "empty_vec"
      ]
    },
    {
      "cell_type": "code",
      "execution_count": 20,
      "metadata": {
        "id": "ZKNXtETtcb81"
      },
      "outputs": [],
      "source": [
        "from scipy.stats import rankdata\n",
        "# make a function to score the prediction and compare if the \"lesser\" toxic rated is lower prob of rated toxicity\n",
        "def comp_toxicity (model, less_tox_val_vec, more_tox_val_vec):\n",
        "    '''\n",
        "    model is the trained model to be evaluated against the less and more toxic comments\n",
        "    objective is to see if more toxic comments have a higher score\n",
        "\n",
        "    less_tox_val_vec and more_tox_val_vec are the respective column in dataframe that contains the comments vectorized\n",
        "    '''\n",
        "    result = res = np.zeros((1,2))\n",
        "\n",
        "\n",
        "\n",
        "\n",
        "    for i in range(less_tox_val_vec.shape[0]):\n",
        "        result = rankdata([model.predict_proba(less_tox_val_vec[i]).tolist()[0][1], \n",
        "                 model.predict_proba(more_tox_val_vec[i]).tolist()[0][1]], method = 'ordinal' )\n",
        "        result -= 1\n",
        "        #print(result)\n",
        "        res += result\n",
        "        #print(res[0])\n",
        "        '''\n",
        "        if i == 5:\n",
        "            break\n",
        "        '''\n",
        "    print ('final result: ',res[0])\n",
        "    return res[0]\n",
        "\n"
      ]
    },
    {
      "cell_type": "code",
      "execution_count": 21,
      "metadata": {
        "colab": {
          "base_uri": "https://localhost:8080/"
        },
        "id": "k6vayGuK30mw",
        "outputId": "1e714bab-7808-47ba-9e79-7f99573f6f62"
      },
      "outputs": [
        {
          "output_type": "execute_result",
          "data": {
            "text/plain": [
              "<18064x93948 sparse matrix of type '<class 'numpy.longlong'>'\n",
              "\twith 901644 stored elements in Compressed Sparse Row format>"
            ]
          },
          "metadata": {},
          "execution_count": 21
        }
      ],
      "source": [
        "import scipy.sparse as sp\n",
        "\n",
        "combined_2 = sp.hstack([col0_vec, col1_vec], format='csr') #concatenate the 2 columns for train\n",
        "combined_2"
      ]
    },
    {
      "cell_type": "code",
      "execution_count": 22,
      "metadata": {
        "colab": {
          "base_uri": "https://localhost:8080/"
        },
        "id": "oTqN8sdO30mw",
        "outputId": "9d006d52-0027-4fbc-baf2-44c0c5ab680b"
      },
      "outputs": [
        {
          "output_type": "execute_result",
          "data": {
            "text/plain": [
              "<6022x93948 sparse matrix of type '<class 'numpy.longlong'>'\n",
              "\twith 160583 stored elements in Compressed Sparse Row format>"
            ]
          },
          "metadata": {},
          "execution_count": 22
        }
      ],
      "source": [
        "less_tox_empty_test_vec = sp.hstack([ empty_vec, less_tox_test_vec], format='csr')\n",
        "less_tox_empty_vec = sp.hstack([empty_vec, less_tox_val_vec], format='csr') \n",
        "# need empty_vec on the left side, comp_toxicity assumes more toxic on the right -- toxicity prob score\n",
        "less_tox_empty_vec"
      ]
    },
    {
      "cell_type": "code",
      "execution_count": 23,
      "metadata": {
        "colab": {
          "base_uri": "https://localhost:8080/"
        },
        "id": "dc0hTUYl30mw",
        "outputId": "cc17ac1c-1c4b-4833-d500-4923bcbd6115"
      },
      "outputs": [
        {
          "output_type": "execute_result",
          "data": {
            "text/plain": [
              "<6022x93948 sparse matrix of type '<class 'numpy.longlong'>'\n",
              "\twith 144111 stored elements in Compressed Sparse Row format>"
            ]
          },
          "metadata": {},
          "execution_count": 23
        }
      ],
      "source": [
        "more_tox_empty_vec = sp.hstack([ empty_vec, more_tox_val_vec], format='csr')\n",
        "more_tox_empty_test_vec = sp.hstack([ empty_vec, more_tox_test_vec], format='csr')\n",
        "more_tox_empty_test_vec"
      ]
    },
    {
      "cell_type": "code",
      "execution_count": 27,
      "metadata": {
        "colab": {
          "base_uri": "https://localhost:8080/"
        },
        "id": "8CYNXYsi2bin",
        "outputId": "69539a0f-6a80-4c2b-83c6-b9975c5c2250"
      },
      "outputs": [
        {
          "output_type": "stream",
          "name": "stderr",
          "text": [
            "/usr/local/lib/python3.7/dist-packages/sklearn/linear_model/_logistic.py:818: ConvergenceWarning: lbfgs failed to converge (status=1):\n",
            "STOP: TOTAL NO. of ITERATIONS REACHED LIMIT.\n",
            "\n",
            "Increase the number of iterations (max_iter) or scale the data as shown in:\n",
            "    https://scikit-learn.org/stable/modules/preprocessing.html\n",
            "Please also refer to the documentation for alternative solver options:\n",
            "    https://scikit-learn.org/stable/modules/linear_model.html#logistic-regression\n",
            "  extra_warning_msg=_LOGISTIC_SOLVER_CONVERGENCE_MSG,\n"
          ]
        },
        {
          "output_type": "stream",
          "name": "stdout",
          "text": [
            "final result:  [2143. 3879.]\n"
          ]
        },
        {
          "output_type": "execute_result",
          "data": {
            "text/plain": [
              "array([2143., 3879.])"
            ]
          },
          "metadata": {},
          "execution_count": 27
        }
      ],
      "source": [
        "#Logistic Regression\n",
        "\n",
        "from sklearn.linear_model import LogisticRegression\n",
        "\n",
        "clf = LogisticRegression()\n",
        "clf.fit(combined_2, train_data_col_shuffle.more_toxic_col_idx )\n",
        "comp_toxicity(clf, less_tox_empty_vec , more_tox_empty_vec)\n",
        "#print(pd.DataFrame(clf.predict(more_tox_empty_vec)).value_counts()) #does predict more toxic against baseline\n",
        "#print(pd.DataFrame(clf.predict(less_tox_empty_vec)).value_counts()) # does predict ' ' as more toxic than non-toxic"
      ]
    },
    {
      "cell_type": "code",
      "execution_count": 28,
      "metadata": {
        "colab": {
          "base_uri": "https://localhost:8080/"
        },
        "id": "bxFOh2JRkELg",
        "outputId": "feedf027-2241-4cdc-d52c-2207fd49c974"
      },
      "outputs": [
        {
          "output_type": "stream",
          "name": "stdout",
          "text": [
            "final result:  [2018. 4004.]\n"
          ]
        },
        {
          "output_type": "execute_result",
          "data": {
            "text/plain": [
              "array([2018., 4004.])"
            ]
          },
          "metadata": {},
          "execution_count": 28
        }
      ],
      "source": [
        "#Random Forest\n",
        "from sklearn.ensemble import RandomForestClassifier\n",
        "\n",
        "clf = RandomForestClassifier(n_estimators=10, random_state=1)\n",
        "clf.fit(combined_2, train_data_col_shuffle.more_toxic_col_idx )\n",
        "comp_toxicity(clf, less_tox_empty_vec , more_tox_empty_vec)"
      ]
    },
    {
      "cell_type": "code",
      "execution_count": 29,
      "metadata": {
        "colab": {
          "base_uri": "https://localhost:8080/"
        },
        "id": "U8KtIcgUrLd5",
        "outputId": "538fbb7b-e2e1-43a9-8d7b-9c793248a8d2"
      },
      "outputs": [
        {
          "output_type": "stream",
          "name": "stdout",
          "text": [
            "final result:  [1412. 4610.]\n"
          ]
        },
        {
          "output_type": "execute_result",
          "data": {
            "text/plain": [
              "array([1412., 4610.])"
            ]
          },
          "metadata": {},
          "execution_count": 29
        }
      ],
      "source": [
        "from sklearn import neighbors\n",
        "#choose neighbours after the cv \n",
        "clf = neighbors.KNeighborsClassifier(n_neighbors=3)\n",
        "clf.fit(combined_2, train_data_col_shuffle.more_toxic_col_idx )\n",
        "comp_toxicity(clf, less_tox_empty_vec , more_tox_empty_vec)"
      ]
    },
    {
      "cell_type": "code",
      "execution_count": 31,
      "metadata": {
        "colab": {
          "base_uri": "https://localhost:8080/"
        },
        "id": "7G5kB1IS30mw",
        "outputId": "36b7ed0a-4b3c-414d-e03d-d50c6d7d6b05"
      },
      "outputs": [
        {
          "output_type": "stream",
          "name": "stdout",
          "text": [
            "final result:  [2158. 3864.]\n"
          ]
        },
        {
          "output_type": "execute_result",
          "data": {
            "text/plain": [
              "array([2158., 3864.])"
            ]
          },
          "metadata": {},
          "execution_count": 31
        }
      ],
      "source": [
        "from sklearn.naive_bayes import MultinomialNB\n",
        "clf = MultinomialNB()\n",
        "clf.fit(combined_2, train_data_col_shuffle.more_toxic_col_idx )\n",
        "comp_toxicity(clf, less_tox_empty_vec, more_tox_empty_vec)"
      ]
    },
    {
      "cell_type": "code",
      "source": [
        "from sklearn.naive_bayes import BernoulliNB\n",
        "clf = BernoulliNB()\n",
        "clf.fit(combined_2, train_data_col_shuffle.more_toxic_col_idx )\n",
        "comp_toxicity(clf, less_tox_empty_vec, more_tox_empty_vec)"
      ],
      "metadata": {
        "colab": {
          "base_uri": "https://localhost:8080/"
        },
        "id": "J5cdIJxD7opc",
        "outputId": "fbfa3cc4-7acc-4e66-cfe9-87dc627575bf"
      },
      "execution_count": 32,
      "outputs": [
        {
          "output_type": "stream",
          "name": "stdout",
          "text": [
            "final result:  [2171. 3851.]\n"
          ]
        },
        {
          "output_type": "execute_result",
          "data": {
            "text/plain": [
              "array([2171., 3851.])"
            ]
          },
          "metadata": {},
          "execution_count": 32
        }
      ]
    },
    {
      "cell_type": "code",
      "execution_count": 34,
      "metadata": {
        "colab": {
          "base_uri": "https://localhost:8080/"
        },
        "id": "xkabtg_J2bsx",
        "outputId": "6bf217da-185d-4564-a92f-8986247c5f1b"
      },
      "outputs": [
        {
          "output_type": "stream",
          "name": "stdout",
          "text": [
            "final result:  [2245. 3777.]\n",
            "final result:  [2004. 4018.]\n",
            "final result:  [2150. 3872.]\n",
            "final result:  [1303. 4719.]\n"
          ]
        },
        {
          "output_type": "execute_result",
          "data": {
            "text/plain": [
              "array([1303., 4719.])"
            ]
          },
          "metadata": {},
          "execution_count": 34
        }
      ],
      "source": [
        "from sklearn import svm\n",
        "C = 1.0\n",
        "clf = svm.SVC(kernel='linear', C=C, probability = True)\n",
        "clf.fit(combined_2, train_data_col_shuffle.more_toxic_col_idx )\n",
        "comp_toxicity(clf, less_tox_empty_vec , more_tox_empty_vec)\n",
        "\n",
        "clf = svm.SVC(kernel='rbf', C=C, probability = True)\n",
        "clf.fit(combined_2, train_data_col_shuffle.more_toxic_col_idx )\n",
        "comp_toxicity(clf, less_tox_empty_vec , more_tox_empty_vec)\n",
        "\n",
        "clf = svm.SVC(kernel='sigmoid', C=C, probability = True)\n",
        "clf.fit(combined_2, train_data_col_shuffle.more_toxic_col_idx )\n",
        "comp_toxicity(clf, less_tox_empty_vec , more_tox_empty_vec)\n",
        "\n",
        "clf = svm.SVC(kernel='poly', C=C, probability = True)\n",
        "clf.fit(combined_2, train_data_col_shuffle.more_toxic_col_idx )\n",
        "comp_toxicity(clf, less_tox_empty_vec , more_tox_empty_vec)\n",
        "\n",
        "\n"
      ]
    },
    {
      "cell_type": "markdown",
      "metadata": {
        "id": "ZYo75kf50wzd"
      },
      "source": [
        "# cross validation on different models"
      ]
    },
    {
      "cell_type": "code",
      "execution_count": 30,
      "metadata": {
        "id": "2I7i01e330mw"
      },
      "outputs": [],
      "source": [
        "from sklearn.model_selection import cross_val_score\n"
      ]
    },
    {
      "cell_type": "code",
      "execution_count": 36,
      "metadata": {
        "colab": {
          "base_uri": "https://localhost:8080/"
        },
        "id": "hClBlkVlyJYS",
        "outputId": "267ff23f-391f-4490-fab9-1b6a75a21970",
        "scrolled": true
      },
      "outputs": [
        {
          "output_type": "stream",
          "name": "stderr",
          "text": [
            "/usr/local/lib/python3.7/dist-packages/sklearn/linear_model/_logistic.py:818: ConvergenceWarning: lbfgs failed to converge (status=1):\n",
            "STOP: TOTAL NO. of ITERATIONS REACHED LIMIT.\n",
            "\n",
            "Increase the number of iterations (max_iter) or scale the data as shown in:\n",
            "    https://scikit-learn.org/stable/modules/preprocessing.html\n",
            "Please also refer to the documentation for alternative solver options:\n",
            "    https://scikit-learn.org/stable/modules/linear_model.html#logistic-regression\n",
            "  extra_warning_msg=_LOGISTIC_SOLVER_CONVERGENCE_MSG,\n",
            "/usr/local/lib/python3.7/dist-packages/sklearn/linear_model/_logistic.py:818: ConvergenceWarning: lbfgs failed to converge (status=1):\n",
            "STOP: TOTAL NO. of ITERATIONS REACHED LIMIT.\n",
            "\n",
            "Increase the number of iterations (max_iter) or scale the data as shown in:\n",
            "    https://scikit-learn.org/stable/modules/preprocessing.html\n",
            "Please also refer to the documentation for alternative solver options:\n",
            "    https://scikit-learn.org/stable/modules/linear_model.html#logistic-regression\n",
            "  extra_warning_msg=_LOGISTIC_SOLVER_CONVERGENCE_MSG,\n",
            "/usr/local/lib/python3.7/dist-packages/sklearn/linear_model/_logistic.py:818: ConvergenceWarning: lbfgs failed to converge (status=1):\n",
            "STOP: TOTAL NO. of ITERATIONS REACHED LIMIT.\n",
            "\n",
            "Increase the number of iterations (max_iter) or scale the data as shown in:\n",
            "    https://scikit-learn.org/stable/modules/preprocessing.html\n",
            "Please also refer to the documentation for alternative solver options:\n",
            "    https://scikit-learn.org/stable/modules/linear_model.html#logistic-regression\n",
            "  extra_warning_msg=_LOGISTIC_SOLVER_CONVERGENCE_MSG,\n",
            "/usr/local/lib/python3.7/dist-packages/sklearn/linear_model/_logistic.py:818: ConvergenceWarning: lbfgs failed to converge (status=1):\n",
            "STOP: TOTAL NO. of ITERATIONS REACHED LIMIT.\n",
            "\n",
            "Increase the number of iterations (max_iter) or scale the data as shown in:\n",
            "    https://scikit-learn.org/stable/modules/preprocessing.html\n",
            "Please also refer to the documentation for alternative solver options:\n",
            "    https://scikit-learn.org/stable/modules/linear_model.html#logistic-regression\n",
            "  extra_warning_msg=_LOGISTIC_SOLVER_CONVERGENCE_MSG,\n",
            "/usr/local/lib/python3.7/dist-packages/sklearn/linear_model/_logistic.py:818: ConvergenceWarning: lbfgs failed to converge (status=1):\n",
            "STOP: TOTAL NO. of ITERATIONS REACHED LIMIT.\n",
            "\n",
            "Increase the number of iterations (max_iter) or scale the data as shown in:\n",
            "    https://scikit-learn.org/stable/modules/preprocessing.html\n",
            "Please also refer to the documentation for alternative solver options:\n",
            "    https://scikit-learn.org/stable/modules/linear_model.html#logistic-regression\n",
            "  extra_warning_msg=_LOGISTIC_SOLVER_CONVERGENCE_MSG,\n",
            "/usr/local/lib/python3.7/dist-packages/sklearn/linear_model/_logistic.py:818: ConvergenceWarning: lbfgs failed to converge (status=1):\n",
            "STOP: TOTAL NO. of ITERATIONS REACHED LIMIT.\n",
            "\n",
            "Increase the number of iterations (max_iter) or scale the data as shown in:\n",
            "    https://scikit-learn.org/stable/modules/preprocessing.html\n",
            "Please also refer to the documentation for alternative solver options:\n",
            "    https://scikit-learn.org/stable/modules/linear_model.html#logistic-regression\n",
            "  extra_warning_msg=_LOGISTIC_SOLVER_CONVERGENCE_MSG,\n",
            "/usr/local/lib/python3.7/dist-packages/sklearn/linear_model/_logistic.py:818: ConvergenceWarning: lbfgs failed to converge (status=1):\n",
            "STOP: TOTAL NO. of ITERATIONS REACHED LIMIT.\n",
            "\n",
            "Increase the number of iterations (max_iter) or scale the data as shown in:\n",
            "    https://scikit-learn.org/stable/modules/preprocessing.html\n",
            "Please also refer to the documentation for alternative solver options:\n",
            "    https://scikit-learn.org/stable/modules/linear_model.html#logistic-regression\n",
            "  extra_warning_msg=_LOGISTIC_SOLVER_CONVERGENCE_MSG,\n",
            "/usr/local/lib/python3.7/dist-packages/sklearn/linear_model/_logistic.py:818: ConvergenceWarning: lbfgs failed to converge (status=1):\n",
            "STOP: TOTAL NO. of ITERATIONS REACHED LIMIT.\n",
            "\n",
            "Increase the number of iterations (max_iter) or scale the data as shown in:\n",
            "    https://scikit-learn.org/stable/modules/preprocessing.html\n",
            "Please also refer to the documentation for alternative solver options:\n",
            "    https://scikit-learn.org/stable/modules/linear_model.html#logistic-regression\n",
            "  extra_warning_msg=_LOGISTIC_SOLVER_CONVERGENCE_MSG,\n",
            "/usr/local/lib/python3.7/dist-packages/sklearn/linear_model/_logistic.py:818: ConvergenceWarning: lbfgs failed to converge (status=1):\n",
            "STOP: TOTAL NO. of ITERATIONS REACHED LIMIT.\n",
            "\n",
            "Increase the number of iterations (max_iter) or scale the data as shown in:\n",
            "    https://scikit-learn.org/stable/modules/preprocessing.html\n",
            "Please also refer to the documentation for alternative solver options:\n",
            "    https://scikit-learn.org/stable/modules/linear_model.html#logistic-regression\n",
            "  extra_warning_msg=_LOGISTIC_SOLVER_CONVERGENCE_MSG,\n",
            "/usr/local/lib/python3.7/dist-packages/sklearn/linear_model/_logistic.py:818: ConvergenceWarning: lbfgs failed to converge (status=1):\n",
            "STOP: TOTAL NO. of ITERATIONS REACHED LIMIT.\n",
            "\n",
            "Increase the number of iterations (max_iter) or scale the data as shown in:\n",
            "    https://scikit-learn.org/stable/modules/preprocessing.html\n",
            "Please also refer to the documentation for alternative solver options:\n",
            "    https://scikit-learn.org/stable/modules/linear_model.html#logistic-regression\n",
            "  extra_warning_msg=_LOGISTIC_SOLVER_CONVERGENCE_MSG,\n"
          ]
        },
        {
          "output_type": "execute_result",
          "data": {
            "text/plain": [
              "0.6305367461716801"
            ]
          },
          "metadata": {},
          "execution_count": 36
        }
      ],
      "source": [
        "#Logistic Regression\n",
        "\n",
        "from sklearn.linear_model import LogisticRegression\n",
        "\n",
        "clf = LogisticRegression()\n",
        "cv_scores = cross_val_score(clf, combined_2, train_data_col_shuffle.more_toxic_col_idx, cv=10)\n",
        "cv_scores.mean()"
      ]
    },
    {
      "cell_type": "code",
      "execution_count": 37,
      "metadata": {
        "colab": {
          "base_uri": "https://localhost:8080/"
        },
        "id": "P5zBWM7YyJYS",
        "outputId": "43e6faf8-d59b-4b0d-fc23-ab8c790f48b3"
      },
      "outputs": [
        {
          "output_type": "stream",
          "name": "stdout",
          "text": [
            "random forest:  0.6158664073086024\n"
          ]
        }
      ],
      "source": [
        "#Random Forest\n",
        "\n",
        "from sklearn.ensemble import RandomForestClassifier\n",
        "\n",
        "\n",
        "clf = RandomForestClassifier(n_estimators=10, random_state=1)\n",
        "cv_scores = cross_val_score(clf, combined_2, train_data_col_shuffle.more_toxic_col_idx,\n",
        "                            cv=10)\n",
        "\n",
        "print ('random forest: ',cv_scores.mean())"
      ]
    },
    {
      "cell_type": "code",
      "execution_count": 38,
      "metadata": {
        "colab": {
          "base_uri": "https://localhost:8080/"
        },
        "id": "rRb4DqUuyJYS",
        "outputId": "16d55a55-db31-4cf1-ca9e-434841a80e46"
      },
      "outputs": [
        {
          "output_type": "stream",
          "name": "stdout",
          "text": [
            "1 0.5856401615227111\n",
            "2 0.581653726341697\n",
            "3 0.562055982609772\n",
            "4 0.5824291959225874\n",
            "5 0.5687549832354918\n",
            "6 0.5799925354886037\n",
            "7 0.5663183228015083\n",
            "8 0.5728510572579504\n",
            "9 0.5608938966894462\n",
            "10 0.572020921468805\n",
            "11 0.5589558509083354\n",
            "12 0.5668720020150504\n",
            "13 0.5541948960637265\n",
            "14 0.5616684776380275\n"
          ]
        }
      ],
      "source": [
        "#KNN choosing best neighbour number \n",
        "\n",
        "from sklearn import neighbors\n",
        "\n",
        "\n",
        "for n in range(1, 15):\n",
        "    clf = neighbors.KNeighborsClassifier(n_neighbors=n)\n",
        "    cv_scores = cross_val_score(clf,combined_2, train_data_col_shuffle.more_toxic_col_idx\n",
        "                                , cv=10)\n",
        "    print (n, cv_scores.mean())\n",
        "    \n"
      ]
    },
    {
      "cell_type": "code",
      "execution_count": null,
      "metadata": {
        "id": "O8g2TuWMyJYS"
      },
      "outputs": [],
      "source": [
        "#KNN \n",
        "\n",
        "from sklearn import neighbors\n",
        "\n",
        "clf = neighbors.KNeighborsClassifier(n_neighbors=1)\n",
        "cv_scores = cross_val_score(clf, combined_2, train_data_col_shuffle.more_toxic_col_idx,\n",
        "                            cv=10)\n",
        "\n",
        "cv_scores.mean()"
      ]
    },
    {
      "cell_type": "code",
      "execution_count": 40,
      "metadata": {
        "colab": {
          "base_uri": "https://localhost:8080/"
        },
        "id": "nx0H3_S_yJYS",
        "outputId": "77b6aeca-b57d-4b88-e5b7-d7ca7d47d6a5",
        "scrolled": true
      },
      "outputs": [
        {
          "output_type": "stream",
          "name": "stdout",
          "text": [
            "minmax scaled Baye's:  0.6335798215503754\n"
          ]
        }
      ],
      "source": [
        "#Naive Bayes\n",
        "#usually not the best performance, but fast to train\n",
        "from sklearn import preprocessing\n",
        "\n",
        "from sklearn.naive_bayes import MultinomialNB\n",
        "\n",
        "#scaler = preprocessing.MinMaxScaler()\n",
        "scaler = preprocessing.MaxAbsScaler() #don't really need scaling since the input is already binary \n",
        "training_inputs_minmax = scaler.fit_transform(combined_2)\n",
        "\n",
        "clf = MultinomialNB()\n",
        "cv_scores = cross_val_score(clf, combined_2, train_data_col_shuffle.more_toxic_col_idx, cv=10)\n",
        "\n",
        "print ('minmax scaled Baye\\'s: ',cv_scores.mean())"
      ]
    },
    {
      "cell_type": "code",
      "execution_count": 32,
      "metadata": {
        "colab": {
          "base_uri": "https://localhost:8080/"
        },
        "id": "W0_RUV73yJYS",
        "outputId": "1283952c-91c2-4f35-8c6e-a8608d8c4b49"
      },
      "outputs": [
        {
          "output_type": "stream",
          "name": "stdout",
          "text": [
            "linear kernel 0.6178598853603037\n",
            "rbf kernel 0.6434898184187124\n",
            "sigmoid kernel 0.6374565872474521\n",
            "poly kernel 0.5817658778676013\n"
          ]
        }
      ],
      "source": [
        "#SVM with kernel tuning\n",
        "\n",
        "from sklearn import svm\n",
        "\n",
        "C = 1.0\n",
        "svc = svm.SVC(kernel='linear', C=C)\n",
        "cv_scores = cross_val_score(svc,combined_2, train_data_col_shuffle.more_toxic_col_idx\n",
        "                            , cv=10)\n",
        "print ('linear kernel', cv_scores.mean())\n",
        "\n",
        "\n",
        "svc = svm.SVC(kernel='rbf', C=C)\n",
        "cv_scores = cross_val_score(svc, combined_2, train_data_col_shuffle.more_toxic_col_idx,\n",
        "                            cv=10)\n",
        "cv_scores.mean()\n",
        "print ('rbf kernel', cv_scores.mean())\n",
        "\n",
        "\n",
        "svc = svm.SVC(kernel='sigmoid', C=C)\n",
        "cv_scores = cross_val_score(svc, combined_2, train_data_col_shuffle.more_toxic_col_idx\n",
        "                            , cv=10)\n",
        "cv_scores.mean()\n",
        "print ('sigmoid kernel', cv_scores.mean())\n",
        "\n",
        "svc = svm.SVC(kernel='poly', C=C)\n",
        "cv_scores = cross_val_score(svc, combined_2, train_data_col_shuffle.more_toxic_col_idx\n",
        "                            , cv=10)\n",
        "cv_scores.mean()\n",
        "print ('poly kernel', cv_scores.mean())"
      ]
    },
    {
      "cell_type": "markdown",
      "metadata": {
        "id": "8Jtg47bIyJYS"
      },
      "source": [
        "# try on colab: keras lstm, xgb \n",
        "\n",
        "Didn't try LSTM on biranked training, because the other models' accuracy didn't seem to improve with this biranked training of data transformation vs. the training done on rating aggregation."
      ]
    },
    {
      "cell_type": "code",
      "execution_count": 28,
      "metadata": {
        "colab": {
          "base_uri": "https://localhost:8080/"
        },
        "id": "jOGyFLqQ0d8s",
        "outputId": "b08ae4dc-537a-4d08-fbfc-da38ba8a779d"
      },
      "outputs": [
        {
          "output_type": "stream",
          "name": "stdout",
          "text": [
            "Requirement already satisfied: xgboost in /usr/local/lib/python3.7/dist-packages (0.90)\n",
            "Requirement already satisfied: scipy in /usr/local/lib/python3.7/dist-packages (from xgboost) (1.4.1)\n",
            "Requirement already satisfied: numpy in /usr/local/lib/python3.7/dist-packages (from xgboost) (1.21.5)\n"
          ]
        }
      ],
      "source": [
        "!pip install xgboost"
      ]
    },
    {
      "cell_type": "code",
      "execution_count": 31,
      "metadata": {
        "colab": {
          "base_uri": "https://localhost:8080/"
        },
        "id": "W-oSlXPbyJYS",
        "outputId": "7433c010-5548-492f-b692-44e31bf54af7"
      },
      "outputs": [
        {
          "output_type": "stream",
          "name": "stdout",
          "text": [
            "0.6306466914380583\n"
          ]
        }
      ],
      "source": [
        "import xgboost as xgb\n",
        "\n",
        "clf = xgb.XGBClassifier( eta = 0.6 ,objective = 'multi:softmax', num_class = 2) #eta higher starts losing acc -- lower is slower\n",
        "cv_scores = cross_val_score(clf, combined_2, train_data_col_shuffle.more_toxic_col_idx\n",
        "                            , cv=10)\n",
        "print (cv_scores.mean())"
      ]
    },
    {
      "cell_type": "markdown",
      "source": [
        "# Test data performance on the best model\n"
      ],
      "metadata": {
        "id": "uQc2YuFt-e0K"
      }
    },
    {
      "cell_type": "code",
      "execution_count": 26,
      "metadata": {
        "id": "VcYuPMyRLckB",
        "colab": {
          "base_uri": "https://localhost:8080/"
        },
        "outputId": "62368159-bafa-4949-a6bf-509bf427d736"
      },
      "outputs": [
        {
          "output_type": "stream",
          "name": "stdout",
          "text": [
            "final result:  [1343. 4679.]\n",
            "final result:  [1240. 4782.]\n"
          ]
        },
        {
          "output_type": "execute_result",
          "data": {
            "text/plain": [
              "array([1240., 4782.])"
            ]
          },
          "metadata": {},
          "execution_count": 26
        }
      ],
      "source": [
        "#poly svm and nearest neighbour did the best on the validation set\n",
        "from sklearn import neighbors, svm\n",
        "\n",
        "C = 1\n",
        "\n",
        "clf = svm.SVC(kernel='poly', C=C, probability = True)\n",
        "clf.fit(combined_2, train_data_col_shuffle.more_toxic_col_idx )\n",
        "comp_toxicity(clf, less_tox_empty_test_vec , more_tox_empty_test_vec)\n",
        "\n",
        "\n",
        "clf = neighbors.KNeighborsClassifier(n_neighbors=2)\n",
        "clf.fit(combined_2, train_data_col_shuffle.more_toxic_col_idx )\n",
        "comp_toxicity(clf, less_tox_empty_test_vec , more_tox_empty_test_vec)"
      ]
    },
    {
      "cell_type": "markdown",
      "source": [
        "# Best Model's Performance\n",
        "\n",
        "K nearest neighbour with neighbours = 2's accuracy: 79.4 %.\n"
      ],
      "metadata": {
        "id": "0P6_3-_4bu1_"
      }
    },
    {
      "cell_type": "markdown",
      "metadata": {
        "id": "l5GB-FkZX_Dl"
      },
      "source": [
        "# Improvement\n",
        "Transfer learning on BERT sentiment analysis -- change out the last layer to fine tune the range of ranking capabilities. Can try to tune those pre-trained transformer models to biranked or aggregated data provided in this competition. See if this method offers higher prediction accuracy."
      ]
    },
    {
      "cell_type": "code",
      "execution_count": null,
      "metadata": {
        "id": "ch7QklDnLcmY"
      },
      "outputs": [],
      "source": [
        ""
      ]
    }
  ],
  "metadata": {
    "accelerator": "GPU",
    "colab": {
      "collapsed_sections": [],
      "name": "bow_biranktrain.ipynb",
      "provenance": []
    },
    "kernelspec": {
      "display_name": "kaggle_kernel",
      "language": "python",
      "name": "kaggle_kernel"
    },
    "language_info": {
      "codemirror_mode": {
        "name": "ipython",
        "version": 3
      },
      "file_extension": ".py",
      "mimetype": "text/x-python",
      "name": "python",
      "nbconvert_exporter": "python",
      "pygments_lexer": "ipython3",
      "version": "3.8.9"
    }
  },
  "nbformat": 4,
  "nbformat_minor": 0
}