{
 "cells": [
  {
   "cell_type": "markdown",
   "metadata": {
    "id": "KnUPQ03ozgN6"
   },
   "source": [
    "# Comment Toxicity Rater\n",
    "- slimmed down from GDrive's ToxicityRater.ipynb (also contains cap letter count)\n",
    "- profanity score + toxic probability (1 being 100% toxic, 0 being not toxic at all) + exclamation mark count (if more than 0.5 profanity score)\n",
    "\n",
    "\n",
    "Resources from: \n",
    "\n",
    "1) https://pypi.org/project/alt-profanity-check/ \n",
    "\n",
    "2) https://github.com/importdata/Twitter-Sentiment-Analysis/blob/master/Twitter_Sentiment_Analysis_Support_Vector_Classifier.ipynb\n"
   ]
  },
  {
   "cell_type": "code",
   "execution_count": 1,
   "metadata": {
    "id": "JK2ClqlvzPs7"
   },
   "outputs": [],
   "source": [
    "import sklearn\n",
    "import numpy as np\n",
    "import pandas as pd"
   ]
  },
  {
   "cell_type": "markdown",
   "metadata": {
    "colab": {
     "base_uri": "https://localhost:8080/"
    },
    "id": "FxYbjQq7zWWX",
    "outputId": "671f24c5-4296-4d65-c9d1-1734a98da290"
   },
   "source": [
    "# Dependencies\n",
    "alt-profanity-check==1.0.2.1\n",
    "appnope==0.1.2\n",
    "argon2-cffi==21.3.0\n",
    "argon2-cffi-bindings==21.2.0\n",
    "asttokens==2.0.5\n",
    "attrs==21.4.0\n",
    "backcall==0.2.0\n",
    "black==21.12b0\n",
    "bleach==4.1.0\n",
    "cffi==1.15.0\n",
    "click==8.0.3\n",
    "cycler==0.11.0\n",
    "debugpy==1.5.1\n",
    "decorator==5.1.1\n",
    "defusedxml==0.7.1\n",
    "entrypoints==0.3\n",
    "executing==0.8.2\n",
    "fonttools==4.29.0\n",
    "importlib-resources==5.4.0\n",
    "install==1.3.5\n",
    "ipykernel==6.7.0\n",
    "ipython==8.0.1\n",
    "ipython-genutils==0.2.0\n",
    "ipywidgets==7.6.5\n",
    "jedi==0.18.1\n",
    "Jinja2==3.0.3\n",
    "joblib==1.1.0\n",
    "jsonschema==4.4.0\n",
    "jupyter==1.0.0\n",
    "jupyter-client==7.1.2\n",
    "jupyter-console==6.4.0\n",
    "jupyter-core==4.9.1\n",
    "jupyterlab-pygments==0.1.2\n",
    "jupyterlab-widgets==1.0.2\n",
    "kiwisolver==1.3.2\n",
    "MarkupSafe==2.0.1\n",
    "matplotlib==3.5.1\n",
    "matplotlib-inline==0.1.3\n",
    "mistune==0.8.4\n",
    "mypy-extensions==0.4.3\n",
    "nbclient==0.5.10\n",
    "nbconvert==6.4.1\n",
    "nbformat==5.1.3\n",
    "nest-asyncio==1.5.4\n",
    "notebook==6.4.8\n",
    "numpy==1.22.1\n",
    "packaging==21.3\n",
    "pandas==1.4.0\n",
    "pandocfilters==1.5.0\n",
    "parso==0.8.3\n",
    "pathspec==0.9.0\n",
    "pexpect==4.8.0\n",
    "pickleshare==0.7.5\n",
    "Pillow==9.0.0\n",
    "platformdirs==2.4.1\n",
    "prometheus-client==0.13.1\n",
    "prompt-toolkit==3.0.26\n",
    "ptyprocess==0.7.0\n",
    "pure-eval==0.2.2\n",
    "pycparser==2.21\n",
    "Pygments==2.11.2\n",
    "pyparsing==3.0.7\n",
    "pyrsistent==0.18.1\n",
    "python-dateutil==2.8.2\n",
    "pytz==2021.3\n",
    "pyzmq==22.3.0\n",
    "qtconsole==5.2.2\n",
    "QtPy==2.0.0\n",
    "regex==2022.1.18\n",
    "scikit-learn==1.0.2\n",
    "scipy==1.7.3\n",
    "Send2Trash==1.8.0\n",
    "six==1.16.0\n",
    "sklearn==0.0\n",
    "stack-data==0.1.4\n",
    "terminado==0.13.1\n",
    "testpath==0.5.0\n",
    "threadpoolctl==3.0.0\n",
    "tomli==1.2.3\n",
    "tornado==6.1\n",
    "traitlets==5.1.1\n",
    "tweet-preprocessor==0.6.0\n",
    "typing_extensions==4.0.1\n",
    "wcwidth==0.2.5\n",
    "webencodings==0.5.1\n",
    "widgetsnbextension==3.5.2\n",
    "zipp==3.7.0"
   ]
  },
  {
   "cell_type": "code",
   "execution_count": 3,
   "metadata": {
    "id": "YBi80m2m0wO4"
   },
   "outputs": [],
   "source": [
    "# remove special characters using the regular expression library\n",
    "import re\n",
    "\n",
    "#set up punctuations we want to be replaced\n",
    "REPLACE_NO_SPACE = re.compile(\"(\\.)|(\\;)|(\\:)|(\\')|(\\?)|(\\,)|(\\\")|(\\|)|(\\()|(\\))|(\\[)|(\\])|(\\%)|(\\$)|(\\>)|(\\<)|(\\{)|(\\})\")\n",
    "REPLACE_WITH_SPACE = re.compile(\"(<br\\s/><br\\s/?)|(-)|(/)|(:).\")"
   ]
  },
  {
   "cell_type": "code",
   "execution_count": 4,
   "metadata": {
    "id": "NsFs8bzc0ylC"
   },
   "outputs": [],
   "source": [
    "import preprocessor as p\n",
    "\n",
    "# custum function to clean the dataset (combining tweet_preprocessor and reguar expression)\n",
    "def clean_tweets(df):\n",
    "  tempArr = []\n",
    "  for line in df:\n",
    "    # send to tweet_processor\n",
    "    tmpL = p.clean(line)\n",
    "    # remove puctuation\n",
    "    tmpL = REPLACE_NO_SPACE.sub(\"\", tmpL.lower()) # convert all tweets to lower cases\n",
    "    tmpL = REPLACE_WITH_SPACE.sub(\" \", tmpL)\n",
    "    tempArr.append(tmpL)\n",
    "  return tempArr"
   ]
  },
  {
   "cell_type": "code",
   "execution_count": 9,
   "metadata": {},
   "outputs": [
    {
     "name": "stdout",
     "output_type": "stream",
     "text": [
      "/Users/ericling/Documents/GitHub/DataSci Projects/KaggleToxicity/Kaggle_ToxicityRater\r\n"
     ]
    }
   ],
   "source": [
    "!pwd"
   ]
  },
  {
   "cell_type": "code",
   "execution_count": 10,
   "metadata": {
    "id": "jdxdQ2Fz00L3"
   },
   "outputs": [],
   "source": [
    "####modified from https://github.com/importdata/Twitter-Sentiment-Analysis/blob/master/Twitter_Sentiment_Analysis_Support_Vector_Classifier.ipynb\n",
    "\n",
    "# training twitter data\n",
    "train = pd.read_csv(\"./data/train.csv\")\n",
    "\n",
    "#train wiki data\n",
    "# train_wiki = pd.read_csv(\"/content/train_wiki.csv\")\n",
    "\n",
    "# test data\n",
    "test = pd.read_csv(\"./data/validation_data.csv\")\n"
   ]
  },
  {
   "cell_type": "code",
   "execution_count": 11,
   "metadata": {
    "id": "j-XcSsDU03Lf"
   },
   "outputs": [],
   "source": [
    "# train.head()\n",
    "# test.tail()\n",
    "# train.tail()\n",
    "# check if there are any missing values\n",
    "# train.isnull().sum()\n",
    "#train.isnull().values.any()\n"
   ]
  },
  {
   "cell_type": "code",
   "execution_count": 12,
   "metadata": {
    "id": "w_V2JOoI_f8R"
   },
   "outputs": [
    {
     "name": "stderr",
     "output_type": "stream",
     "text": [
      "/Users/ericling/Documents/GitHub/DataSci Projects/KaggleToxicity/Kaggle_ToxicityRater/kaggle_kernel/lib/python3.8/site-packages/sklearn/base.py:329: UserWarning: Trying to unpickle estimator TfidfTransformer from version 1.0.1 when using version 1.0.2. This might lead to breaking code or invalid results. Use at your own risk. For more info please refer to:\n",
      "https://scikit-learn.org/stable/modules/model_persistence.html#security-maintainability-limitations\n",
      "  warnings.warn(\n",
      "/Users/ericling/Documents/GitHub/DataSci Projects/KaggleToxicity/Kaggle_ToxicityRater/kaggle_kernel/lib/python3.8/site-packages/sklearn/base.py:329: UserWarning: Trying to unpickle estimator TfidfVectorizer from version 1.0.1 when using version 1.0.2. This might lead to breaking code or invalid results. Use at your own risk. For more info please refer to:\n",
      "https://scikit-learn.org/stable/modules/model_persistence.html#security-maintainability-limitations\n",
      "  warnings.warn(\n",
      "/Users/ericling/Documents/GitHub/DataSci Projects/KaggleToxicity/Kaggle_ToxicityRater/kaggle_kernel/lib/python3.8/site-packages/sklearn/base.py:329: UserWarning: Trying to unpickle estimator LinearSVC from version 1.0.1 when using version 1.0.2. This might lead to breaking code or invalid results. Use at your own risk. For more info please refer to:\n",
      "https://scikit-learn.org/stable/modules/model_persistence.html#security-maintainability-limitations\n",
      "  warnings.warn(\n",
      "/Users/ericling/Documents/GitHub/DataSci Projects/KaggleToxicity/Kaggle_ToxicityRater/kaggle_kernel/lib/python3.8/site-packages/sklearn/base.py:329: UserWarning: Trying to unpickle estimator _SigmoidCalibration from version 1.0.1 when using version 1.0.2. This might lead to breaking code or invalid results. Use at your own risk. For more info please refer to:\n",
      "https://scikit-learn.org/stable/modules/model_persistence.html#security-maintainability-limitations\n",
      "  warnings.warn(\n",
      "/Users/ericling/Documents/GitHub/DataSci Projects/KaggleToxicity/Kaggle_ToxicityRater/kaggle_kernel/lib/python3.8/site-packages/sklearn/base.py:329: UserWarning: Trying to unpickle estimator CalibratedClassifierCV from version 1.0.1 when using version 1.0.2. This might lead to breaking code or invalid results. Use at your own risk. For more info please refer to:\n",
      "https://scikit-learn.org/stable/modules/model_persistence.html#security-maintainability-limitations\n",
      "  warnings.warn(\n"
     ]
    }
   ],
   "source": [
    "from profanity_check import predict_prob\n",
    "\n",
    "def exc_cnt(df):\n",
    "  #shorter function using python for counting exclamation marks \n",
    "  return [len(re.findall(r'\\!', line)) if predict_prob([line])>0.5 else 0 for line in df ] #if there is a filter condition, can do an 'if' after df\n"
   ]
  },
  {
   "cell_type": "code",
   "execution_count": 13,
   "metadata": {
    "id": "tBhtQYS6X6V-"
   },
   "outputs": [],
   "source": [
    "from profanity_check import predict_prob\n",
    "\n",
    "def prof_check(df):\n",
    "  profa_list = []\n",
    "  for line in df:\n",
    "    profa_list.append(predict_prob (line))\n",
    "\n",
    "  return profa_list\n"
   ]
  },
  {
   "cell_type": "code",
   "execution_count": 14,
   "metadata": {
    "id": "3_94auNg1EbB"
   },
   "outputs": [],
   "source": [
    "# clean training data\n",
    "train_tweet = clean_tweets(train[\"tweet\"])\n",
    "train_tweet = pd.DataFrame(train_tweet)"
   ]
  },
  {
   "cell_type": "code",
   "execution_count": 15,
   "metadata": {
    "colab": {
     "base_uri": "https://localhost:8080/",
     "height": 520
    },
    "id": "LwKYeado1XuD",
    "outputId": "301124f2-d91b-4705-f99f-bb36d11f3dd0"
   },
   "outputs": [
    {
     "data": {
      "text/html": [
       "<div>\n",
       "<style scoped>\n",
       "    .dataframe tbody tr th:only-of-type {\n",
       "        vertical-align: middle;\n",
       "    }\n",
       "\n",
       "    .dataframe tbody tr th {\n",
       "        vertical-align: top;\n",
       "    }\n",
       "\n",
       "    .dataframe thead th {\n",
       "        text-align: right;\n",
       "    }\n",
       "</style>\n",
       "<table border=\"1\" class=\"dataframe\">\n",
       "  <thead>\n",
       "    <tr style=\"text-align: right;\">\n",
       "      <th></th>\n",
       "      <th>id</th>\n",
       "      <th>label</th>\n",
       "      <th>tweet</th>\n",
       "      <th>clean_tweet</th>\n",
       "    </tr>\n",
       "  </thead>\n",
       "  <tbody>\n",
       "    <tr>\n",
       "      <th>31947</th>\n",
       "      <td>31948</td>\n",
       "      <td>1</td>\n",
       "      <td>@user @user you don't have the balls to hashta...</td>\n",
       "      <td>you dont have the balls to hashtag me as a but...</td>\n",
       "    </tr>\n",
       "    <tr>\n",
       "      <th>31948</th>\n",
       "      <td>31949</td>\n",
       "      <td>1</td>\n",
       "      <td>makes you ask yourself, who am i? then am i a...</td>\n",
       "      <td>makes you ask yourself who am i then am i anyb...</td>\n",
       "    </tr>\n",
       "    <tr>\n",
       "      <th>31949</th>\n",
       "      <td>31950</td>\n",
       "      <td>0</td>\n",
       "      <td>hear one of my new songs! don't go - katie ell...</td>\n",
       "      <td>hear one of my new songs! dont go   katie ellie</td>\n",
       "    </tr>\n",
       "    <tr>\n",
       "      <th>31950</th>\n",
       "      <td>31951</td>\n",
       "      <td>0</td>\n",
       "      <td>@user you can try to 'tail' us to stop, 'butt...</td>\n",
       "      <td>you can try to tail us to stop butt were just ...</td>\n",
       "    </tr>\n",
       "    <tr>\n",
       "      <th>31951</th>\n",
       "      <td>31952</td>\n",
       "      <td>0</td>\n",
       "      <td>i've just posted a new blog: #secondlife #lone...</td>\n",
       "      <td>ive just posted a new blog</td>\n",
       "    </tr>\n",
       "    <tr>\n",
       "      <th>31952</th>\n",
       "      <td>31953</td>\n",
       "      <td>0</td>\n",
       "      <td>@user you went too far with @user</td>\n",
       "      <td>you went too far with</td>\n",
       "    </tr>\n",
       "    <tr>\n",
       "      <th>31953</th>\n",
       "      <td>31954</td>\n",
       "      <td>0</td>\n",
       "      <td>good morning #instagram #shower #water #berlin...</td>\n",
       "      <td>good morning</td>\n",
       "    </tr>\n",
       "    <tr>\n",
       "      <th>31954</th>\n",
       "      <td>31955</td>\n",
       "      <td>0</td>\n",
       "      <td>#holiday   bull up: you will dominate your bul...</td>\n",
       "      <td>bull up you will dominate your bull and you wi...</td>\n",
       "    </tr>\n",
       "    <tr>\n",
       "      <th>31955</th>\n",
       "      <td>31956</td>\n",
       "      <td>0</td>\n",
       "      <td>less than 2 weeks ð",
       "ðð¼ð¹ððµ @us...</td>\n",
       "      <td>less than weeks</td>\n",
       "    </tr>\n",
       "    <tr>\n",
       "      <th>31956</th>\n",
       "      <td>31957</td>\n",
       "      <td>0</td>\n",
       "      <td>off fishing tomorrow @user carnt wait first ti...</td>\n",
       "      <td>off fishing tomorrow carnt wait first time in ...</td>\n",
       "    </tr>\n",
       "    <tr>\n",
       "      <th>31957</th>\n",
       "      <td>31958</td>\n",
       "      <td>0</td>\n",
       "      <td>ate @user isz that youuu?ðððððð...</td>\n",
       "      <td>ate isz that youuu</td>\n",
       "    </tr>\n",
       "    <tr>\n",
       "      <th>31958</th>\n",
       "      <td>31959</td>\n",
       "      <td>0</td>\n",
       "      <td>to see nina turner on the airwaves trying to...</td>\n",
       "      <td>to see nina turner on the airwaves trying to w...</td>\n",
       "    </tr>\n",
       "    <tr>\n",
       "      <th>31959</th>\n",
       "      <td>31960</td>\n",
       "      <td>0</td>\n",
       "      <td>listening to sad songs on a monday morning otw...</td>\n",
       "      <td>listening to sad songs on a monday morning otw...</td>\n",
       "    </tr>\n",
       "    <tr>\n",
       "      <th>31960</th>\n",
       "      <td>31961</td>\n",
       "      <td>1</td>\n",
       "      <td>@user #sikh #temple vandalised in in #calgary,...</td>\n",
       "      <td>vandalised in in  condemns act</td>\n",
       "    </tr>\n",
       "    <tr>\n",
       "      <th>31961</th>\n",
       "      <td>31962</td>\n",
       "      <td>0</td>\n",
       "      <td>thank you @user for you follow</td>\n",
       "      <td>thank you for you follow</td>\n",
       "    </tr>\n",
       "  </tbody>\n",
       "</table>\n",
       "</div>"
      ],
      "text/plain": [
       "          id  label                                              tweet  \\\n",
       "31947  31948      1  @user @user you don't have the balls to hashta...   \n",
       "31948  31949      1   makes you ask yourself, who am i? then am i a...   \n",
       "31949  31950      0  hear one of my new songs! don't go - katie ell...   \n",
       "31950  31951      0   @user you can try to 'tail' us to stop, 'butt...   \n",
       "31951  31952      0  i've just posted a new blog: #secondlife #lone...   \n",
       "31952  31953      0                @user you went too far with @user     \n",
       "31953  31954      0  good morning #instagram #shower #water #berlin...   \n",
       "31954  31955      0  #holiday   bull up: you will dominate your bul...   \n",
       "31955  31956      0  less than 2 weeks ð\n",
       "ðð¼ð¹ððµ @us...   \n",
       "31956  31957      0  off fishing tomorrow @user carnt wait first ti...   \n",
       "31957  31958      0  ate @user isz that youuu?ðððððð...   \n",
       "31958  31959      0    to see nina turner on the airwaves trying to...   \n",
       "31959  31960      0  listening to sad songs on a monday morning otw...   \n",
       "31960  31961      1  @user #sikh #temple vandalised in in #calgary,...   \n",
       "31961  31962      0                   thank you @user for you follow     \n",
       "\n",
       "                                             clean_tweet  \n",
       "31947  you dont have the balls to hashtag me as a but...  \n",
       "31948  makes you ask yourself who am i then am i anyb...  \n",
       "31949    hear one of my new songs! dont go   katie ellie  \n",
       "31950  you can try to tail us to stop butt were just ...  \n",
       "31951                         ive just posted a new blog  \n",
       "31952                              you went too far with  \n",
       "31953                                       good morning  \n",
       "31954  bull up you will dominate your bull and you wi...  \n",
       "31955                                    less than weeks  \n",
       "31956  off fishing tomorrow carnt wait first time in ...  \n",
       "31957                                 ate isz that youuu  \n",
       "31958  to see nina turner on the airwaves trying to w...  \n",
       "31959  listening to sad songs on a monday morning otw...  \n",
       "31960                     vandalised in in  condemns act  \n",
       "31961                           thank you for you follow  "
      ]
     },
     "execution_count": 15,
     "metadata": {},
     "output_type": "execute_result"
    }
   ],
   "source": [
    "# append cleaned tweets, exclamation mark counter to the training data\n",
    "train[\"clean_tweet\"] = train_tweet\n",
    "\n",
    "# compare the cleaned and uncleaned tweets\n",
    "train.tail(15)"
   ]
  },
  {
   "cell_type": "code",
   "execution_count": 16,
   "metadata": {
    "colab": {
     "base_uri": "https://localhost:8080/",
     "height": 337
    },
    "id": "QiznJSpT1xsz",
    "outputId": "5569cc2d-5634-4d10-cdec-48f7c80e6e0e"
   },
   "outputs": [
    {
     "data": {
      "text/html": [
       "<div>\n",
       "<style scoped>\n",
       "    .dataframe tbody tr th:only-of-type {\n",
       "        vertical-align: middle;\n",
       "    }\n",
       "\n",
       "    .dataframe tbody tr th {\n",
       "        vertical-align: top;\n",
       "    }\n",
       "\n",
       "    .dataframe thead th {\n",
       "        text-align: right;\n",
       "    }\n",
       "</style>\n",
       "<table border=\"1\" class=\"dataframe\">\n",
       "  <thead>\n",
       "    <tr style=\"text-align: right;\">\n",
       "      <th></th>\n",
       "      <th>worker</th>\n",
       "      <th>less_toxic</th>\n",
       "      <th>more_toxic</th>\n",
       "      <th>less_toxic_clean_tweet</th>\n",
       "      <th>more_toxic_clean_tweet</th>\n",
       "    </tr>\n",
       "  </thead>\n",
       "  <tbody>\n",
       "    <tr>\n",
       "      <th>30103</th>\n",
       "      <td>461</td>\n",
       "      <td>I'm sorry. I'm not an admin. I will give you t...</td>\n",
       "      <td>get out my large penis</td>\n",
       "      <td>im sorry im not an admin i will give you three...</td>\n",
       "      <td>get out my large penis</td>\n",
       "    </tr>\n",
       "    <tr>\n",
       "      <th>30104</th>\n",
       "      <td>527</td>\n",
       "      <td>I'm sorry. I'm not an admin. I will give you t...</td>\n",
       "      <td>get out my large penis</td>\n",
       "      <td>im sorry im not an admin i will give you three...</td>\n",
       "      <td>get out my large penis</td>\n",
       "    </tr>\n",
       "    <tr>\n",
       "      <th>30105</th>\n",
       "      <td>352</td>\n",
       "      <td>wow...\\nare you out of your mind, how was my e...</td>\n",
       "      <td>Piss off you slant eyed-gook</td>\n",
       "      <td>woware you out of your mind how was my edit on...</td>\n",
       "      <td>piss off you slant eyed gook</td>\n",
       "    </tr>\n",
       "    <tr>\n",
       "      <th>30106</th>\n",
       "      <td>311</td>\n",
       "      <td>wow...\\nare you out of your mind, how was my e...</td>\n",
       "      <td>Piss off you slant eyed-gook</td>\n",
       "      <td>woware you out of your mind how was my edit on...</td>\n",
       "      <td>piss off you slant eyed gook</td>\n",
       "    </tr>\n",
       "    <tr>\n",
       "      <th>30107</th>\n",
       "      <td>54</td>\n",
       "      <td>wow...\\nare you out of your mind, how was my e...</td>\n",
       "      <td>Piss off you slant eyed-gook</td>\n",
       "      <td>woware you out of your mind how was my edit on...</td>\n",
       "      <td>piss off you slant eyed gook</td>\n",
       "    </tr>\n",
       "  </tbody>\n",
       "</table>\n",
       "</div>"
      ],
      "text/plain": [
       "       worker                                         less_toxic  \\\n",
       "30103     461  I'm sorry. I'm not an admin. I will give you t...   \n",
       "30104     527  I'm sorry. I'm not an admin. I will give you t...   \n",
       "30105     352  wow...\\nare you out of your mind, how was my e...   \n",
       "30106     311  wow...\\nare you out of your mind, how was my e...   \n",
       "30107      54  wow...\\nare you out of your mind, how was my e...   \n",
       "\n",
       "                         more_toxic  \\\n",
       "30103        get out my large penis   \n",
       "30104        get out my large penis   \n",
       "30105  Piss off you slant eyed-gook   \n",
       "30106  Piss off you slant eyed-gook   \n",
       "30107  Piss off you slant eyed-gook   \n",
       "\n",
       "                                  less_toxic_clean_tweet  \\\n",
       "30103  im sorry im not an admin i will give you three...   \n",
       "30104  im sorry im not an admin i will give you three...   \n",
       "30105  woware you out of your mind how was my edit on...   \n",
       "30106  woware you out of your mind how was my edit on...   \n",
       "30107  woware you out of your mind how was my edit on...   \n",
       "\n",
       "             more_toxic_clean_tweet  \n",
       "30103        get out my large penis  \n",
       "30104        get out my large penis  \n",
       "30105  piss off you slant eyed gook  \n",
       "30106  piss off you slant eyed gook  \n",
       "30107  piss off you slant eyed gook  "
      ]
     },
     "execution_count": 16,
     "metadata": {},
     "output_type": "execute_result"
    }
   ],
   "source": [
    "# clean the test data and append the cleaned tweets to the test data\n",
    "test_tweet = clean_tweets(test[\"less_toxic\"])\n",
    "test_tweet = pd.DataFrame(test_tweet)\n",
    "# append cleaned tweets to the training data\n",
    "test[\"less_toxic_clean_tweet\"] = test_tweet\n",
    "\n",
    "\n",
    "test_tweet = clean_tweets(test[\"more_toxic\"])\n",
    "test_tweet = pd.DataFrame(test_tweet)\n",
    "# append cleaned tweets to the training data\n",
    "test[\"more_toxic_clean_tweet\"] = test_tweet\n",
    "\n",
    "# compare the cleaned and uncleaned tweets\n",
    "test.tail()\n"
   ]
  },
  {
   "cell_type": "code",
   "execution_count": 17,
   "metadata": {
    "id": "c83rXllE12qD"
   },
   "outputs": [],
   "source": [
    "from sklearn.model_selection import train_test_split\n",
    "\n",
    "# extract the labels from the train data\n",
    "y = train.label.values\n",
    "\n",
    "# use 70% for the training and 30% for the test\n",
    "x_train, x_test, y_train, y_test = train_test_split(train.clean_tweet.values, y, \n",
    "                                                    stratify=y, \n",
    "                                                    random_state=1, \n",
    "                                                    test_size=0.3, shuffle=True)\n",
    "\n",
    "\n"
   ]
  },
  {
   "cell_type": "code",
   "execution_count": 18,
   "metadata": {
    "id": "uVP8iy3t6qtG"
   },
   "outputs": [],
   "source": [
    "from sklearn.feature_extraction.text import CountVectorizer\n",
    "\n",
    "# initalize vectorizer: vectorize tweets for model building\n",
    "vectorizer = CountVectorizer(binary=True, stop_words='english') #stop_words removed: a, the\n",
    "\n",
    "# learn a vocabulary dictionary of all tokens in the raw documents\n",
    "vectorizer.fit(list(x_train) + list(x_test) + list(test[\"less_toxic_clean_tweet\"].values) + \n",
    "               list(test[\"more_toxic_clean_tweet\"].values)) #need to add test_comb.combined_comments.values otherwise the words would not be in the vectorizer \n",
    "\n",
    "# transform documents to document-term matrix\n",
    "x_train_vec = vectorizer.transform(x_train)\n",
    "x_test_vec = vectorizer.transform(x_test)\n",
    "\n",
    "#validation data vectorization\n",
    "# x_val_vec = vectorizer.transform(x_val_sma)\n",
    "# x_val_vec_big = vectorizer.transform(x_val_big)\n",
    "\n",
    "#validate on the lesser data first\n",
    "x_val_less = vectorizer.transform(test[\"less_toxic_clean_tweet\"])\n",
    "x_val_more = vectorizer.transform(test[\"more_toxic_clean_tweet\"])"
   ]
  },
  {
   "cell_type": "code",
   "execution_count": 19,
   "metadata": {
    "colab": {
     "base_uri": "https://localhost:8080/"
    },
    "id": "wke7poCn6tEu",
    "outputId": "166bffa4-774c-4711-d805-5c361dc198b7"
   },
   "outputs": [
    {
     "data": {
      "text/plain": [
       "array([[0.96424967, 0.03575033],\n",
       "       [0.97727368, 0.02272632],\n",
       "       [0.95993825, 0.04006175],\n",
       "       ...,\n",
       "       [0.9834536 , 0.0165464 ],\n",
       "       [0.98072707, 0.01927293],\n",
       "       [0.16830364, 0.83169636]])"
      ]
     },
     "execution_count": 19,
     "metadata": {},
     "output_type": "execute_result"
    }
   ],
   "source": [
    "from sklearn.calibration import CalibratedClassifierCV\n",
    "from sklearn import svm\n",
    "\n",
    "base_clf = svm.SVC(kernel = 'linear', probability=True)\n",
    "\n",
    "base_clf.fit(x_train_vec, y_train)\n",
    "\n",
    "calibrated_clf = CalibratedClassifierCV(\n",
    "     base_estimator=base_clf,\n",
    "     cv=\"prefit\"\n",
    " )\n",
    "\n",
    "calibrated_clf.fit(x_test_vec, y_test) #cv calibration on the \"test\" data which is from the twitter data // same as train\n",
    "\n",
    "\n",
    "calibrated_clf.predict_proba(x_test_vec)\n",
    "\n",
    "\n",
    "\n"
   ]
  },
  {
   "cell_type": "code",
   "execution_count": 20,
   "metadata": {
    "id": "WXmtnTzE6wFG"
   },
   "outputs": [],
   "source": [
    "def prob_cate_diff(more, less):\n",
    "  # find the difference in categorizing less toxic \n",
    "    # 'more' is the countVectorized vector of the more toxic validation data, 'less' is the less toxic countvectorized data\n",
    "  prof_less = pd.DataFrame(prof_check([test[\"less_toxic_clean_tweet\"]])).T \n",
    "  prof_more = pd.DataFrame(prof_check([test[\"more_toxic_clean_tweet\"]])).T \n",
    "    \n",
    "  \n",
    "  y_pred_toxic_prob_less = pd.DataFrame(calibrated_clf.predict_proba(less))[1] +  prof_less + pd.DataFrame(exc_cnt(test[\"less_toxic_clean_tweet\"])) \n",
    "  y_pred_toxic_prob_more = pd.DataFrame(calibrated_clf.predict_proba(more))[1] + prof_more + pd.DataFrame(exc_cnt(test[\"more_toxic_clean_tweet\"]))\n",
    "\n",
    "  # print ( y_pred_toxic_prob_more[:,1], 'less\\' toxic classification prob: ', y_pred_toxic_prob_less[:,1)\n",
    "  print('more - less: ', y_pred_toxic_prob_more - y_pred_toxic_prob_less,\n",
    "        'equal scores: ',y_pred_toxic_prob_more == y_pred_toxic_prob_less)\n",
    "  return y_pred_toxic_prob_more, y_pred_toxic_prob_less\n",
    "  "
   ]
  },
  {
   "cell_type": "code",
   "execution_count": 21,
   "metadata": {
    "id": "gEsTR7Cm618L"
   },
   "outputs": [],
   "source": [
    "prof_less = prof_check([test[\"less_toxic_clean_tweet\"]]) \n",
    "prof_less = np.array(prof_less[0]) #predicted less toxic tweet's profanity prob\n",
    "\n",
    "prof_more = prof_check([test[\"more_toxic_clean_tweet\"]]) \n",
    "prof_more = np.array(prof_more[0])"
   ]
  },
  {
   "cell_type": "code",
   "execution_count": 22,
   "metadata": {
    "id": "qLYXpYyn7eu_"
   },
   "outputs": [],
   "source": [
    "exc_less = exc_cnt(test[\"less_toxic_clean_tweet\"]) #exclamation mark counter if the profanity score is more than 0.5\n",
    "exc_more = exc_cnt(test[\"more_toxic_clean_tweet\"])"
   ]
  },
  {
   "cell_type": "code",
   "execution_count": 23,
   "metadata": {
    "id": "3rh6Z09d7osC"
   },
   "outputs": [],
   "source": [
    "tox_prob_less = calibrated_clf.predict_proba(x_val_less)\n",
    "tox_prob_more = calibrated_clf.predict_proba(x_val_more)\n"
   ]
  },
  {
   "cell_type": "code",
   "execution_count": 24,
   "metadata": {
    "id": "LWVF6ygD8NRn"
   },
   "outputs": [],
   "source": [
    "pred_less = tox_prob_less[:,1] + exc_less + prof_less \n",
    "pred_more = tox_prob_more[:,1] + exc_more + prof_more"
   ]
  },
  {
   "cell_type": "code",
   "execution_count": 25,
   "metadata": {
    "colab": {
     "base_uri": "https://localhost:8080/"
    },
    "id": "y3Bts3vz8Cpo",
    "outputId": "ddc5dcda-7577-43c5-c425-b48f72c22f18"
   },
   "outputs": [
    {
     "data": {
      "text/plain": [
       "1.113654    121\n",
       "0.096645     78\n",
       "1.195993     27\n",
       "0.976475     24\n",
       "1.045991     21\n",
       "           ... \n",
       "0.318351      1\n",
       "0.791408      1\n",
       "0.789489      1\n",
       "0.125583      1\n",
       "0.001122      1\n",
       "Length: 11469, dtype: int64"
      ]
     },
     "execution_count": 25,
     "metadata": {},
     "output_type": "execute_result"
    }
   ],
   "source": [
    "pd.DataFrame(pred_less).value_counts()\n",
    "pd.DataFrame(pred_more).value_counts()"
   ]
  },
  {
   "cell_type": "code",
   "execution_count": 26,
   "metadata": {
    "colab": {
     "base_uri": "https://localhost:8080/"
    },
    "id": "iUvcSCnz3q4U",
    "outputId": "bf880939-fff0-4f48-a127-36c3d3c9e760"
   },
   "outputs": [
    {
     "data": {
      "text/plain": [
       "0    4817.059014\n",
       "dtype: float64"
      ]
     },
     "execution_count": 26,
     "metadata": {},
     "output_type": "execute_result"
    }
   ],
   "source": [
    "pd.DataFrame(pred_more).max()"
   ]
  },
  {
   "cell_type": "code",
   "execution_count": 27,
   "metadata": {
    "colab": {
     "base_uri": "https://localhost:8080/",
     "height": 369
    },
    "id": "qtCvn0oY8h4q",
    "outputId": "8f6c5acc-e498-4592-e107-819c8b897fc2"
   },
   "outputs": [
    {
     "data": {
      "text/plain": [
       "(array([3.0103e+04, 1.0000e+00, 0.0000e+00, 0.0000e+00, 0.0000e+00,\n",
       "        0.0000e+00, 0.0000e+00, 0.0000e+00, 0.0000e+00, 4.0000e+00]),\n",
       " array([1.12189458e-03, 4.94261840e+02, 9.88522559e+02, 1.48278328e+03,\n",
       "        1.97704400e+03, 2.47130471e+03, 2.96556543e+03, 3.45982615e+03,\n",
       "        3.95408687e+03, 4.44834759e+03, 4.94260831e+03]),\n",
       " <BarContainer object of 10 artists>)"
      ]
     },
     "execution_count": 27,
     "metadata": {},
     "output_type": "execute_result"
    },
    {
     "data": {
      "image/png": "[encoded data removed]",
      "text/plain": [
       "<Figure size 432x288 with 1 Axes>"
      ]
     },
     "metadata": {
      "needs_background": "light"
     },
     "output_type": "display_data"
    }
   ],
   "source": [
    "from matplotlib import pyplot as plt \n",
    "\n",
    "plt.hist(pred_less)"
   ]
  },
  {
   "cell_type": "code",
   "execution_count": 28,
   "metadata": {
    "colab": {
     "base_uri": "https://localhost:8080/",
     "height": 369
    },
    "id": "uqSeZXUp8mrQ",
    "outputId": "38e10437-6a2a-418b-abe1-b6434872b1e9"
   },
   "outputs": [
    {
     "data": {
      "text/plain": [
       "(array([3.0074e+04, 2.3000e+01, 3.0000e+00, 0.0000e+00, 0.0000e+00,\n",
       "        0.0000e+00, 0.0000e+00, 0.0000e+00, 0.0000e+00, 8.0000e+00]),\n",
       " array([1.12189458e-03, 4.81706911e+02, 9.63412700e+02, 1.44511849e+03,\n",
       "        1.92682428e+03, 2.40853007e+03, 2.89023586e+03, 3.37194165e+03,\n",
       "        3.85364744e+03, 4.33535322e+03, 4.81705901e+03]),\n",
       " <BarContainer object of 10 artists>)"
      ]
     },
     "execution_count": 28,
     "metadata": {},
     "output_type": "execute_result"
    },
    {
     "data": {
      "image/png": "[encoded data removed]",
      "text/plain": [
       "<Figure size 432x288 with 1 Axes>"
      ]
     },
     "metadata": {
      "needs_background": "light"
     },
     "output_type": "display_data"
    }
   ],
   "source": [
    "from matplotlib import pyplot as plt \n",
    "\n",
    "plt.hist(pred_more)"
   ]
  },
  {
   "cell_type": "code",
   "execution_count": 29,
   "metadata": {
    "colab": {
     "base_uri": "https://localhost:8080/",
     "height": 369
    },
    "id": "7cCyE8Kd8oSv",
    "outputId": "a51490f1-2fe6-46f2-f886-eb77f0d8b020"
   },
   "outputs": [
    {
     "data": {
      "text/plain": [
       "(array([4.000e+00, 0.000e+00, 0.000e+00, 0.000e+00, 2.300e+01, 3.007e+04,\n",
       "        3.000e+00, 0.000e+00, 0.000e+00, 8.000e+00]),\n",
       " array([-4941.65893296, -3965.90510047, -2990.15126799, -2014.3974355 ,\n",
       "        -1038.64360301,   -62.88977053,   912.86406196,  1888.61789445,\n",
       "         2864.37172694,  3840.12555942,  4815.87939191]),\n",
       " <BarContainer object of 10 artists>)"
      ]
     },
     "execution_count": 29,
     "metadata": {},
     "output_type": "execute_result"
    },
    {
     "data": {
      "image/png": "[encoded data removed]",
      "text/plain": [
       "<Figure size 432x288 with 1 Axes>"
      ]
     },
     "metadata": {
      "needs_background": "light"
     },
     "output_type": "display_data"
    }
   ],
   "source": [
    "plt.hist(pred_more - pred_less) #ideally should not have anything below 0 or at 03"
   ]
  },
  {
   "cell_type": "code",
   "execution_count": null,
   "metadata": {
    "id": "7gXtPrZUrxK0"
   },
   "outputs": [],
   "source": []
  }
 ],
 "metadata": {
  "colab": {
   "collapsed_sections": [],
   "name": "offtheshelf.ipynb",
   "provenance": []
  },
  "kernelspec": {
   "display_name": "kaggle_kernel",
   "language": "python",
   "name": "kaggle_kernel"
  },
  "language_info": {
   "codemirror_mode": {
    "name": "ipython",
    "version": 3
   },
   "file_extension": ".py",
   "mimetype": "text/x-python",
   "name": "python",
   "nbconvert_exporter": "python",
   "pygments_lexer": "ipython3",
   "version": "3.8.9"
  }
 },
 "nbformat": 4,
 "nbformat_minor": 1
}
