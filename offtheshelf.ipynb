{
  "nbformat": 4,
  "nbformat_minor": 0,
  "metadata": {
    "colab": {
      "name": "offtheshelf.ipynb",
      "provenance": [],
      "collapsed_sections": []
    },
    "kernelspec": {
      "name": "python3",
      "display_name": "Python 3"
    },
    "language_info": {
      "name": "python"
    }
  },
  "cells": [
    {
      "cell_type": "markdown",
      "source": [
        "# Comment Toxicity Rater\n",
        "- slimmed down from GDrive's ToxicityRater.ipynb (also contains cap letter count)\n",
        "- profanity score + toxic probability (1 being 100% toxic, 0 being not toxic at all) + exclamation mark count (if more than 0.5 profanity score)\n",
        "\n",
        "\n",
        "Resources from: \n",
        "\n",
        "1) https://pypi.org/project/alt-profanity-check/ \n",
        "\n",
        "2) https://github.com/importdata/Twitter-Sentiment-Analysis/blob/master/Twitter_Sentiment_Analysis_Support_Vector_Classifier.ipynb\n"
      ],
      "metadata": {
        "id": "KnUPQ03ozgN6"
      }
    },
    {
      "cell_type": "code",
      "execution_count": null,
      "metadata": {
        "id": "JK2ClqlvzPs7"
      },
      "outputs": [],
      "source": [
        "import sklearn\n",
        "import numpy as np\n",
        "import pandas as pd"
      ]
    },
    {
      "cell_type": "code",
      "source": [
        "!pip install alt-profanity-check\n",
        "!pip install joblib\n",
        "!pip install scikit-learn\n",
        "#install tweet-preprocessor to clean tweets\n",
        "!pip install tweet-preprocessor\n"
      ],
      "metadata": {
        "colab": {
          "base_uri": "https://localhost:8080/"
        },
        "id": "FxYbjQq7zWWX",
        "outputId": "671f24c5-4296-4d65-c9d1-1734a98da290"
      },
      "execution_count": null,
      "outputs": [
        {
          "output_type": "stream",
          "name": "stdout",
          "text": [
            "Collecting alt-profanity-check\n",
            "  Downloading alt-profanity-check-1.0.1.tar.gz (1.9 MB)\n",
            "\u001b[K     |████████████████████████████████| 1.9 MB 10.7 MB/s \n",
            "\u001b[?25hRequirement already satisfied: scikit-learn==1.0.1 in /usr/local/lib/python3.7/dist-packages (from alt-profanity-check) (1.0.1)\n",
            "Requirement already satisfied: joblib>=1.1.0 in /usr/local/lib/python3.7/dist-packages (from alt-profanity-check) (1.1.0)\n",
            "Requirement already satisfied: scipy>=1.1.0 in /usr/local/lib/python3.7/dist-packages (from scikit-learn==1.0.1->alt-profanity-check) (1.4.1)\n",
            "Requirement already satisfied: threadpoolctl>=2.0.0 in /usr/local/lib/python3.7/dist-packages (from scikit-learn==1.0.1->alt-profanity-check) (3.0.0)\n",
            "Requirement already satisfied: numpy>=1.14.6 in /usr/local/lib/python3.7/dist-packages (from scikit-learn==1.0.1->alt-profanity-check) (1.19.5)\n",
            "Building wheels for collected packages: alt-profanity-check\n",
            "  Building wheel for alt-profanity-check (setup.py) ... \u001b[?25l\u001b[?25hdone\n",
            "  Created wheel for alt-profanity-check: filename=alt_profanity_check-1.0.1-py3-none-any.whl size=1865445 sha256=30895504d300556ea48846511ac3cd79a8e454ff5f3ef42c7b55b41769874a87\n",
            "  Stored in directory: /root/.cache/pip/wheels/fa/02/1e/89a3a8fcf8a9507990a6c39951fcb47ee9838cce09e6fdcaed\n",
            "Successfully built alt-profanity-check\n",
            "Installing collected packages: alt-profanity-check\n",
            "Successfully installed alt-profanity-check-1.0.1\n",
            "Requirement already satisfied: joblib in /usr/local/lib/python3.7/dist-packages (1.1.0)\n",
            "Requirement already satisfied: scikit-learn in /usr/local/lib/python3.7/dist-packages (1.0.1)\n",
            "Requirement already satisfied: scipy>=1.1.0 in /usr/local/lib/python3.7/dist-packages (from scikit-learn) (1.4.1)\n",
            "Requirement already satisfied: threadpoolctl>=2.0.0 in /usr/local/lib/python3.7/dist-packages (from scikit-learn) (3.0.0)\n",
            "Requirement already satisfied: joblib>=0.11 in /usr/local/lib/python3.7/dist-packages (from scikit-learn) (1.1.0)\n",
            "Requirement already satisfied: numpy>=1.14.6 in /usr/local/lib/python3.7/dist-packages (from scikit-learn) (1.19.5)\n",
            "Collecting tweet-preprocessor\n",
            "  Downloading tweet_preprocessor-0.6.0-py3-none-any.whl (27 kB)\n",
            "Installing collected packages: tweet-preprocessor\n",
            "Successfully installed tweet-preprocessor-0.6.0\n"
          ]
        }
      ]
    },
    {
      "cell_type": "code",
      "source": [
        "# remove special characters using the regular expression library\n",
        "import re\n",
        "\n",
        "#set up punctuations we want to be replaced\n",
        "REPLACE_NO_SPACE = re.compile(\"(\\.)|(\\;)|(\\:)|(\\!)|(\\')|(\\?)|(\\,)|(\\\")|(\\|)|(\\()|(\\))|(\\[)|(\\])|(\\%)|(\\$)|(\\>)|(\\<)|(\\{)|(\\})\")\n",
        "REPLACE_WITH_SPACE = re.compile(\"(<br\\s/><br\\s/?)|(-)|(/)|(:).\")"
      ],
      "metadata": {
        "id": "YBi80m2m0wO4"
      },
      "execution_count": null,
      "outputs": []
    },
    {
      "cell_type": "code",
      "source": [
        "import preprocessor as p\n",
        "\n",
        "# custum function to clean the dataset (combining tweet_preprocessor and reguar expression)\n",
        "def clean_tweets(df):\n",
        "  tempArr = []\n",
        "  for line in df:\n",
        "    # send to tweet_processor\n",
        "    tmpL = p.clean(line)\n",
        "    # remove puctuation\n",
        "    tmpL = REPLACE_NO_SPACE.sub(\"\", tmpL.lower()) # convert all tweets to lower cases\n",
        "    tmpL = REPLACE_WITH_SPACE.sub(\" \", tmpL)\n",
        "    tempArr.append(tmpL)\n",
        "  return tempArr"
      ],
      "metadata": {
        "id": "NsFs8bzc0ylC"
      },
      "execution_count": null,
      "outputs": []
    },
    {
      "cell_type": "code",
      "source": [
        "####modified from https://github.com/importdata/Twitter-Sentiment-Analysis/blob/master/Twitter_Sentiment_Analysis_Support_Vector_Classifier.ipynb\n",
        "\n",
        "# training twitter data\n",
        "train = pd.read_csv(\"/content/train.csv\")\n",
        "\n",
        "#train wiki data\n",
        "# train_wiki = pd.read_csv(\"/content/train_wiki.csv\")\n",
        "\n",
        "# test data\n",
        "test = pd.read_csv(\"/content/validation_data.csv\")"
      ],
      "metadata": {
        "id": "jdxdQ2Fz00L3"
      },
      "execution_count": null,
      "outputs": []
    },
    {
      "cell_type": "code",
      "source": [
        "# train.head()\n",
        "# test.tail()\n",
        "# train.tail()\n",
        "# check if there are any missing values\n",
        "# train.isnull().sum()\n",
        "#train.isnull().values.any()\n"
      ],
      "metadata": {
        "id": "j-XcSsDU03Lf"
      },
      "execution_count": null,
      "outputs": []
    },
    {
      "cell_type": "code",
      "source": [
        "from profanity_check import predict_prob\n",
        "\n",
        "def exc_cnt(df):\n",
        "  #shorter function using python for counting exclamation marks \n",
        "  return [len(re.findall(r'\\!', line)) if predict_prob([line])>0.5 else 0 for line in df ] #if there is a filter condition, can do an 'if' after df\n"
      ],
      "metadata": {
        "id": "w_V2JOoI_f8R"
      },
      "execution_count": null,
      "outputs": []
    },
    {
      "cell_type": "code",
      "source": [
        "from profanity_check import predict_prob\n",
        "\n",
        "def prof_check(df):\n",
        "  profa_list = []\n",
        "  for line in df:\n",
        "    profa_list.append(predict_prob (line))\n",
        "\n",
        "  return profa_list\n"
      ],
      "metadata": {
        "id": "tBhtQYS6X6V-"
      },
      "execution_count": null,
      "outputs": []
    },
    {
      "cell_type": "code",
      "source": [
        "# clean training data\n",
        "train_tweet = clean_tweets(train[\"tweet\"])\n",
        "train_tweet = pd.DataFrame(train_tweet)"
      ],
      "metadata": {
        "id": "3_94auNg1EbB"
      },
      "execution_count": null,
      "outputs": []
    },
    {
      "cell_type": "code",
      "source": [
        "# append cleaned tweets, exclamation mark counter to the training data\n",
        "train[\"clean_tweet\"] = train_tweet\n",
        "\n",
        "# compare the cleaned and uncleaned tweets\n",
        "train.tail(15)"
      ],
      "metadata": {
        "colab": {
          "base_uri": "https://localhost:8080/",
          "height": 520
        },
        "id": "LwKYeado1XuD",
        "outputId": "301124f2-d91b-4705-f99f-bb36d11f3dd0"
      },
      "execution_count": null,
      "outputs": [
        {
          "output_type": "execute_result",
          "data": {
            "text/html": [
              "\n",
              "  <div id=\"df-16c29ee9-db1d-4bf3-870a-dd617a366216\">\n",
              "    <div class=\"colab-df-container\">\n",
              "      <div>\n",
              "<style scoped>\n",
              "    .dataframe tbody tr th:only-of-type {\n",
              "        vertical-align: middle;\n",
              "    }\n",
              "\n",
              "    .dataframe tbody tr th {\n",
              "        vertical-align: top;\n",
              "    }\n",
              "\n",
              "    .dataframe thead th {\n",
              "        text-align: right;\n",
              "    }\n",
              "</style>\n",
              "<table border=\"1\" class=\"dataframe\">\n",
              "  <thead>\n",
              "    <tr style=\"text-align: right;\">\n",
              "      <th></th>\n",
              "      <th>id</th>\n",
              "      <th>label</th>\n",
              "      <th>tweet</th>\n",
              "      <th>clean_tweet</th>\n",
              "    </tr>\n",
              "  </thead>\n",
              "  <tbody>\n",
              "    <tr>\n",
              "      <th>31947</th>\n",
              "      <td>31948</td>\n",
              "      <td>1</td>\n",
              "      <td>@user @user you don't have the balls to hashta...</td>\n",
              "      <td>you dont have the balls to hashtag me as a but...</td>\n",
              "    </tr>\n",
              "    <tr>\n",
              "      <th>31948</th>\n",
              "      <td>31949</td>\n",
              "      <td>1</td>\n",
              "      <td>makes you ask yourself, who am i? then am i a...</td>\n",
              "      <td>makes you ask yourself who am i then am i anyb...</td>\n",
              "    </tr>\n",
              "    <tr>\n",
              "      <th>31949</th>\n",
              "      <td>31950</td>\n",
              "      <td>0</td>\n",
              "      <td>hear one of my new songs! don't go - katie ell...</td>\n",
              "      <td>hear one of my new songs dont go   katie ellie</td>\n",
              "    </tr>\n",
              "    <tr>\n",
              "      <th>31950</th>\n",
              "      <td>31951</td>\n",
              "      <td>0</td>\n",
              "      <td>@user you can try to 'tail' us to stop, 'butt...</td>\n",
              "      <td>you can try to tail us to stop butt were just ...</td>\n",
              "    </tr>\n",
              "    <tr>\n",
              "      <th>31951</th>\n",
              "      <td>31952</td>\n",
              "      <td>0</td>\n",
              "      <td>i've just posted a new blog: #secondlife #lone...</td>\n",
              "      <td>ive just posted a new blog</td>\n",
              "    </tr>\n",
              "    <tr>\n",
              "      <th>31952</th>\n",
              "      <td>31953</td>\n",
              "      <td>0</td>\n",
              "      <td>@user you went too far with @user</td>\n",
              "      <td>you went too far with</td>\n",
              "    </tr>\n",
              "    <tr>\n",
              "      <th>31953</th>\n",
              "      <td>31954</td>\n",
              "      <td>0</td>\n",
              "      <td>good morning #instagram #shower #water #berlin...</td>\n",
              "      <td>good morning</td>\n",
              "    </tr>\n",
              "    <tr>\n",
              "      <th>31954</th>\n",
              "      <td>31955</td>\n",
              "      <td>0</td>\n",
              "      <td>#holiday   bull up: you will dominate your bul...</td>\n",
              "      <td>bull up you will dominate your bull and you wi...</td>\n",
              "    </tr>\n",
              "    <tr>\n",
              "      <th>31955</th>\n",
              "      <td>31956</td>\n",
              "      <td>0</td>\n",
              "      <td>less than 2 weeks ððð¼ð¹ððµ @us...</td>\n",
              "      <td>less than weeks</td>\n",
              "    </tr>\n",
              "    <tr>\n",
              "      <th>31956</th>\n",
              "      <td>31957</td>\n",
              "      <td>0</td>\n",
              "      <td>off fishing tomorrow @user carnt wait first ti...</td>\n",
              "      <td>off fishing tomorrow carnt wait first time in ...</td>\n",
              "    </tr>\n",
              "    <tr>\n",
              "      <th>31957</th>\n",
              "      <td>31958</td>\n",
              "      <td>0</td>\n",
              "      <td>ate @user isz that youuu?ðððððð...</td>\n",
              "      <td>ate isz that youuu</td>\n",
              "    </tr>\n",
              "    <tr>\n",
              "      <th>31958</th>\n",
              "      <td>31959</td>\n",
              "      <td>0</td>\n",
              "      <td>to see nina turner on the airwaves trying to...</td>\n",
              "      <td>to see nina turner on the airwaves trying to w...</td>\n",
              "    </tr>\n",
              "    <tr>\n",
              "      <th>31959</th>\n",
              "      <td>31960</td>\n",
              "      <td>0</td>\n",
              "      <td>listening to sad songs on a monday morning otw...</td>\n",
              "      <td>listening to sad songs on a monday morning otw...</td>\n",
              "    </tr>\n",
              "    <tr>\n",
              "      <th>31960</th>\n",
              "      <td>31961</td>\n",
              "      <td>1</td>\n",
              "      <td>@user #sikh #temple vandalised in in #calgary,...</td>\n",
              "      <td>vandalised in in  condemns act</td>\n",
              "    </tr>\n",
              "    <tr>\n",
              "      <th>31961</th>\n",
              "      <td>31962</td>\n",
              "      <td>0</td>\n",
              "      <td>thank you @user for you follow</td>\n",
              "      <td>thank you for you follow</td>\n",
              "    </tr>\n",
              "  </tbody>\n",
              "</table>\n",
              "</div>\n",
              "      <button class=\"colab-df-convert\" onclick=\"convertToInteractive('df-16c29ee9-db1d-4bf3-870a-dd617a366216')\"\n",
              "              title=\"Convert this dataframe to an interactive table.\"\n",
              "              style=\"display:none;\">\n",
              "        \n",
              "  <svg xmlns=\"http://www.w3.org/2000/svg\" height=\"24px\"viewBox=\"0 0 24 24\"\n",
              "       width=\"24px\">\n",
              "    <path d=\"M0 0h24v24H0V0z\" fill=\"none\"/>\n",
              "    <path d=\"M18.56 5.44l.94 2.06.94-2.06 2.06-.94-2.06-.94-.94-2.06-.94 2.06-2.06.94zm-11 1L8.5 8.5l.94-2.06 2.06-.94-2.06-.94L8.5 2.5l-.94 2.06-2.06.94zm10 10l.94 2.06.94-2.06 2.06-.94-2.06-.94-.94-2.06-.94 2.06-2.06.94z\"/><path d=\"M17.41 7.96l-1.37-1.37c-.4-.4-.92-.59-1.43-.59-.52 0-1.04.2-1.43.59L10.3 9.45l-7.72 7.72c-.78.78-.78 2.05 0 2.83L4 21.41c.39.39.9.59 1.41.59.51 0 1.02-.2 1.41-.59l7.78-7.78 2.81-2.81c.8-.78.8-2.07 0-2.86zM5.41 20L4 18.59l7.72-7.72 1.47 1.35L5.41 20z\"/>\n",
              "  </svg>\n",
              "      </button>\n",
              "      \n",
              "  <style>\n",
              "    .colab-df-container {\n",
              "      display:flex;\n",
              "      flex-wrap:wrap;\n",
              "      gap: 12px;\n",
              "    }\n",
              "\n",
              "    .colab-df-convert {\n",
              "      background-color: #E8F0FE;\n",
              "      border: none;\n",
              "      border-radius: 50%;\n",
              "      cursor: pointer;\n",
              "      display: none;\n",
              "      fill: #1967D2;\n",
              "      height: 32px;\n",
              "      padding: 0 0 0 0;\n",
              "      width: 32px;\n",
              "    }\n",
              "\n",
              "    .colab-df-convert:hover {\n",
              "      background-color: #E2EBFA;\n",
              "      box-shadow: 0px 1px 2px rgba(60, 64, 67, 0.3), 0px 1px 3px 1px rgba(60, 64, 67, 0.15);\n",
              "      fill: #174EA6;\n",
              "    }\n",
              "\n",
              "    [theme=dark] .colab-df-convert {\n",
              "      background-color: #3B4455;\n",
              "      fill: #D2E3FC;\n",
              "    }\n",
              "\n",
              "    [theme=dark] .colab-df-convert:hover {\n",
              "      background-color: #434B5C;\n",
              "      box-shadow: 0px 1px 3px 1px rgba(0, 0, 0, 0.15);\n",
              "      filter: drop-shadow(0px 1px 2px rgba(0, 0, 0, 0.3));\n",
              "      fill: #FFFFFF;\n",
              "    }\n",
              "  </style>\n",
              "\n",
              "      <script>\n",
              "        const buttonEl =\n",
              "          document.querySelector('#df-16c29ee9-db1d-4bf3-870a-dd617a366216 button.colab-df-convert');\n",
              "        buttonEl.style.display =\n",
              "          google.colab.kernel.accessAllowed ? 'block' : 'none';\n",
              "\n",
              "        async function convertToInteractive(key) {\n",
              "          const element = document.querySelector('#df-16c29ee9-db1d-4bf3-870a-dd617a366216');\n",
              "          const dataTable =\n",
              "            await google.colab.kernel.invokeFunction('convertToInteractive',\n",
              "                                                     [key], {});\n",
              "          if (!dataTable) return;\n",
              "\n",
              "          const docLinkHtml = 'Like what you see? Visit the ' +\n",
              "            '<a target=\"_blank\" href=https://colab.research.google.com/notebooks/data_table.ipynb>data table notebook</a>'\n",
              "            + ' to learn more about interactive tables.';\n",
              "          element.innerHTML = '';\n",
              "          dataTable['output_type'] = 'display_data';\n",
              "          await google.colab.output.renderOutput(dataTable, element);\n",
              "          const docLink = document.createElement('div');\n",
              "          docLink.innerHTML = docLinkHtml;\n",
              "          element.appendChild(docLink);\n",
              "        }\n",
              "      </script>\n",
              "    </div>\n",
              "  </div>\n",
              "  "
            ],
            "text/plain": [
              "          id  ...                                        clean_tweet\n",
              "31947  31948  ...  you dont have the balls to hashtag me as a but...\n",
              "31948  31949  ...  makes you ask yourself who am i then am i anyb...\n",
              "31949  31950  ...     hear one of my new songs dont go   katie ellie\n",
              "31950  31951  ...  you can try to tail us to stop butt were just ...\n",
              "31951  31952  ...                         ive just posted a new blog\n",
              "31952  31953  ...                              you went too far with\n",
              "31953  31954  ...                                       good morning\n",
              "31954  31955  ...  bull up you will dominate your bull and you wi...\n",
              "31955  31956  ...                                    less than weeks\n",
              "31956  31957  ...  off fishing tomorrow carnt wait first time in ...\n",
              "31957  31958  ...                                 ate isz that youuu\n",
              "31958  31959  ...  to see nina turner on the airwaves trying to w...\n",
              "31959  31960  ...  listening to sad songs on a monday morning otw...\n",
              "31960  31961  ...                     vandalised in in  condemns act\n",
              "31961  31962  ...                           thank you for you follow\n",
              "\n",
              "[15 rows x 4 columns]"
            ]
          },
          "metadata": {},
          "execution_count": 10
        }
      ]
    },
    {
      "cell_type": "code",
      "source": [
        "# clean the test data and append the cleaned tweets to the test data\n",
        "test_tweet = clean_tweets(test[\"less_toxic\"])\n",
        "test_tweet = pd.DataFrame(test_tweet)\n",
        "# append cleaned tweets to the training data\n",
        "test[\"less_toxic_clean_tweet\"] = test_tweet\n",
        "\n",
        "\n",
        "test_tweet = clean_tweets(test[\"more_toxic\"])\n",
        "test_tweet = pd.DataFrame(test_tweet)\n",
        "# append cleaned tweets to the training data\n",
        "test[\"more_toxic_clean_tweet\"] = test_tweet\n",
        "\n",
        "# compare the cleaned and uncleaned tweets\n",
        "test.tail()\n"
      ],
      "metadata": {
        "colab": {
          "base_uri": "https://localhost:8080/",
          "height": 337
        },
        "id": "QiznJSpT1xsz",
        "outputId": "5569cc2d-5634-4d10-cdec-48f7c80e6e0e"
      },
      "execution_count": null,
      "outputs": [
        {
          "output_type": "execute_result",
          "data": {
            "text/html": [
              "\n",
              "  <div id=\"df-3ab595d7-0310-458e-8ff8-af04d5e8ce30\">\n",
              "    <div class=\"colab-df-container\">\n",
              "      <div>\n",
              "<style scoped>\n",
              "    .dataframe tbody tr th:only-of-type {\n",
              "        vertical-align: middle;\n",
              "    }\n",
              "\n",
              "    .dataframe tbody tr th {\n",
              "        vertical-align: top;\n",
              "    }\n",
              "\n",
              "    .dataframe thead th {\n",
              "        text-align: right;\n",
              "    }\n",
              "</style>\n",
              "<table border=\"1\" class=\"dataframe\">\n",
              "  <thead>\n",
              "    <tr style=\"text-align: right;\">\n",
              "      <th></th>\n",
              "      <th>worker</th>\n",
              "      <th>less_toxic</th>\n",
              "      <th>more_toxic</th>\n",
              "      <th>less_toxic_clean_tweet</th>\n",
              "      <th>more_toxic_clean_tweet</th>\n",
              "    </tr>\n",
              "  </thead>\n",
              "  <tbody>\n",
              "    <tr>\n",
              "      <th>30103</th>\n",
              "      <td>461</td>\n",
              "      <td>I'm sorry. I'm not an admin. I will give you t...</td>\n",
              "      <td>get out my large penis</td>\n",
              "      <td>im sorry im not an admin i will give you three...</td>\n",
              "      <td>get out my large penis</td>\n",
              "    </tr>\n",
              "    <tr>\n",
              "      <th>30104</th>\n",
              "      <td>527</td>\n",
              "      <td>I'm sorry. I'm not an admin. I will give you t...</td>\n",
              "      <td>get out my large penis</td>\n",
              "      <td>im sorry im not an admin i will give you three...</td>\n",
              "      <td>get out my large penis</td>\n",
              "    </tr>\n",
              "    <tr>\n",
              "      <th>30105</th>\n",
              "      <td>352</td>\n",
              "      <td>wow...\\nare you out of your mind, how was my e...</td>\n",
              "      <td>Piss off you slant eyed-gook</td>\n",
              "      <td>woware you out of your mind how was my edit on...</td>\n",
              "      <td>piss off you slant eyed gook</td>\n",
              "    </tr>\n",
              "    <tr>\n",
              "      <th>30106</th>\n",
              "      <td>311</td>\n",
              "      <td>wow...\\nare you out of your mind, how was my e...</td>\n",
              "      <td>Piss off you slant eyed-gook</td>\n",
              "      <td>woware you out of your mind how was my edit on...</td>\n",
              "      <td>piss off you slant eyed gook</td>\n",
              "    </tr>\n",
              "    <tr>\n",
              "      <th>30107</th>\n",
              "      <td>54</td>\n",
              "      <td>wow...\\nare you out of your mind, how was my e...</td>\n",
              "      <td>Piss off you slant eyed-gook</td>\n",
              "      <td>woware you out of your mind how was my edit on...</td>\n",
              "      <td>piss off you slant eyed gook</td>\n",
              "    </tr>\n",
              "  </tbody>\n",
              "</table>\n",
              "</div>\n",
              "      <button class=\"colab-df-convert\" onclick=\"convertToInteractive('df-3ab595d7-0310-458e-8ff8-af04d5e8ce30')\"\n",
              "              title=\"Convert this dataframe to an interactive table.\"\n",
              "              style=\"display:none;\">\n",
              "        \n",
              "  <svg xmlns=\"http://www.w3.org/2000/svg\" height=\"24px\"viewBox=\"0 0 24 24\"\n",
              "       width=\"24px\">\n",
              "    <path d=\"M0 0h24v24H0V0z\" fill=\"none\"/>\n",
              "    <path d=\"M18.56 5.44l.94 2.06.94-2.06 2.06-.94-2.06-.94-.94-2.06-.94 2.06-2.06.94zm-11 1L8.5 8.5l.94-2.06 2.06-.94-2.06-.94L8.5 2.5l-.94 2.06-2.06.94zm10 10l.94 2.06.94-2.06 2.06-.94-2.06-.94-.94-2.06-.94 2.06-2.06.94z\"/><path d=\"M17.41 7.96l-1.37-1.37c-.4-.4-.92-.59-1.43-.59-.52 0-1.04.2-1.43.59L10.3 9.45l-7.72 7.72c-.78.78-.78 2.05 0 2.83L4 21.41c.39.39.9.59 1.41.59.51 0 1.02-.2 1.41-.59l7.78-7.78 2.81-2.81c.8-.78.8-2.07 0-2.86zM5.41 20L4 18.59l7.72-7.72 1.47 1.35L5.41 20z\"/>\n",
              "  </svg>\n",
              "      </button>\n",
              "      \n",
              "  <style>\n",
              "    .colab-df-container {\n",
              "      display:flex;\n",
              "      flex-wrap:wrap;\n",
              "      gap: 12px;\n",
              "    }\n",
              "\n",
              "    .colab-df-convert {\n",
              "      background-color: #E8F0FE;\n",
              "      border: none;\n",
              "      border-radius: 50%;\n",
              "      cursor: pointer;\n",
              "      display: none;\n",
              "      fill: #1967D2;\n",
              "      height: 32px;\n",
              "      padding: 0 0 0 0;\n",
              "      width: 32px;\n",
              "    }\n",
              "\n",
              "    .colab-df-convert:hover {\n",
              "      background-color: #E2EBFA;\n",
              "      box-shadow: 0px 1px 2px rgba(60, 64, 67, 0.3), 0px 1px 3px 1px rgba(60, 64, 67, 0.15);\n",
              "      fill: #174EA6;\n",
              "    }\n",
              "\n",
              "    [theme=dark] .colab-df-convert {\n",
              "      background-color: #3B4455;\n",
              "      fill: #D2E3FC;\n",
              "    }\n",
              "\n",
              "    [theme=dark] .colab-df-convert:hover {\n",
              "      background-color: #434B5C;\n",
              "      box-shadow: 0px 1px 3px 1px rgba(0, 0, 0, 0.15);\n",
              "      filter: drop-shadow(0px 1px 2px rgba(0, 0, 0, 0.3));\n",
              "      fill: #FFFFFF;\n",
              "    }\n",
              "  </style>\n",
              "\n",
              "      <script>\n",
              "        const buttonEl =\n",
              "          document.querySelector('#df-3ab595d7-0310-458e-8ff8-af04d5e8ce30 button.colab-df-convert');\n",
              "        buttonEl.style.display =\n",
              "          google.colab.kernel.accessAllowed ? 'block' : 'none';\n",
              "\n",
              "        async function convertToInteractive(key) {\n",
              "          const element = document.querySelector('#df-3ab595d7-0310-458e-8ff8-af04d5e8ce30');\n",
              "          const dataTable =\n",
              "            await google.colab.kernel.invokeFunction('convertToInteractive',\n",
              "                                                     [key], {});\n",
              "          if (!dataTable) return;\n",
              "\n",
              "          const docLinkHtml = 'Like what you see? Visit the ' +\n",
              "            '<a target=\"_blank\" href=https://colab.research.google.com/notebooks/data_table.ipynb>data table notebook</a>'\n",
              "            + ' to learn more about interactive tables.';\n",
              "          element.innerHTML = '';\n",
              "          dataTable['output_type'] = 'display_data';\n",
              "          await google.colab.output.renderOutput(dataTable, element);\n",
              "          const docLink = document.createElement('div');\n",
              "          docLink.innerHTML = docLinkHtml;\n",
              "          element.appendChild(docLink);\n",
              "        }\n",
              "      </script>\n",
              "    </div>\n",
              "  </div>\n",
              "  "
            ],
            "text/plain": [
              "       worker  ...        more_toxic_clean_tweet\n",
              "30103     461  ...        get out my large penis\n",
              "30104     527  ...        get out my large penis\n",
              "30105     352  ...  piss off you slant eyed gook\n",
              "30106     311  ...  piss off you slant eyed gook\n",
              "30107      54  ...  piss off you slant eyed gook\n",
              "\n",
              "[5 rows x 5 columns]"
            ]
          },
          "metadata": {},
          "execution_count": 11
        }
      ]
    },
    {
      "cell_type": "code",
      "source": [
        "from sklearn.model_selection import train_test_split\n",
        "\n",
        "# extract the labels from the train data\n",
        "y = train.label.values\n",
        "\n",
        "# use 70% for the training and 30% for the test\n",
        "x_train, x_test, y_train, y_test = train_test_split(train.clean_tweet.values, y, \n",
        "                                                    stratify=y, \n",
        "                                                    random_state=1, \n",
        "                                                    test_size=0.3, shuffle=True)\n",
        "\n",
        "\n"
      ],
      "metadata": {
        "id": "c83rXllE12qD"
      },
      "execution_count": null,
      "outputs": []
    },
    {
      "cell_type": "code",
      "source": [
        "from sklearn.feature_extraction.text import CountVectorizer\n",
        "\n",
        "# initalize vectorizer: vectorize tweets for model building\n",
        "vectorizer = CountVectorizer(binary=True, stop_words='english') #stop_words removed: a, the\n",
        "\n",
        "# learn a vocabulary dictionary of all tokens in the raw documents\n",
        "vectorizer.fit(list(x_train) + list(x_test) + list(test[\"less_toxic_clean_tweet\"].values) + \n",
        "               list(test[\"more_toxic_clean_tweet\"].values)) #need to add test_comb.combined_comments.values otherwise the words would not be in the vectorizer \n",
        "\n",
        "# transform documents to document-term matrix\n",
        "x_train_vec = vectorizer.transform(x_train)\n",
        "x_test_vec = vectorizer.transform(x_test)\n",
        "\n",
        "#validation data vectorization\n",
        "# x_val_vec = vectorizer.transform(x_val_sma)\n",
        "# x_val_vec_big = vectorizer.transform(x_val_big)\n",
        "\n",
        "#validate on the lesser data first\n",
        "x_val_less = vectorizer.transform(test[\"less_toxic_clean_tweet\"])\n",
        "x_val_more = vectorizer.transform(test[\"more_toxic_clean_tweet\"])"
      ],
      "metadata": {
        "id": "uVP8iy3t6qtG"
      },
      "execution_count": null,
      "outputs": []
    },
    {
      "cell_type": "code",
      "source": [
        "from sklearn.calibration import CalibratedClassifierCV\n",
        "from sklearn import svm\n",
        "\n",
        "base_clf = svm.SVC(kernel = 'linear', probability=True)\n",
        "\n",
        "base_clf.fit(x_train_vec, y_train)\n",
        "\n",
        "calibrated_clf = CalibratedClassifierCV(\n",
        "     base_estimator=base_clf,\n",
        "     cv=\"prefit\"\n",
        " )\n",
        "\n",
        "calibrated_clf.fit(x_test_vec, y_test) #cv calibration on the \"test\" data which is from the twitter data // same as train\n",
        "\n",
        "\n",
        "calibrated_clf.predict_proba(x_test_vec)\n",
        "\n",
        "\n",
        "\n"
      ],
      "metadata": {
        "colab": {
          "base_uri": "https://localhost:8080/"
        },
        "id": "wke7poCn6tEu",
        "outputId": "166bffa4-774c-4711-d805-5c361dc198b7"
      },
      "execution_count": null,
      "outputs": [
        {
          "output_type": "execute_result",
          "data": {
            "text/plain": [
              "array([[0.96426293, 0.03573707],\n",
              "       [0.98091665, 0.01908335],\n",
              "       [0.96020923, 0.03979077],\n",
              "       ...,\n",
              "       [0.98365919, 0.01634081],\n",
              "       [0.98082999, 0.01917001],\n",
              "       [0.16764257, 0.83235743]])"
            ]
          },
          "metadata": {},
          "execution_count": 14
        }
      ]
    },
    {
      "cell_type": "code",
      "source": [
        "def prob_cate_diff(more, less):\n",
        "  # find the difference in categorizing less toxic \n",
        "    # 'more' is the countVectorized vector of the more toxic validation data, 'less' is the less toxic countvectorized data\n",
        "  prof_less = pd.DataFrame(prof_check([test[\"less_toxic_clean_tweet\"]])).T \n",
        "  prof_more = pd.DataFrame(prof_check([test[\"more_toxic_clean_tweet\"]])).T \n",
        "    \n",
        "  \n",
        "  y_pred_toxic_prob_less = pd.DataFrame(calibrated_clf.predict_proba(less))[1] +  prof_less + pd.DataFrame(exc_cnt(test[\"less_toxic_clean_tweet\"])) \n",
        "  y_pred_toxic_prob_more = pd.DataFrame(calibrated_clf.predict_proba(more))[1] + prof_more + pd.DataFrame(exc_cnt(test[\"more_toxic_clean_tweet\"]))\n",
        "\n",
        "  # print ( y_pred_toxic_prob_more[:,1], 'less\\' toxic classification prob: ', y_pred_toxic_prob_less[:,1)\n",
        "  print('more - less: ', y_pred_toxic_prob_more - y_pred_toxic_prob_less,\n",
        "        'equal scores: ',y_pred_toxic_prob_more == y_pred_toxic_prob_less)\n",
        "  return y_pred_toxic_prob_more, y_pred_toxic_prob_less\n",
        "  "
      ],
      "metadata": {
        "id": "WXmtnTzE6wFG"
      },
      "execution_count": null,
      "outputs": []
    },
    {
      "cell_type": "code",
      "source": [
        "prof_less = prof_check([test[\"less_toxic_clean_tweet\"]]) \n",
        "prof_less = np.array(prof_less[0]) #predicted less toxic tweet's profanity prob\n",
        "\n",
        "prof_more = prof_check([test[\"more_toxic_clean_tweet\"]]) \n",
        "prof_more = np.array(prof_more[0])"
      ],
      "metadata": {
        "id": "gEsTR7Cm618L"
      },
      "execution_count": null,
      "outputs": []
    },
    {
      "cell_type": "code",
      "source": [
        "exc_less = exc_cnt(test[\"less_toxic_clean_tweet\"]) #exclamation mark counter if the profanity score is more than 0.5\n",
        "exc_more = exc_cnt(test[\"more_toxic_clean_tweet\"])"
      ],
      "metadata": {
        "id": "qLYXpYyn7eu_"
      },
      "execution_count": null,
      "outputs": []
    },
    {
      "cell_type": "code",
      "source": [
        "tox_prob_less = calibrated_clf.predict_proba(x_val_less)\n",
        "tox_prob_more = calibrated_clf.predict_proba(x_val_more)\n"
      ],
      "metadata": {
        "id": "3rh6Z09d7osC"
      },
      "execution_count": null,
      "outputs": []
    },
    {
      "cell_type": "code",
      "source": [
        "pred_less = tox_prob_less[:,1] + exc_less + prof_less \n",
        "pred_more = tox_prob_more[:,1] + exc_more + prof_more"
      ],
      "metadata": {
        "id": "LWVF6ygD8NRn"
      },
      "execution_count": null,
      "outputs": []
    },
    {
      "cell_type": "code",
      "source": [
        "pd.DataFrame(pred_less).value_counts()\n",
        "pd.DataFrame(pred_more).value_counts()"
      ],
      "metadata": {
        "colab": {
          "base_uri": "https://localhost:8080/"
        },
        "id": "y3Bts3vz8Cpo",
        "outputId": "ddc5dcda-7577-43c5-c425-b48f72c22f18"
      },
      "execution_count": null,
      "outputs": [
        {
          "output_type": "execute_result",
          "data": {
            "text/plain": [
              "1.113668    135\n",
              "0.096890     82\n",
              "0.975711     32\n",
              "1.239179     32\n",
              "1.196328     27\n",
              "           ... \n",
              "0.417782      1\n",
              "0.416905      1\n",
              "0.416446      1\n",
              "0.416080      1\n",
              "0.001098      1\n",
              "Length: 11437, dtype: int64"
            ]
          },
          "metadata": {},
          "execution_count": 20
        }
      ]
    },
    {
      "cell_type": "code",
      "source": [
        "pd.DataFrame(pred_more).max()"
      ],
      "metadata": {
        "colab": {
          "base_uri": "https://localhost:8080/"
        },
        "id": "iUvcSCnz3q4U",
        "outputId": "bf880939-fff0-4f48-a127-36c3d3c9e760"
      },
      "execution_count": null,
      "outputs": [
        {
          "output_type": "execute_result",
          "data": {
            "text/plain": [
              "0    1.999999\n",
              "dtype: float64"
            ]
          },
          "metadata": {},
          "execution_count": 21
        }
      ]
    },
    {
      "cell_type": "code",
      "source": [
        "from matplotlib import pyplot as plt \n",
        "\n",
        "plt.hist(pred_less)"
      ],
      "metadata": {
        "colab": {
          "base_uri": "https://localhost:8080/",
          "height": 369
        },
        "id": "qtCvn0oY8h4q",
        "outputId": "8f6c5acc-e498-4592-e107-819c8b897fc2"
      },
      "execution_count": null,
      "outputs": [
        {
          "output_type": "execute_result",
          "data": {
            "text/plain": [
              "(array([10156.,  4704.,  3423.,  2718.,  3202.,  3774.,   948.,   511.,\n",
              "          362.,   310.]),\n",
              " array([1.09849407e-03, 2.00988498e-01, 4.00878503e-01, 6.00768507e-01,\n",
              "        8.00658512e-01, 1.00054852e+00, 1.20043852e+00, 1.40032852e+00,\n",
              "        1.60021853e+00, 1.80010853e+00, 1.99999854e+00]),\n",
              " <a list of 10 Patch objects>)"
            ]
          },
          "metadata": {},
          "execution_count": 22
        },
        {
          "output_type": "display_data",
          "data": {
            "image/png": "[encoded data removed]",
            "text/plain": [
              "<Figure size 432x288 with 1 Axes>"
            ]
          },
          "metadata": {
            "needs_background": "light"
          }
        }
      ]
    },
    {
      "cell_type": "code",
      "source": [
        "from matplotlib import pyplot as plt \n",
        "\n",
        "plt.hist(pred_more)"
      ],
      "metadata": {
        "colab": {
          "base_uri": "https://localhost:8080/",
          "height": 369
        },
        "id": "uqSeZXUp8mrQ",
        "outputId": "38e10437-6a2a-418b-abe1-b6434872b1e9"
      },
      "execution_count": null,
      "outputs": [
        {
          "output_type": "execute_result",
          "data": {
            "text/plain": [
              "(array([5400., 3391., 2777., 2610., 3924., 7353., 1891., 1137.,  751.,\n",
              "         874.]),\n",
              " array([1.09849407e-03, 2.00988498e-01, 4.00878503e-01, 6.00768507e-01,\n",
              "        8.00658512e-01, 1.00054852e+00, 1.20043852e+00, 1.40032852e+00,\n",
              "        1.60021853e+00, 1.80010853e+00, 1.99999854e+00]),\n",
              " <a list of 10 Patch objects>)"
            ]
          },
          "metadata": {},
          "execution_count": 23
        },
        {
          "output_type": "display_data",
          "data": {
            "image/png": "[encoded data removed]",
            "text/plain": [
              "<Figure size 432x288 with 1 Axes>"
            ]
          },
          "metadata": {
            "needs_background": "light"
          }
        }
      ]
    },
    {
      "cell_type": "code",
      "source": [
        "plt.hist(pred_more - pred_less) #ideally should not have anything below 0 or at 03"
      ],
      "metadata": {
        "colab": {
          "base_uri": "https://localhost:8080/",
          "height": 369
        },
        "id": "7cCyE8Kd8oSv",
        "outputId": "a51490f1-2fe6-46f2-f886-eb77f0d8b020"
      },
      "execution_count": null,
      "outputs": [
        {
          "output_type": "execute_result",
          "data": {
            "text/plain": [
              "(array([ 120.,  300., 1621., 2850., 5645., 7222., 5697., 4932., 1152.,\n",
              "         569.]),\n",
              " array([-1.98380065, -1.58704052, -1.19028039, -0.79352026, -0.39676013,\n",
              "         0.        ,  0.39676013,  0.79352026,  1.19028039,  1.58704052,\n",
              "         1.98380065]),\n",
              " <a list of 10 Patch objects>)"
            ]
          },
          "metadata": {},
          "execution_count": 24
        },
        {
          "output_type": "display_data",
          "data": {
            "image/png": "[encoded data removed]",
            "text/plain": [
              "<Figure size 432x288 with 1 Axes>"
            ]
          },
          "metadata": {
            "needs_background": "light"
          }
        }
      ]
    },
    {
      "cell_type": "code",
      "source": [
        ""
      ],
      "metadata": {
        "id": "7gXtPrZUrxK0"
      },
      "execution_count": null,
      "outputs": []
    }
  ]
}